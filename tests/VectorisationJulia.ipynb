{
 "cells": [
  {
   "cell_type": "code",
   "execution_count": 4,
   "metadata": {},
   "outputs": [],
   "source": [
    "using LinearAlgebra"
   ]
  },
  {
   "cell_type": "code",
   "execution_count": 9,
   "metadata": {},
   "outputs": [
    {
     "data": {
      "text/plain": [
       "3×3 Matrix{Int64}:\n",
       " 1  2  3\n",
       " 4  5  6\n",
       " 7  8  9"
      ]
     },
     "execution_count": 9,
     "metadata": {},
     "output_type": "execute_result"
    }
   ],
   "source": [
    "ρ = [1 2 3; 4 5 6 ; 7 8 9]"
   ]
  },
  {
   "cell_type": "code",
   "execution_count": 29,
   "metadata": {},
   "outputs": [
    {
     "data": {
      "text/plain": [
       "(3, 3)"
      ]
     },
     "execution_count": 29,
     "metadata": {},
     "output_type": "execute_result"
    }
   ],
   "source": [
    "size(ρ)"
   ]
  },
  {
   "cell_type": "code",
   "execution_count": 10,
   "metadata": {},
   "outputs": [
    {
     "data": {
      "text/plain": [
       "9-element Vector{Int64}:\n",
       " 1\n",
       " 4\n",
       " 7\n",
       " 2\n",
       " 5\n",
       " 8\n",
       " 3\n",
       " 6\n",
       " 9"
      ]
     },
     "execution_count": 10,
     "metadata": {},
     "output_type": "execute_result"
    }
   ],
   "source": [
    "r = vec(ρ)"
   ]
  },
  {
   "cell_type": "code",
   "execution_count": 11,
   "metadata": {},
   "outputs": [
    {
     "data": {
      "text/plain": [
       "3×3 Matrix{Int64}:\n",
       " 1  2  3\n",
       " 4  5  6\n",
       " 7  8  9"
      ]
     },
     "execution_count": 11,
     "metadata": {},
     "output_type": "execute_result"
    }
   ],
   "source": [
    "reshape(r, (3,3))"
   ]
  },
  {
   "cell_type": "code",
   "execution_count": 24,
   "metadata": {},
   "outputs": [
    {
     "data": {
      "text/plain": [
       "unvectorize (generic function with 1 method)"
      ]
     },
     "execution_count": 24,
     "metadata": {},
     "output_type": "execute_result"
    }
   ],
   "source": [
    "function vectorize(x)\n",
    "    return vec(x)\n",
    "end\n",
    "\n",
    "function unvectorize(x)\n",
    "    # Assumes the input object to be a reshapable to a square matrix.\n",
    "    d = trunc(Int, sqrt(length(x)))\n",
    "    return reshape(x, (d,d))\n",
    "end\n"
   ]
  },
  {
   "cell_type": "code",
   "execution_count": 25,
   "metadata": {},
   "outputs": [
    {
     "data": {
      "text/plain": [
       "3×3 Matrix{Int64}:\n",
       " 1  2  3\n",
       " 4  5  6\n",
       " 7  8  9"
      ]
     },
     "execution_count": 25,
     "metadata": {},
     "output_type": "execute_result"
    }
   ],
   "source": [
    "ρ = [1 2 3; 4 5 6 ; 7 8 9]"
   ]
  },
  {
   "cell_type": "code",
   "execution_count": 26,
   "metadata": {},
   "outputs": [
    {
     "data": {
      "text/plain": [
       "9-element Vector{Int64}:\n",
       " 1\n",
       " 4\n",
       " 7\n",
       " 2\n",
       " 5\n",
       " 8\n",
       " 3\n",
       " 6\n",
       " 9"
      ]
     },
     "execution_count": 26,
     "metadata": {},
     "output_type": "execute_result"
    }
   ],
   "source": [
    "vectorize(ρ)"
   ]
  },
  {
   "cell_type": "code",
   "execution_count": 27,
   "metadata": {},
   "outputs": [
    {
     "data": {
      "text/plain": [
       "3×3 Matrix{Int64}:\n",
       " 1  2  3\n",
       " 4  5  6\n",
       " 7  8  9"
      ]
     },
     "execution_count": 27,
     "metadata": {},
     "output_type": "execute_result"
    }
   ],
   "source": [
    "unvectorize(vectorize(ρ))"
   ]
  },
  {
   "cell_type": "code",
   "execution_count": 30,
   "metadata": {},
   "outputs": [
    {
     "data": {
      "text/plain": [
       "conjugate_matrix (generic function with 1 method)"
      ]
     },
     "execution_count": 30,
     "metadata": {},
     "output_type": "execute_result"
    }
   ],
   "source": [
    "function conjugate_matrix(x)\n",
    "    return conj.(x)\n",
    "end"
   ]
  },
  {
   "cell_type": "code",
   "execution_count": 42,
   "metadata": {},
   "outputs": [
    {
     "data": {
      "text/plain": [
       "lindblad_operator_to_vectorized_form (generic function with 1 method)"
      ]
     },
     "execution_count": 42,
     "metadata": {},
     "output_type": "execute_result"
    }
   ],
   "source": [
    "function lindblad_operator_to_vectorized_form(L)\n",
    "    d = size(L)[1]\n",
    "    ide = Matrix{Float64}(I, d, d)\n",
    "    return kron(conjugate_matrix(L), L) - 0.5 * kron(transpose(L' * L), ide) - 0.5 * kron(ide, L' * L)\n",
    "end"
   ]
  },
  {
   "cell_type": "code",
   "execution_count": 44,
   "metadata": {},
   "outputs": [
    {
     "data": {
      "text/plain": [
       "unitary_evolution_to_vectorized_form (generic function with 1 method)"
      ]
     },
     "execution_count": 44,
     "metadata": {},
     "output_type": "execute_result"
    }
   ],
   "source": [
    "function unitary_evolution_to_vectorized_form(H)\n",
    "    d = size(H)[1]\n",
    "    ide = Matrix{Float64}(I, d, d)\n",
    "    return - 1im * (kron(ide, H) -  kron(transpose(H), ide))\n",
    "end"
   ]
  },
  {
   "cell_type": "code",
   "execution_count": 45,
   "metadata": {},
   "outputs": [
    {
     "data": {
      "text/plain": [
       "liouvillian (generic function with 1 method)"
      ]
     },
     "execution_count": 45,
     "metadata": {},
     "output_type": "execute_result"
    }
   ],
   "source": [
    "function liouvillian(H, C_l)\n",
    "    L = unitary_evolution_to_vectorized_form(H)\n",
    "    for C in C_l\n",
    "        L += lindblad_operator_to_vectorized_form(C)\n",
    "    end\n",
    "    return L\n",
    "end"
   ]
  },
  {
   "cell_type": "code",
   "execution_count": 46,
   "metadata": {},
   "outputs": [
    {
     "data": {
      "text/plain": [
       "adjoint_liouvillian (generic function with 1 method)"
      ]
     },
     "execution_count": 46,
     "metadata": {},
     "output_type": "execute_result"
    }
   ],
   "source": [
    "function adjoint_liouvillian(H, C_l)\n",
    "    d = size(H)[1]\n",
    "    ide = Matrix{Float64}(I, d, d)\n",
    "\n",
    "    hamiltonian_part = 1im * kron(ide, H) - 1im * kron(transpose(H), ide)\n",
    "    L_dagger = hamiltonian_part\n",
    "\n",
    "    for C in C_l\n",
    "        L_dagger += kron(transpose(L), L') - 0.5 * kron(transpose(L' * L), ide) - 0.5 * kron(ide, L' * L)\n",
    "    end\n",
    "\n",
    "    return L_dagger\n",
    "end"
   ]
  },
  {
   "cell_type": "code",
   "execution_count": 7,
   "metadata": {},
   "outputs": [
    {
     "data": {
      "text/plain": [
       "gillespie_partial_monitoring (generic function with 2 methods)"
      ]
     },
     "execution_count": 7,
     "metadata": {},
     "output_type": "execute_result"
    }
   ],
   "source": [
    "function gillespie_partial_monitoring(\n",
    "    H::Matrix{ComplexF64},\n",
    "    M_l::Vector{Matrix{ComplexF64}},\n",
    "    S_l::Vector{Matrix{ComplexF64}},\n",
    "    ρ0::Matrix{ComplexF64},\n",
    "    t_final::Float64,\n",
    "    dt::Float64,\n",
    "    number_trajectories::Int64,\n",
    "    verbose::Bool=false)\n",
    "\n",
    "    # Range of times.\n",
    "    t_range = 0.:dt:t_final\n",
    "\n",
    "    # M_l is the list of jumps corresponding to monitored channels.\n",
    "    # S_l is the list of jumps corresponding to un-monitored channels.\n",
    "\n",
    "    # Creates the appropriate identity matrix.\n",
    "    d = size(H)[1]\n",
    "    ide = Matrix{Float64}(I, d, d)\n",
    "\n",
    "    # Creates the J operator.\n",
    "    J = zero(ide)\n",
    "    # Cycle over the monitored operators.\n",
    "    for M in M_l\n",
    "        J += M' * M\n",
    "    end\n",
    "\n",
    "    # Vectorized version of J.\n",
    "    vect_J = vectorize(J)\n",
    "\n",
    "    # Vectorized form of L_0.\n",
    "    # Hamiltonian part.\n",
    "    vect_L0 = -1im * kron(ide, H) + 1im * kron(transpose(H), ide)\n",
    "    # Cycle over the un-monitored operators.\n",
    "    for S in S_l\n",
    "        vect_L0 += kron(conj.(S), S) - 0.5 * kron(ide, S' * S) - 0.5 * (transpose(S' * S), ide)\n",
    "    end\n",
    "    # Cycle over the monitored operators.\n",
    "    for M in M_l\n",
    "        vect_L0 += - 0.5 * kron(ide, M' * M) - 0.5 * kron(transpose(M' * M), ide)\n",
    "    end\n",
    "    \n",
    "    # Vectorized form of L_0^\\dagger.\n",
    "    # Hamiltonian part.\n",
    "    vect_L0_dagger = 1im * kron(ide, H) - 1im * kron(transpose(H), ide)\n",
    "    # Cycle over the un-monitored operators.\n",
    "    for S in S_l\n",
    "        vect_L0_dagger += kron(transpose(S), S') - 0.5 * kron(transpose(S' * S), ide) - 0.5 * kron(ide, S' * S)\n",
    "    end\n",
    "    # Cycle over the monitored operators.\n",
    "    for M in M_l\n",
    "        vect_L0_dagger += - 0.5 * kron(transpose(M' * M), ide) - 0.5 * kron(ide, M' * M)\n",
    "    end\n",
    "\n",
    "    # Pre-computation stage.\n",
    "    # Creates the list of the no-jump evolution operators and the non-state dependent part of the waiting time distribution.\n",
    "    V = Matrix{ComplexF64}[] \n",
    "    Qs = Matrix{ComplexF64}[]\n",
    "    for t in t_range\n",
    "        ev_op = exp(vect_L0 * t)\n",
    "        push!(V, ev_op)\n",
    "        nsd_wtd = unvectorize(exp(vect_L0_dagger * t) * vect_J)\n",
    "        push!(Qs, nsd_wtd)\n",
    "    end\n",
    "\n",
    "    # TODO: Some way of quantifying the error (like the norm of the latest Qs in the normal version)\n",
    "\n",
    "    # Vector for the results of the computation.\n",
    "    trajectories_results = Array{Dict{String, Any}}[]\n",
    "\n",
    "    # Cycle over the trajectories.\n",
    "    for trajectory in 1:number_trajectories\n",
    "        # Initial state.\n",
    "        ρ = ρ0\n",
    "        # Absolute time.\n",
    "        τ = 0\n",
    "\n",
    "        # Creates the array of results for the single trajectory, and pushes the initial state as a fictitious fist jump.\n",
    "        results = Dict{String, Any}[]\n",
    "        dict_initial = Dict(\"AbsTime\" => 0,\n",
    "            \"TimeSinceLast\" => 0,\n",
    "            \"JumpChannel\" => nothing,\n",
    "            \"ρAfter\" => ρ0)\n",
    "        push!(results, dict_initial)\n",
    "\n",
    "        while τ < t_final \n",
    "            dict_jump = Dict()\n",
    "\n",
    "            # Compute the waiting time distribution, exploiting the pre-computed part.\n",
    "            Ps = Float64[]\n",
    "            for Q in Qs\n",
    "                wtd =  tr(Q * ρ)\n",
    "                push!(Ps, wtd)\n",
    "            end\n",
    "\n",
    "            # Sample from the waiting time distribution.\n",
    "            n_T = sample(1:length(t_range), Weights(Ps))\n",
    "\n",
    "            # Increase the absolute time.\n",
    "            τ += t_range[n_T]\n",
    "            merge!(dict_jump, Dict(\"AbsTime\" => τ, \"TimeSinceLast\" => t_range[n_T]))\n",
    "\n",
    "            # Update the state.\n",
    "            vect_ρ = V[n_T] * vectorize(ρ)\n",
    "            ρ = unvectorize(vect_ρ)\n",
    "            # Chooses where to jump.\n",
    "            weights = Float64[]\n",
    "            for M in M_l\n",
    "                weight = real(tr(M' * M * ρ))\n",
    "                push(weights, weight)\n",
    "            end\n",
    "            n_jump = sample(1:lenght(M_l), Weights(weights))\n",
    "            merge!(dict_jump, Dict(\"JumpChannel\" => n_jump))\n",
    "            # Update the state after the jump.\n",
    "            ρ = M_l[n_jump] * ρ * (M_l[n_jump])'\n",
    "            norm_state = real(tr(ρ))\n",
    "            # Renormalize the state.\n",
    "            ρ = ρ / norm_state\n",
    "            merge!(dict_jump, Dict(\"ρAfter\" => ψ))\n",
    "\n",
    "            if verbose\n",
    "                println(string(dict_jump))\n",
    "            end\n",
    "\n",
    "            push!(results, dict_jump)\n",
    "        end\n",
    "\n",
    "        push!(trajectories_results, results)\n",
    "    end\n",
    "\n",
    "    return trajectories_results, V, t_range\n",
    "end"
   ]
  },
  {
   "cell_type": "code",
   "execution_count": null,
   "metadata": {},
   "outputs": [],
   "source": []
  }
 ],
 "metadata": {
  "kernelspec": {
   "display_name": "Julia 1.7.2",
   "language": "julia",
   "name": "julia-1.7"
  },
  "language_info": {
   "file_extension": ".jl",
   "mimetype": "application/julia",
   "name": "julia",
   "version": "1.7.2"
  },
  "orig_nbformat": 4
 },
 "nbformat": 4,
 "nbformat_minor": 2
}
