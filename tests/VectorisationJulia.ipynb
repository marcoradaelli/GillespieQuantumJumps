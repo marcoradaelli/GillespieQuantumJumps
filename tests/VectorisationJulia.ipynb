{
 "cells": [
  {
   "cell_type": "code",
   "execution_count": 24,
   "metadata": {},
   "outputs": [],
   "source": [
    "using LinearAlgebra\n",
    "using Random\n",
    "using StatsBase\n",
    "using Plots\n",
    "using Gillespie\n"
   ]
  },
  {
   "cell_type": "code",
   "execution_count": 45,
   "metadata": {},
   "outputs": [
    {
     "data": {
      "text/plain": [
       "find_nearest (generic function with 1 method)"
      ]
     },
     "execution_count": 45,
     "metadata": {},
     "output_type": "execute_result"
    }
   ],
   "source": [
    "function find_nearest(a,x)\n",
    "    length(a) > 0 || return 0:-1\n",
    "    r = searchsorted(a,x)\n",
    "    length(r) > 0 && return r\n",
    "    last(r) < 1 && return searchsorted(a,a[first(r)])\n",
    "    first(r) > length(a) && return searchsorted(a,a[last(r)])\n",
    "    x-a[last(r)] < a[first(r)]-x && return searchsorted(a,a[last(r)])\n",
    "    x-a[last(r)] > a[first(r)]-x && return searchsorted(a,a[first(r)])\n",
    "    return first(searchsorted(a,a[last(r)])):last(searchsorted(a,a[first(r)]))\n",
    "end"
   ]
  },
  {
   "cell_type": "code",
   "execution_count": 25,
   "metadata": {},
   "outputs": [
    {
     "data": {
      "text/plain": [
       "3×3 Matrix{Int64}:\n",
       " 1  2  3\n",
       " 4  5  6\n",
       " 7  8  9"
      ]
     },
     "execution_count": 25,
     "metadata": {},
     "output_type": "execute_result"
    }
   ],
   "source": [
    "ρ = [1 2 3; 4 5 6 ; 7 8 9]"
   ]
  },
  {
   "cell_type": "code",
   "execution_count": 26,
   "metadata": {},
   "outputs": [
    {
     "data": {
      "text/plain": [
       "(3, 3)"
      ]
     },
     "execution_count": 26,
     "metadata": {},
     "output_type": "execute_result"
    }
   ],
   "source": [
    "size(ρ)"
   ]
  },
  {
   "cell_type": "code",
   "execution_count": 27,
   "metadata": {},
   "outputs": [
    {
     "data": {
      "text/plain": [
       "9-element Vector{Int64}:\n",
       " 1\n",
       " 4\n",
       " 7\n",
       " 2\n",
       " 5\n",
       " 8\n",
       " 3\n",
       " 6\n",
       " 9"
      ]
     },
     "execution_count": 27,
     "metadata": {},
     "output_type": "execute_result"
    }
   ],
   "source": [
    "r = vec(ρ)"
   ]
  },
  {
   "cell_type": "code",
   "execution_count": 28,
   "metadata": {},
   "outputs": [
    {
     "data": {
      "text/plain": [
       "3×3 Matrix{Int64}:\n",
       " 1  2  3\n",
       " 4  5  6\n",
       " 7  8  9"
      ]
     },
     "execution_count": 28,
     "metadata": {},
     "output_type": "execute_result"
    }
   ],
   "source": [
    "reshape(r, (3,3))"
   ]
  },
  {
   "cell_type": "code",
   "execution_count": 29,
   "metadata": {},
   "outputs": [
    {
     "data": {
      "text/plain": [
       "unvectorize (generic function with 1 method)"
      ]
     },
     "execution_count": 29,
     "metadata": {},
     "output_type": "execute_result"
    }
   ],
   "source": [
    "function vectorize(x)\n",
    "    return vec(x)\n",
    "end\n",
    "\n",
    "function unvectorize(x)\n",
    "    # Assumes the input object to be a reshapable to a square matrix.\n",
    "    d = trunc(Int, sqrt(length(x)))\n",
    "    return reshape(x, (d,d))\n",
    "end\n"
   ]
  },
  {
   "cell_type": "code",
   "execution_count": 30,
   "metadata": {},
   "outputs": [
    {
     "data": {
      "text/plain": [
       "3×3 Matrix{Int64}:\n",
       " 1  2  3\n",
       " 4  5  6\n",
       " 7  8  9"
      ]
     },
     "execution_count": 30,
     "metadata": {},
     "output_type": "execute_result"
    }
   ],
   "source": [
    "ρ = [1 2 3; 4 5 6 ; 7 8 9]"
   ]
  },
  {
   "cell_type": "code",
   "execution_count": 31,
   "metadata": {},
   "outputs": [
    {
     "data": {
      "text/plain": [
       "9-element Vector{Int64}:\n",
       " 1\n",
       " 4\n",
       " 7\n",
       " 2\n",
       " 5\n",
       " 8\n",
       " 3\n",
       " 6\n",
       " 9"
      ]
     },
     "execution_count": 31,
     "metadata": {},
     "output_type": "execute_result"
    }
   ],
   "source": [
    "vectorize(ρ)"
   ]
  },
  {
   "cell_type": "code",
   "execution_count": 32,
   "metadata": {},
   "outputs": [
    {
     "data": {
      "text/plain": [
       "3×3 Matrix{Int64}:\n",
       " 1  2  3\n",
       " 4  5  6\n",
       " 7  8  9"
      ]
     },
     "execution_count": 32,
     "metadata": {},
     "output_type": "execute_result"
    }
   ],
   "source": [
    "unvectorize(vectorize(ρ))"
   ]
  },
  {
   "cell_type": "code",
   "execution_count": 33,
   "metadata": {},
   "outputs": [
    {
     "data": {
      "text/plain": [
       "conjugate_matrix (generic function with 1 method)"
      ]
     },
     "execution_count": 33,
     "metadata": {},
     "output_type": "execute_result"
    }
   ],
   "source": [
    "function conjugate_matrix(x)\n",
    "    return conj.(x)\n",
    "end"
   ]
  },
  {
   "cell_type": "code",
   "execution_count": 34,
   "metadata": {},
   "outputs": [
    {
     "data": {
      "text/plain": [
       "lindblad_operator_to_vectorized_form (generic function with 1 method)"
      ]
     },
     "execution_count": 34,
     "metadata": {},
     "output_type": "execute_result"
    }
   ],
   "source": [
    "function lindblad_operator_to_vectorized_form(L)\n",
    "    d = size(L)[1]\n",
    "    ide = Matrix{Float64}(I, d, d)\n",
    "    return kron(conjugate_matrix(L), L) - 0.5 * kron(transpose(L' * L), ide) - 0.5 * kron(ide, L' * L)\n",
    "end"
   ]
  },
  {
   "cell_type": "code",
   "execution_count": 35,
   "metadata": {},
   "outputs": [
    {
     "data": {
      "text/plain": [
       "unitary_evolution_to_vectorized_form (generic function with 1 method)"
      ]
     },
     "execution_count": 35,
     "metadata": {},
     "output_type": "execute_result"
    }
   ],
   "source": [
    "function unitary_evolution_to_vectorized_form(H)\n",
    "    d = size(H)[1]\n",
    "    ide = Matrix{Float64}(I, d, d)\n",
    "    return - 1im * (kron(ide, H) -  kron(transpose(H), ide))\n",
    "end"
   ]
  },
  {
   "cell_type": "code",
   "execution_count": 36,
   "metadata": {},
   "outputs": [
    {
     "data": {
      "text/plain": [
       "liouvillian (generic function with 1 method)"
      ]
     },
     "execution_count": 36,
     "metadata": {},
     "output_type": "execute_result"
    }
   ],
   "source": [
    "function liouvillian(H, C_l)\n",
    "    L = unitary_evolution_to_vectorized_form(H)\n",
    "    for C in C_l\n",
    "        L += lindblad_operator_to_vectorized_form(C)\n",
    "    end\n",
    "    return L\n",
    "end"
   ]
  },
  {
   "cell_type": "code",
   "execution_count": 37,
   "metadata": {},
   "outputs": [
    {
     "data": {
      "text/plain": [
       "adjoint_liouvillian (generic function with 1 method)"
      ]
     },
     "execution_count": 37,
     "metadata": {},
     "output_type": "execute_result"
    }
   ],
   "source": [
    "function adjoint_liouvillian(H, C_l)\n",
    "    d = size(H)[1]\n",
    "    ide = Matrix{Float64}(I, d, d)\n",
    "\n",
    "    hamiltonian_part = 1im * kron(ide, H) - 1im * kron(transpose(H), ide)\n",
    "    L_dagger = hamiltonian_part\n",
    "\n",
    "    for C in C_l\n",
    "        L_dagger += kron(transpose(L), L') - 0.5 * kron(transpose(L' * L), ide) - 0.5 * kron(ide, L' * L)\n",
    "    end\n",
    "\n",
    "    return L_dagger\n",
    "end"
   ]
  },
  {
   "cell_type": "code",
   "execution_count": 38,
   "metadata": {},
   "outputs": [
    {
     "data": {
      "text/plain": [
       "gillespie_partial_monitoring (generic function with 2 methods)"
      ]
     },
     "execution_count": 38,
     "metadata": {},
     "output_type": "execute_result"
    }
   ],
   "source": [
    "function gillespie_partial_monitoring(\n",
    "    H::Matrix{ComplexF64},\n",
    "    M_l::Vector{Matrix{ComplexF64}},\n",
    "    S_l::Vector{Matrix{ComplexF64}},\n",
    "    ρ0::Matrix{ComplexF64},\n",
    "    t_final::Float64,\n",
    "    dt::Float64,\n",
    "    number_trajectories::Int64,\n",
    "    verbose::Bool=false)\n",
    "\n",
    "    # Range of times.\n",
    "    t_range = 0.:dt:t_final\n",
    "\n",
    "    # M_l is the list of jumps corresponding to monitored channels.\n",
    "    # S_l is the list of jumps corresponding to un-monitored channels.\n",
    "\n",
    "    # Creates the appropriate identity matrix.\n",
    "    d = size(H)[1]\n",
    "    ide = Matrix{Float64}(I, d, d)\n",
    "\n",
    "    # Creates the J operator.\n",
    "    J = zero(ide)\n",
    "    # Cycle over the monitored operators.\n",
    "    for M in M_l\n",
    "        J += M' * M\n",
    "    end\n",
    "\n",
    "    # Vectorized version of J.\n",
    "    vect_J = vectorize(J)\n",
    "\n",
    "    # Vectorized form of L_0.\n",
    "    # Hamiltonian part.\n",
    "    vect_L0 = -1im * kron(ide, H) + 1im * kron(transpose(H), ide)\n",
    "    # Cycle over the un-monitored operators.\n",
    "    for S in S_l\n",
    "        vect_L0 += kron(conj.(S), S) - 0.5 * kron(ide, S' * S) - 0.5 * (transpose(S' * S), ide)\n",
    "    end\n",
    "    # Cycle over the monitored operators.\n",
    "    for M in M_l\n",
    "        vect_L0 += - 0.5 * kron(ide, M' * M) - 0.5 * kron(transpose(M' * M), ide)\n",
    "    end\n",
    "    \n",
    "    # Vectorized form of L_0^\\dagger.\n",
    "    # Hamiltonian part.\n",
    "    vect_L0_dagger = 1im * kron(ide, H) - 1im * kron(transpose(H), ide)\n",
    "    # Cycle over the un-monitored operators.\n",
    "    for S in S_l\n",
    "        vect_L0_dagger += kron(transpose(S), S') - 0.5 * kron(transpose(S' * S), ide) - 0.5 * kron(ide, S' * S)\n",
    "    end\n",
    "    # Cycle over the monitored operators.\n",
    "    for M in M_l\n",
    "        vect_L0_dagger += - 0.5 * kron(transpose(M' * M), ide) - 0.5 * kron(ide, M' * M)\n",
    "    end\n",
    "\n",
    "    # Pre-computation stage.\n",
    "    # Creates the list of the no-jump evolution operators and the non-state dependent part of the waiting time distribution.\n",
    "    V = Matrix{ComplexF64}[] \n",
    "    Qs = Matrix{ComplexF64}[]\n",
    "    for t in t_range\n",
    "        ev_op = exp(vect_L0 * t)\n",
    "        push!(V, ev_op)\n",
    "        nsd_wtd = unvectorize(exp(vect_L0_dagger * t) * vect_J)\n",
    "        push!(Qs, nsd_wtd)\n",
    "    end\n",
    "\n",
    "    # TODO: Some way of quantifying the error (like the norm of the latest Qs in the normal version)\n",
    "\n",
    "    # Vector for the results of the computation.\n",
    "    trajectories_results = Array{Dict{String, Any}}[]\n",
    "\n",
    "    # Cycle over the trajectories.\n",
    "    for trajectory in 1:number_trajectories\n",
    "        # Initial state.\n",
    "        ρ = ρ0\n",
    "        # Absolute time.\n",
    "        τ = 0\n",
    "\n",
    "        # Creates the array of results for the single trajectory, and pushes the initial state as a fictitious fist jump.\n",
    "        results = Dict{String, Any}[]\n",
    "        dict_initial = Dict(\"AbsTime\" => 0,\n",
    "            \"TimeSinceLast\" => 0,\n",
    "            \"JumpChannel\" => nothing,\n",
    "            \"ρAfter\" => ρ0)\n",
    "        push!(results, dict_initial)\n",
    "\n",
    "        while τ < t_final \n",
    "            dict_jump = Dict()\n",
    "\n",
    "            # Compute the waiting time distribution, exploiting the pre-computed part.\n",
    "            Ps = Float64[]\n",
    "            for Q in Qs\n",
    "                wtd =  real(tr(Q * ρ))\n",
    "                push!(Ps, wtd)\n",
    "            end\n",
    "\n",
    "            # Sample from the waiting time distribution.\n",
    "            n_T = sample(1:length(t_range), Weights(Ps))\n",
    "\n",
    "            # Increase the absolute time.\n",
    "            τ += t_range[n_T]\n",
    "            merge!(dict_jump, Dict(\"AbsTime\" => τ, \"TimeSinceLast\" => t_range[n_T]))\n",
    "\n",
    "            # Update the state.\n",
    "            vect_ρ = V[n_T] * vectorize(ρ)\n",
    "            ρ = unvectorize(vect_ρ)\n",
    "            # Chooses where to jump.\n",
    "            weights = Float64[]\n",
    "            for M in M_l\n",
    "                weight = real(tr(M' * M * ρ))\n",
    "                push!(weights, weight)\n",
    "            end\n",
    "            n_jump = sample(1:length(M_l), Weights(weights))\n",
    "            merge!(dict_jump, Dict(\"JumpChannel\" => n_jump))\n",
    "            # Update the state after the jump.\n",
    "            ρ = M_l[n_jump] * ρ * (M_l[n_jump])'\n",
    "            norm_state = real(tr(ρ))\n",
    "            # Renormalize the state.\n",
    "            ρ = ρ / norm_state\n",
    "            merge!(dict_jump, Dict(\"ρAfter\" => ρ))\n",
    "\n",
    "            if verbose\n",
    "                println(string(dict_jump))\n",
    "            end\n",
    "\n",
    "            push!(results, dict_jump)\n",
    "        end\n",
    "\n",
    "        push!(trajectories_results, results)\n",
    "    end\n",
    "\n",
    "    return trajectories_results, V, t_range\n",
    "end"
   ]
  },
  {
   "cell_type": "code",
   "execution_count": 60,
   "metadata": {},
   "outputs": [],
   "source": [
    "# Model parameters.\n",
    "ωA = 0.\n",
    "ωB = 1.\n",
    "ΩA = 0.\n",
    "ΩB = 1.\n",
    "γ = 0.1\n",
    "g = 0\n",
    "\n",
    "# Initial state.\n",
    "ψ0_A = complex(float([1 ; 0]))\n",
    "ψ0_B = complex(float([1 ; 0]))\n",
    "ψ0 = kron(ψ0_A, ψ0_B)\n",
    "\n",
    "ρ0 = ψ0 * ψ0'\n",
    "\n",
    "# Simulation parameters.\n",
    "t_final = 50.\n",
    "dt = 0.01\n",
    "number_trajectories = 1000\n",
    "\n",
    "# Operators.\n",
    "σx = complex(float([0 1 ; 1 0]))\n",
    "σy = complex(float([0 -1im ; 1im 0]))\n",
    "σz = complex(float([1 0 ; 0 -1]))\n",
    "ide = complex(float([1 0 ; 0 1]))\n",
    "σp = (σx + 1im * σy)/2\n",
    "σ = σp'\n",
    "# Tensorized versions.\n",
    "σ_A = kron(σ, ide)\n",
    "σ_B = kron(ide, σ)\n",
    "σx_A = kron(σx, ide)\n",
    "σx_B = kron(ide, σx)\n",
    "σz_A = kron(σz, ide)\n",
    "σz_B = kron(ide, σz)\n",
    "\n",
    "# Hamiltonian.\n",
    "H = ωA * σz_A + ωB * σz_B + ΩA * σx_A + ΩB * σx_B + g * (σ_A * σ_B' + σ_A' * σ_B)\n",
    "\n",
    "# Jump operator.\n",
    "M = sqrt(γ) * σ_B\n",
    "\n",
    "# The jump operators have to be passed as lists.\n",
    "M_l = [M];\n",
    "\n",
    "# No monitoring vector.\n",
    "S_l = Matrix{ComplexF64}[]\n",
    "\n",
    "trajectories_results, V, t_range = gillespie_partial_monitoring(H, M_l, S_l, ρ0, t_final, dt,number_trajectories);"
   ]
  },
  {
   "cell_type": "code",
   "execution_count": 61,
   "metadata": {},
   "outputs": [
    {
     "data": {
      "text/plain": [
       "Dict{String, Any} with 4 entries:\n",
       "  \"JumpChannel\"   => 1\n",
       "  \"AbsTime\"       => 6.67\n",
       "  \"TimeSinceLast\" => 6.67\n",
       "  \"ρAfter\"        => ComplexF64[0.0+0.0im 0.0+0.0im 0.0+0.0im 0.0+0.0im; 0.0+0.…"
      ]
     },
     "execution_count": 61,
     "metadata": {},
     "output_type": "execute_result"
    }
   ],
   "source": [
    "trajectories_results[1][2]"
   ]
  },
  {
   "cell_type": "code",
   "execution_count": null,
   "metadata": {},
   "outputs": [
    {
     "data": {
      "text/plain": [
       "10000-element Vector{Any}:\n",
       "  4.34\n",
       "  4.16\n",
       " 24.57\n",
       "  8.68\n",
       " 24.55\n",
       "  0.0\n",
       " 24.54\n",
       " 22.78\n",
       "  1.89\n",
       "  1.92\n",
       " 10.22\n",
       "  6.85\n",
       "  3.68\n",
       "  ⋮\n",
       "  8.29\n",
       " 10.48\n",
       " 19.49\n",
       " 22.1\n",
       "  0.88\n",
       " 17.48\n",
       " 13.2\n",
       "  2.94\n",
       " 26.19\n",
       "  0.66\n",
       "  4.37\n",
       "  0.19"
      ]
     },
     "execution_count": 41,
     "metadata": {},
     "output_type": "execute_result"
    }
   ],
   "source": [
    "v_first_jump_times = []\n",
    "for trajectory in 1:number_trajectories\n",
    "    push!(v_first_jump_times, trajectories_results[trajectory][2][\"AbsTime\"])\n",
    "end\n",
    "\n",
    "v_first_jump_times"
   ]
  },
  {
   "cell_type": "code",
   "execution_count": 42,
   "metadata": {},
   "outputs": [
    {
     "data": {
      "image/svg+xml": "<?xml version=\"1.0\" encoding=\"utf-8\"?>\n<svg xmlns=\"http://www.w3.org/2000/svg\" xmlns:xlink=\"http://www.w3.org/1999/xlink\" width=\"600\" height=\"400\" viewBox=\"0 0 2400 1600\">\n<defs>\n  <clipPath id=\"clip550\">\n    <rect x=\"0\" y=\"0\" width=\"2400\" height=\"1600\"/>\n  </clipPath>\n</defs>\n<path clip-path=\"url(#clip550)\" d=\"\nM0 1600 L2400 1600 L2400 0 L0 0  Z\n  \" fill=\"#ffffff\" fill-rule=\"evenodd\" fill-opacity=\"1\"/>\n<defs>\n  <clipPath id=\"clip551\">\n    <rect x=\"480\" y=\"0\" width=\"1681\" height=\"1600\"/>\n  </clipPath>\n</defs>\n<path clip-path=\"url(#clip550)\" d=\"\nM199.283 1486.45 L2352.76 1486.45 L2352.76 47.2441 L199.283 47.2441  Z\n  \" fill=\"#ffffff\" fill-rule=\"evenodd\" fill-opacity=\"1\"/>\n<defs>\n  <clipPath id=\"clip552\">\n    <rect x=\"199\" y=\"47\" width=\"2154\" height=\"1440\"/>\n  </clipPath>\n</defs>\n<polyline clip-path=\"url(#clip552)\" style=\"stroke:#000000; stroke-linecap:round; stroke-linejoin:round; stroke-width:2; stroke-opacity:0.1; fill:none\" points=\"\n  317.728,1486.45 317.728,47.2441 \n  \"/>\n<polyline clip-path=\"url(#clip552)\" style=\"stroke:#000000; stroke-linecap:round; stroke-linejoin:round; stroke-width:2; stroke-opacity:0.1; fill:none\" points=\"\n  701.045,1486.45 701.045,47.2441 \n  \"/>\n<polyline clip-path=\"url(#clip552)\" style=\"stroke:#000000; stroke-linecap:round; stroke-linejoin:round; stroke-width:2; stroke-opacity:0.1; fill:none\" points=\"\n  1084.36,1486.45 1084.36,47.2441 \n  \"/>\n<polyline clip-path=\"url(#clip552)\" style=\"stroke:#000000; stroke-linecap:round; stroke-linejoin:round; stroke-width:2; stroke-opacity:0.1; fill:none\" points=\"\n  1467.68,1486.45 1467.68,47.2441 \n  \"/>\n<polyline clip-path=\"url(#clip552)\" style=\"stroke:#000000; stroke-linecap:round; stroke-linejoin:round; stroke-width:2; stroke-opacity:0.1; fill:none\" points=\"\n  1850.99,1486.45 1850.99,47.2441 \n  \"/>\n<polyline clip-path=\"url(#clip552)\" style=\"stroke:#000000; stroke-linecap:round; stroke-linejoin:round; stroke-width:2; stroke-opacity:0.1; fill:none\" points=\"\n  2234.31,1486.45 2234.31,47.2441 \n  \"/>\n<polyline clip-path=\"url(#clip550)\" style=\"stroke:#000000; stroke-linecap:round; stroke-linejoin:round; stroke-width:4; stroke-opacity:1; fill:none\" points=\"\n  199.283,1486.45 2352.76,1486.45 \n  \"/>\n<polyline clip-path=\"url(#clip550)\" style=\"stroke:#000000; stroke-linecap:round; stroke-linejoin:round; stroke-width:4; stroke-opacity:1; fill:none\" points=\"\n  317.728,1486.45 317.728,1467.55 \n  \"/>\n<polyline clip-path=\"url(#clip550)\" style=\"stroke:#000000; stroke-linecap:round; stroke-linejoin:round; stroke-width:4; stroke-opacity:1; fill:none\" points=\"\n  701.045,1486.45 701.045,1467.55 \n  \"/>\n<polyline clip-path=\"url(#clip550)\" style=\"stroke:#000000; stroke-linecap:round; stroke-linejoin:round; stroke-width:4; stroke-opacity:1; fill:none\" points=\"\n  1084.36,1486.45 1084.36,1467.55 \n  \"/>\n<polyline clip-path=\"url(#clip550)\" style=\"stroke:#000000; stroke-linecap:round; stroke-linejoin:round; stroke-width:4; stroke-opacity:1; fill:none\" points=\"\n  1467.68,1486.45 1467.68,1467.55 \n  \"/>\n<polyline clip-path=\"url(#clip550)\" style=\"stroke:#000000; stroke-linecap:round; stroke-linejoin:round; stroke-width:4; stroke-opacity:1; fill:none\" points=\"\n  1850.99,1486.45 1850.99,1467.55 \n  \"/>\n<polyline clip-path=\"url(#clip550)\" style=\"stroke:#000000; stroke-linecap:round; stroke-linejoin:round; stroke-width:4; stroke-opacity:1; fill:none\" points=\"\n  2234.31,1486.45 2234.31,1467.55 \n  \"/>\n<path clip-path=\"url(#clip550)\" d=\"M317.728 1517.37 Q314.117 1517.37 312.288 1520.93 Q310.483 1524.47 310.483 1531.6 Q310.483 1538.71 312.288 1542.27 Q314.117 1545.82 317.728 1545.82 Q321.362 1545.82 323.168 1542.27 Q324.997 1538.71 324.997 1531.6 Q324.997 1524.47 323.168 1520.93 Q321.362 1517.37 317.728 1517.37 M317.728 1513.66 Q323.538 1513.66 326.594 1518.27 Q329.672 1522.85 329.672 1531.6 Q329.672 1540.33 326.594 1544.94 Q323.538 1549.52 317.728 1549.52 Q311.918 1549.52 308.839 1544.94 Q305.784 1540.33 305.784 1531.6 Q305.784 1522.85 308.839 1518.27 Q311.918 1513.66 317.728 1513.66 Z\" fill=\"#000000\" fill-rule=\"evenodd\" fill-opacity=\"1\" /><path clip-path=\"url(#clip550)\" d=\"M675.732 1544.91 L683.371 1544.91 L683.371 1518.55 L675.061 1520.21 L675.061 1515.95 L683.325 1514.29 L688.001 1514.29 L688.001 1544.91 L695.64 1544.91 L695.64 1548.85 L675.732 1548.85 L675.732 1544.91 Z\" fill=\"#000000\" fill-rule=\"evenodd\" fill-opacity=\"1\" /><path clip-path=\"url(#clip550)\" d=\"M715.084 1517.37 Q711.473 1517.37 709.644 1520.93 Q707.839 1524.47 707.839 1531.6 Q707.839 1538.71 709.644 1542.27 Q711.473 1545.82 715.084 1545.82 Q718.718 1545.82 720.524 1542.27 Q722.352 1538.71 722.352 1531.6 Q722.352 1524.47 720.524 1520.93 Q718.718 1517.37 715.084 1517.37 M715.084 1513.66 Q720.894 1513.66 723.95 1518.27 Q727.028 1522.85 727.028 1531.6 Q727.028 1540.33 723.95 1544.94 Q720.894 1549.52 715.084 1549.52 Q709.274 1549.52 706.195 1544.94 Q703.14 1540.33 703.14 1531.6 Q703.14 1522.85 706.195 1518.27 Q709.274 1513.66 715.084 1513.66 Z\" fill=\"#000000\" fill-rule=\"evenodd\" fill-opacity=\"1\" /><path clip-path=\"url(#clip550)\" d=\"M1063.13 1544.91 L1079.45 1544.91 L1079.45 1548.85 L1057.51 1548.85 L1057.51 1544.91 Q1060.17 1542.16 1064.75 1537.53 Q1069.36 1532.88 1070.54 1531.53 Q1072.79 1529.01 1073.67 1527.27 Q1074.57 1525.51 1074.57 1523.82 Q1074.57 1521.07 1072.63 1519.33 Q1070.7 1517.6 1067.6 1517.6 Q1065.4 1517.6 1062.95 1518.36 Q1060.52 1519.13 1057.74 1520.68 L1057.74 1515.95 Q1060.57 1514.82 1063.02 1514.24 Q1065.47 1513.66 1067.51 1513.66 Q1072.88 1513.66 1076.07 1516.35 Q1079.27 1519.03 1079.27 1523.52 Q1079.27 1525.65 1078.46 1527.57 Q1077.67 1529.47 1075.56 1532.07 Q1074.99 1532.74 1071.88 1535.95 Q1068.78 1539.15 1063.13 1544.91 Z\" fill=\"#000000\" fill-rule=\"evenodd\" fill-opacity=\"1\" /><path clip-path=\"url(#clip550)\" d=\"M1099.27 1517.37 Q1095.66 1517.37 1093.83 1520.93 Q1092.02 1524.47 1092.02 1531.6 Q1092.02 1538.71 1093.83 1542.27 Q1095.66 1545.82 1099.27 1545.82 Q1102.9 1545.82 1104.71 1542.27 Q1106.54 1538.71 1106.54 1531.6 Q1106.54 1524.47 1104.71 1520.93 Q1102.9 1517.37 1099.27 1517.37 M1099.27 1513.66 Q1105.08 1513.66 1108.13 1518.27 Q1111.21 1522.85 1111.21 1531.6 Q1111.21 1540.33 1108.13 1544.94 Q1105.08 1549.52 1099.27 1549.52 Q1093.46 1549.52 1090.38 1544.94 Q1087.32 1540.33 1087.32 1531.6 Q1087.32 1522.85 1090.38 1518.27 Q1093.46 1513.66 1099.27 1513.66 Z\" fill=\"#000000\" fill-rule=\"evenodd\" fill-opacity=\"1\" /><path clip-path=\"url(#clip550)\" d=\"M1456.52 1530.21 Q1459.88 1530.93 1461.75 1533.2 Q1463.65 1535.47 1463.65 1538.8 Q1463.65 1543.92 1460.13 1546.72 Q1456.61 1549.52 1450.13 1549.52 Q1447.96 1549.52 1445.64 1549.08 Q1443.35 1548.66 1440.9 1547.81 L1440.9 1543.29 Q1442.84 1544.43 1445.15 1545.01 Q1447.47 1545.58 1449.99 1545.58 Q1454.39 1545.58 1456.68 1543.85 Q1459 1542.11 1459 1538.8 Q1459 1535.75 1456.84 1534.03 Q1454.71 1532.3 1450.9 1532.3 L1446.87 1532.3 L1446.87 1528.45 L1451.08 1528.45 Q1454.53 1528.45 1456.36 1527.09 Q1458.19 1525.7 1458.19 1523.11 Q1458.19 1520.45 1456.29 1519.03 Q1454.41 1517.6 1450.9 1517.6 Q1448.97 1517.6 1446.78 1518.01 Q1444.58 1518.43 1441.94 1519.31 L1441.94 1515.14 Q1444.6 1514.4 1446.91 1514.03 Q1449.25 1513.66 1451.31 1513.66 Q1456.64 1513.66 1459.74 1516.09 Q1462.84 1518.5 1462.84 1522.62 Q1462.84 1525.49 1461.2 1527.48 Q1459.55 1529.45 1456.52 1530.21 Z\" fill=\"#000000\" fill-rule=\"evenodd\" fill-opacity=\"1\" /><path clip-path=\"url(#clip550)\" d=\"M1482.52 1517.37 Q1478.9 1517.37 1477.08 1520.93 Q1475.27 1524.47 1475.27 1531.6 Q1475.27 1538.71 1477.08 1542.27 Q1478.9 1545.82 1482.52 1545.82 Q1486.15 1545.82 1487.96 1542.27 Q1489.78 1538.71 1489.78 1531.6 Q1489.78 1524.47 1487.96 1520.93 Q1486.15 1517.37 1482.52 1517.37 M1482.52 1513.66 Q1488.33 1513.66 1491.38 1518.27 Q1494.46 1522.85 1494.46 1531.6 Q1494.46 1540.33 1491.38 1544.94 Q1488.33 1549.52 1482.52 1549.52 Q1476.71 1549.52 1473.63 1544.94 Q1470.57 1540.33 1470.57 1531.6 Q1470.57 1522.85 1473.63 1518.27 Q1476.71 1513.66 1482.52 1513.66 Z\" fill=\"#000000\" fill-rule=\"evenodd\" fill-opacity=\"1\" /><path clip-path=\"url(#clip550)\" d=\"M1839.17 1518.36 L1827.36 1536.81 L1839.17 1536.81 L1839.17 1518.36 M1837.94 1514.29 L1843.82 1514.29 L1843.82 1536.81 L1848.75 1536.81 L1848.75 1540.7 L1843.82 1540.7 L1843.82 1548.85 L1839.17 1548.85 L1839.17 1540.7 L1823.56 1540.7 L1823.56 1536.19 L1837.94 1514.29 Z\" fill=\"#000000\" fill-rule=\"evenodd\" fill-opacity=\"1\" /><path clip-path=\"url(#clip550)\" d=\"M1866.48 1517.37 Q1862.87 1517.37 1861.04 1520.93 Q1859.24 1524.47 1859.24 1531.6 Q1859.24 1538.71 1861.04 1542.27 Q1862.87 1545.82 1866.48 1545.82 Q1870.11 1545.82 1871.92 1542.27 Q1873.75 1538.71 1873.75 1531.6 Q1873.75 1524.47 1871.92 1520.93 Q1870.11 1517.37 1866.48 1517.37 M1866.48 1513.66 Q1872.29 1513.66 1875.35 1518.27 Q1878.42 1522.85 1878.42 1531.6 Q1878.42 1540.33 1875.35 1544.94 Q1872.29 1549.52 1866.48 1549.52 Q1860.67 1549.52 1857.59 1544.94 Q1854.54 1540.33 1854.54 1531.6 Q1854.54 1522.85 1857.59 1518.27 Q1860.67 1513.66 1866.48 1513.66 Z\" fill=\"#000000\" fill-rule=\"evenodd\" fill-opacity=\"1\" /><path clip-path=\"url(#clip550)\" d=\"M2209.01 1514.29 L2227.37 1514.29 L2227.37 1518.22 L2213.29 1518.22 L2213.29 1526.7 Q2214.31 1526.35 2215.33 1526.19 Q2216.35 1526 2217.37 1526 Q2223.15 1526 2226.53 1529.17 Q2229.91 1532.34 2229.91 1537.76 Q2229.91 1543.34 2226.44 1546.44 Q2222.97 1549.52 2216.65 1549.52 Q2214.47 1549.52 2212.2 1549.15 Q2209.96 1548.78 2207.55 1548.04 L2207.55 1543.34 Q2209.64 1544.47 2211.86 1545.03 Q2214.08 1545.58 2216.56 1545.58 Q2220.56 1545.58 2222.9 1543.48 Q2225.24 1541.37 2225.24 1537.76 Q2225.24 1534.15 2222.9 1532.04 Q2220.56 1529.94 2216.56 1529.94 Q2214.68 1529.94 2212.81 1530.35 Q2210.95 1530.77 2209.01 1531.65 L2209.01 1514.29 Z\" fill=\"#000000\" fill-rule=\"evenodd\" fill-opacity=\"1\" /><path clip-path=\"url(#clip550)\" d=\"M2249.13 1517.37 Q2245.51 1517.37 2243.69 1520.93 Q2241.88 1524.47 2241.88 1531.6 Q2241.88 1538.71 2243.69 1542.27 Q2245.51 1545.82 2249.13 1545.82 Q2252.76 1545.82 2254.57 1542.27 Q2256.39 1538.71 2256.39 1531.6 Q2256.39 1524.47 2254.57 1520.93 Q2252.76 1517.37 2249.13 1517.37 M2249.13 1513.66 Q2254.94 1513.66 2257.99 1518.27 Q2261.07 1522.85 2261.07 1531.6 Q2261.07 1540.33 2257.99 1544.94 Q2254.94 1549.52 2249.13 1549.52 Q2243.32 1549.52 2240.24 1544.94 Q2237.18 1540.33 2237.18 1531.6 Q2237.18 1522.85 2240.24 1518.27 Q2243.32 1513.66 2249.13 1513.66 Z\" fill=\"#000000\" fill-rule=\"evenodd\" fill-opacity=\"1\" /><polyline clip-path=\"url(#clip552)\" style=\"stroke:#000000; stroke-linecap:round; stroke-linejoin:round; stroke-width:2; stroke-opacity:0.1; fill:none\" points=\"\n  199.283,1445.72 2352.76,1445.72 \n  \"/>\n<polyline clip-path=\"url(#clip552)\" style=\"stroke:#000000; stroke-linecap:round; stroke-linejoin:round; stroke-width:2; stroke-opacity:0.1; fill:none\" points=\"\n  199.283,1158.06 2352.76,1158.06 \n  \"/>\n<polyline clip-path=\"url(#clip552)\" style=\"stroke:#000000; stroke-linecap:round; stroke-linejoin:round; stroke-width:2; stroke-opacity:0.1; fill:none\" points=\"\n  199.283,870.402 2352.76,870.402 \n  \"/>\n<polyline clip-path=\"url(#clip552)\" style=\"stroke:#000000; stroke-linecap:round; stroke-linejoin:round; stroke-width:2; stroke-opacity:0.1; fill:none\" points=\"\n  199.283,582.746 2352.76,582.746 \n  \"/>\n<polyline clip-path=\"url(#clip552)\" style=\"stroke:#000000; stroke-linecap:round; stroke-linejoin:round; stroke-width:2; stroke-opacity:0.1; fill:none\" points=\"\n  199.283,295.089 2352.76,295.089 \n  \"/>\n<polyline clip-path=\"url(#clip550)\" style=\"stroke:#000000; stroke-linecap:round; stroke-linejoin:round; stroke-width:4; stroke-opacity:1; fill:none\" points=\"\n  199.283,1486.45 199.283,47.2441 \n  \"/>\n<polyline clip-path=\"url(#clip550)\" style=\"stroke:#000000; stroke-linecap:round; stroke-linejoin:round; stroke-width:4; stroke-opacity:1; fill:none\" points=\"\n  199.283,1445.72 218.181,1445.72 \n  \"/>\n<polyline clip-path=\"url(#clip550)\" style=\"stroke:#000000; stroke-linecap:round; stroke-linejoin:round; stroke-width:4; stroke-opacity:1; fill:none\" points=\"\n  199.283,1158.06 218.181,1158.06 \n  \"/>\n<polyline clip-path=\"url(#clip550)\" style=\"stroke:#000000; stroke-linecap:round; stroke-linejoin:round; stroke-width:4; stroke-opacity:1; fill:none\" points=\"\n  199.283,870.402 218.181,870.402 \n  \"/>\n<polyline clip-path=\"url(#clip550)\" style=\"stroke:#000000; stroke-linecap:round; stroke-linejoin:round; stroke-width:4; stroke-opacity:1; fill:none\" points=\"\n  199.283,582.746 218.181,582.746 \n  \"/>\n<polyline clip-path=\"url(#clip550)\" style=\"stroke:#000000; stroke-linecap:round; stroke-linejoin:round; stroke-width:4; stroke-opacity:1; fill:none\" points=\"\n  199.283,295.089 218.181,295.089 \n  \"/>\n<path clip-path=\"url(#clip550)\" d=\"M151.339 1431.51 Q147.728 1431.51 145.899 1435.08 Q144.093 1438.62 144.093 1445.75 Q144.093 1452.86 145.899 1456.42 Q147.728 1459.96 151.339 1459.96 Q154.973 1459.96 156.779 1456.42 Q158.607 1452.86 158.607 1445.75 Q158.607 1438.62 156.779 1435.08 Q154.973 1431.51 151.339 1431.51 M151.339 1427.81 Q157.149 1427.81 160.205 1432.42 Q163.283 1437 163.283 1445.75 Q163.283 1454.48 160.205 1459.08 Q157.149 1463.67 151.339 1463.67 Q145.529 1463.67 142.45 1459.08 Q139.394 1454.48 139.394 1445.75 Q139.394 1437 142.45 1432.42 Q145.529 1427.81 151.339 1427.81 Z\" fill=\"#000000\" fill-rule=\"evenodd\" fill-opacity=\"1\" /><path clip-path=\"url(#clip550)\" d=\"M95.1817 1156.7 Q98.5382 1157.42 100.413 1159.69 Q102.311 1161.96 102.311 1165.29 Q102.311 1170.41 98.7928 1173.21 Q95.2743 1176.01 88.7928 1176.01 Q86.6169 1176.01 84.3021 1175.57 Q82.0105 1175.15 79.5568 1174.3 L79.5568 1169.78 Q81.5012 1170.92 83.816 1171.5 Q86.1308 1172.08 88.654 1172.08 Q93.0521 1172.08 95.3437 1170.34 Q97.6585 1168.6 97.6585 1165.29 Q97.6585 1162.24 95.5058 1160.52 Q93.3762 1158.79 89.5567 1158.79 L85.529 1158.79 L85.529 1154.95 L89.7419 1154.95 Q93.191 1154.95 95.0197 1153.58 Q96.8484 1152.19 96.8484 1149.6 Q96.8484 1146.94 94.9502 1145.52 Q93.0752 1144.09 89.5567 1144.09 Q87.6354 1144.09 85.4364 1144.51 Q83.2373 1144.92 80.5984 1145.8 L80.5984 1141.64 Q83.2605 1140.89 85.5753 1140.52 Q87.9132 1140.15 89.9734 1140.15 Q95.2974 1140.15 98.3993 1142.58 Q101.501 1144.99 101.501 1149.11 Q101.501 1151.98 99.8576 1153.97 Q98.2141 1155.94 95.1817 1156.7 Z\" fill=\"#000000\" fill-rule=\"evenodd\" fill-opacity=\"1\" /><path clip-path=\"url(#clip550)\" d=\"M121.177 1143.86 Q117.566 1143.86 115.737 1147.42 Q113.932 1150.96 113.932 1158.09 Q113.932 1165.2 115.737 1168.76 Q117.566 1172.31 121.177 1172.31 Q124.811 1172.31 126.617 1168.76 Q128.445 1165.2 128.445 1158.09 Q128.445 1150.96 126.617 1147.42 Q124.811 1143.86 121.177 1143.86 M121.177 1140.15 Q126.987 1140.15 130.043 1144.76 Q133.121 1149.34 133.121 1158.09 Q133.121 1166.82 130.043 1171.43 Q126.987 1176.01 121.177 1176.01 Q115.367 1176.01 112.288 1171.43 Q109.233 1166.82 109.233 1158.09 Q109.233 1149.34 112.288 1144.76 Q115.367 1140.15 121.177 1140.15 Z\" fill=\"#000000\" fill-rule=\"evenodd\" fill-opacity=\"1\" /><path clip-path=\"url(#clip550)\" d=\"M151.339 1143.86 Q147.728 1143.86 145.899 1147.42 Q144.093 1150.96 144.093 1158.09 Q144.093 1165.2 145.899 1168.76 Q147.728 1172.31 151.339 1172.31 Q154.973 1172.31 156.779 1168.76 Q158.607 1165.2 158.607 1158.09 Q158.607 1150.96 156.779 1147.42 Q154.973 1143.86 151.339 1143.86 M151.339 1140.15 Q157.149 1140.15 160.205 1144.76 Q163.283 1149.34 163.283 1158.09 Q163.283 1166.82 160.205 1171.43 Q157.149 1176.01 151.339 1176.01 Q145.529 1176.01 142.45 1171.43 Q139.394 1166.82 139.394 1158.09 Q139.394 1149.34 142.45 1144.76 Q145.529 1140.15 151.339 1140.15 Z\" fill=\"#000000\" fill-rule=\"evenodd\" fill-opacity=\"1\" /><path clip-path=\"url(#clip550)\" d=\"M91.5938 868.539 Q88.4456 868.539 86.5938 870.692 Q84.7651 872.844 84.7651 876.594 Q84.7651 880.321 86.5938 882.497 Q88.4456 884.65 91.5938 884.65 Q94.7419 884.65 96.5706 882.497 Q98.4224 880.321 98.4224 876.594 Q98.4224 872.844 96.5706 870.692 Q94.7419 868.539 91.5938 868.539 M100.876 853.886 L100.876 858.146 Q99.1169 857.312 97.3113 856.872 Q95.5289 856.433 93.7697 856.433 Q89.1401 856.433 86.6864 859.558 Q84.2558 862.683 83.9086 869.002 Q85.2743 866.988 87.3345 865.923 Q89.3947 864.835 91.8715 864.835 Q97.0798 864.835 100.089 868.007 Q103.121 871.155 103.121 876.594 Q103.121 881.919 99.9733 885.136 Q96.8252 888.354 91.5938 888.354 Q85.5984 888.354 82.4271 883.77 Q79.2559 879.164 79.2559 870.437 Q79.2559 862.243 83.1447 857.382 Q87.0336 852.497 93.5845 852.497 Q95.3437 852.497 97.1261 852.845 Q98.9317 853.192 100.876 853.886 Z\" fill=\"#000000\" fill-rule=\"evenodd\" fill-opacity=\"1\" /><path clip-path=\"url(#clip550)\" d=\"M121.177 856.201 Q117.566 856.201 115.737 859.766 Q113.932 863.308 113.932 870.437 Q113.932 877.544 115.737 881.108 Q117.566 884.65 121.177 884.65 Q124.811 884.65 126.617 881.108 Q128.445 877.544 128.445 870.437 Q128.445 863.308 126.617 859.766 Q124.811 856.201 121.177 856.201 M121.177 852.497 Q126.987 852.497 130.043 857.104 Q133.121 861.687 133.121 870.437 Q133.121 879.164 130.043 883.77 Q126.987 888.354 121.177 888.354 Q115.367 888.354 112.288 883.77 Q109.233 879.164 109.233 870.437 Q109.233 861.687 112.288 857.104 Q115.367 852.497 121.177 852.497 Z\" fill=\"#000000\" fill-rule=\"evenodd\" fill-opacity=\"1\" /><path clip-path=\"url(#clip550)\" d=\"M151.339 856.201 Q147.728 856.201 145.899 859.766 Q144.093 863.308 144.093 870.437 Q144.093 877.544 145.899 881.108 Q147.728 884.65 151.339 884.65 Q154.973 884.65 156.779 881.108 Q158.607 877.544 158.607 870.437 Q158.607 863.308 156.779 859.766 Q154.973 856.201 151.339 856.201 M151.339 852.497 Q157.149 852.497 160.205 857.104 Q163.283 861.687 163.283 870.437 Q163.283 879.164 160.205 883.77 Q157.149 888.354 151.339 888.354 Q145.529 888.354 142.45 883.77 Q139.394 879.164 139.394 870.437 Q139.394 861.687 142.45 857.104 Q145.529 852.497 151.339 852.497 Z\" fill=\"#000000\" fill-rule=\"evenodd\" fill-opacity=\"1\" /><path clip-path=\"url(#clip550)\" d=\"M81.154 599.308 L81.154 595.049 Q82.9133 595.882 84.7188 596.322 Q86.5243 596.762 88.2604 596.762 Q92.89 596.762 95.3206 593.66 Q97.7743 590.535 98.1215 584.192 Q96.7789 586.183 94.7187 587.248 Q92.6586 588.313 90.1586 588.313 Q84.9734 588.313 81.941 585.188 Q78.9318 582.04 78.9318 576.6 Q78.9318 571.276 82.0799 568.058 Q85.2281 564.841 90.4595 564.841 Q96.4548 564.841 99.603 569.447 Q102.774 574.03 102.774 582.78 Q102.774 590.952 98.8854 595.836 Q95.0197 600.697 88.4688 600.697 Q86.7095 600.697 84.904 600.35 Q83.0984 600.003 81.154 599.308 M90.4595 584.655 Q93.6076 584.655 95.4363 582.503 Q97.2882 580.35 97.2882 576.6 Q97.2882 572.873 95.4363 570.72 Q93.6076 568.544 90.4595 568.544 Q87.3114 568.544 85.4595 570.72 Q83.6308 572.873 83.6308 576.6 Q83.6308 580.35 85.4595 582.503 Q87.3114 584.655 90.4595 584.655 Z\" fill=\"#000000\" fill-rule=\"evenodd\" fill-opacity=\"1\" /><path clip-path=\"url(#clip550)\" d=\"M121.177 568.544 Q117.566 568.544 115.737 572.109 Q113.932 575.651 113.932 582.78 Q113.932 589.887 115.737 593.452 Q117.566 596.993 121.177 596.993 Q124.811 596.993 126.617 593.452 Q128.445 589.887 128.445 582.78 Q128.445 575.651 126.617 572.109 Q124.811 568.544 121.177 568.544 M121.177 564.841 Q126.987 564.841 130.043 569.447 Q133.121 574.03 133.121 582.78 Q133.121 591.507 130.043 596.114 Q126.987 600.697 121.177 600.697 Q115.367 600.697 112.288 596.114 Q109.233 591.507 109.233 582.78 Q109.233 574.03 112.288 569.447 Q115.367 564.841 121.177 564.841 Z\" fill=\"#000000\" fill-rule=\"evenodd\" fill-opacity=\"1\" /><path clip-path=\"url(#clip550)\" d=\"M151.339 568.544 Q147.728 568.544 145.899 572.109 Q144.093 575.651 144.093 582.78 Q144.093 589.887 145.899 593.452 Q147.728 596.993 151.339 596.993 Q154.973 596.993 156.779 593.452 Q158.607 589.887 158.607 582.78 Q158.607 575.651 156.779 572.109 Q154.973 568.544 151.339 568.544 M151.339 564.841 Q157.149 564.841 160.205 569.447 Q163.283 574.03 163.283 582.78 Q163.283 591.507 160.205 596.114 Q157.149 600.697 151.339 600.697 Q145.529 600.697 142.45 596.114 Q139.394 591.507 139.394 582.78 Q139.394 574.03 142.45 569.447 Q145.529 564.841 151.339 564.841 Z\" fill=\"#000000\" fill-rule=\"evenodd\" fill-opacity=\"1\" /><path clip-path=\"url(#clip550)\" d=\"M51.6634 308.434 L59.3023 308.434 L59.3023 282.068 L50.9921 283.735 L50.9921 279.476 L59.256 277.809 L63.9319 277.809 L63.9319 308.434 L71.5707 308.434 L71.5707 312.369 L51.6634 312.369 L51.6634 308.434 Z\" fill=\"#000000\" fill-rule=\"evenodd\" fill-opacity=\"1\" /><path clip-path=\"url(#clip550)\" d=\"M85.0429 308.434 L101.362 308.434 L101.362 312.369 L79.4179 312.369 L79.4179 308.434 Q82.0799 305.679 86.6632 301.05 Q91.2697 296.397 92.4502 295.054 Q94.6956 292.531 95.5752 290.795 Q96.478 289.036 96.478 287.346 Q96.478 284.591 94.5336 282.855 Q92.6123 281.119 89.5104 281.119 Q87.3114 281.119 84.8577 281.883 Q82.4271 282.647 79.6494 284.198 L79.6494 279.476 Q82.4734 278.341 84.9271 277.763 Q87.3808 277.184 89.4178 277.184 Q94.7882 277.184 97.9826 279.869 Q101.177 282.554 101.177 287.045 Q101.177 289.175 100.367 291.096 Q99.5798 292.994 97.4734 295.587 Q96.8947 296.258 93.7928 299.476 Q90.691 302.67 85.0429 308.434 Z\" fill=\"#000000\" fill-rule=\"evenodd\" fill-opacity=\"1\" /><path clip-path=\"url(#clip550)\" d=\"M121.177 280.888 Q117.566 280.888 115.737 284.453 Q113.932 287.994 113.932 295.124 Q113.932 302.23 115.737 305.795 Q117.566 309.337 121.177 309.337 Q124.811 309.337 126.617 305.795 Q128.445 302.23 128.445 295.124 Q128.445 287.994 126.617 284.453 Q124.811 280.888 121.177 280.888 M121.177 277.184 Q126.987 277.184 130.043 281.791 Q133.121 286.374 133.121 295.124 Q133.121 303.851 130.043 308.457 Q126.987 313.04 121.177 313.04 Q115.367 313.04 112.288 308.457 Q109.233 303.851 109.233 295.124 Q109.233 286.374 112.288 281.791 Q115.367 277.184 121.177 277.184 Z\" fill=\"#000000\" fill-rule=\"evenodd\" fill-opacity=\"1\" /><path clip-path=\"url(#clip550)\" d=\"M151.339 280.888 Q147.728 280.888 145.899 284.453 Q144.093 287.994 144.093 295.124 Q144.093 302.23 145.899 305.795 Q147.728 309.337 151.339 309.337 Q154.973 309.337 156.779 305.795 Q158.607 302.23 158.607 295.124 Q158.607 287.994 156.779 284.453 Q154.973 280.888 151.339 280.888 M151.339 277.184 Q157.149 277.184 160.205 281.791 Q163.283 286.374 163.283 295.124 Q163.283 303.851 160.205 308.457 Q157.149 313.04 151.339 313.04 Q145.529 313.04 142.45 308.457 Q139.394 303.851 139.394 295.124 Q139.394 286.374 142.45 281.791 Q145.529 277.184 151.339 277.184 Z\" fill=\"#000000\" fill-rule=\"evenodd\" fill-opacity=\"1\" /><path clip-path=\"url(#clip552)\" d=\"\nM317.728 87.9763 L317.728 1445.72 L394.391 1445.72 L394.391 87.9763 L317.728 87.9763 L317.728 87.9763  Z\n  \" fill=\"#009af9\" fill-rule=\"evenodd\" fill-opacity=\"1\"/>\n<polyline clip-path=\"url(#clip552)\" style=\"stroke:#000000; stroke-linecap:round; stroke-linejoin:round; stroke-width:4; stroke-opacity:1; fill:none\" points=\"\n  317.728,87.9763 317.728,1445.72 394.391,1445.72 394.391,87.9763 317.728,87.9763 \n  \"/>\n<path clip-path=\"url(#clip552)\" d=\"\nM394.391 239.475 L394.391 1445.72 L471.055 1445.72 L471.055 239.475 L394.391 239.475 L394.391 239.475  Z\n  \" fill=\"#009af9\" fill-rule=\"evenodd\" fill-opacity=\"1\"/>\n<polyline clip-path=\"url(#clip552)\" style=\"stroke:#000000; stroke-linecap:round; stroke-linejoin:round; stroke-width:4; stroke-opacity:1; fill:none\" points=\"\n  394.391,239.475 394.391,1445.72 471.055,1445.72 471.055,239.475 394.391,239.475 \n  \"/>\n<path clip-path=\"url(#clip552)\" d=\"\nM471.055 431.247 L471.055 1445.72 L547.718 1445.72 L547.718 431.247 L471.055 431.247 L471.055 431.247  Z\n  \" fill=\"#009af9\" fill-rule=\"evenodd\" fill-opacity=\"1\"/>\n<polyline clip-path=\"url(#clip552)\" style=\"stroke:#000000; stroke-linecap:round; stroke-linejoin:round; stroke-width:4; stroke-opacity:1; fill:none\" points=\"\n  471.055,431.247 471.055,1445.72 547.718,1445.72 547.718,431.247 471.055,431.247 \n  \"/>\n<path clip-path=\"url(#clip552)\" d=\"\nM547.718 546.309 L547.718 1445.72 L624.381 1445.72 L624.381 546.309 L547.718 546.309 L547.718 546.309  Z\n  \" fill=\"#009af9\" fill-rule=\"evenodd\" fill-opacity=\"1\"/>\n<polyline clip-path=\"url(#clip552)\" style=\"stroke:#000000; stroke-linecap:round; stroke-linejoin:round; stroke-width:4; stroke-opacity:1; fill:none\" points=\"\n  547.718,546.309 547.718,1445.72 624.381,1445.72 624.381,546.309 547.718,546.309 \n  \"/>\n<path clip-path=\"url(#clip552)\" d=\"\nM624.381 636.442 L624.381 1445.72 L701.045 1445.72 L701.045 636.442 L624.381 636.442 L624.381 636.442  Z\n  \" fill=\"#009af9\" fill-rule=\"evenodd\" fill-opacity=\"1\"/>\n<polyline clip-path=\"url(#clip552)\" style=\"stroke:#000000; stroke-linecap:round; stroke-linejoin:round; stroke-width:4; stroke-opacity:1; fill:none\" points=\"\n  624.381,636.442 624.381,1445.72 701.045,1445.72 701.045,636.442 624.381,636.442 \n  \"/>\n<path clip-path=\"url(#clip552)\" d=\"\nM701.045 775.476 L701.045 1445.72 L777.708 1445.72 L777.708 775.476 L701.045 775.476 L701.045 775.476  Z\n  \" fill=\"#009af9\" fill-rule=\"evenodd\" fill-opacity=\"1\"/>\n<polyline clip-path=\"url(#clip552)\" style=\"stroke:#000000; stroke-linecap:round; stroke-linejoin:round; stroke-width:4; stroke-opacity:1; fill:none\" points=\"\n  701.045,775.476 701.045,1445.72 777.708,1445.72 777.708,775.476 701.045,775.476 \n  \"/>\n<path clip-path=\"url(#clip552)\" d=\"\nM777.708 875.197 L777.708 1445.72 L854.371 1445.72 L854.371 875.197 L777.708 875.197 L777.708 875.197  Z\n  \" fill=\"#009af9\" fill-rule=\"evenodd\" fill-opacity=\"1\"/>\n<polyline clip-path=\"url(#clip552)\" style=\"stroke:#000000; stroke-linecap:round; stroke-linejoin:round; stroke-width:4; stroke-opacity:1; fill:none\" points=\"\n  777.708,875.197 777.708,1445.72 854.371,1445.72 854.371,875.197 777.708,875.197 \n  \"/>\n<path clip-path=\"url(#clip552)\" d=\"\nM854.371 938.481 L854.371 1445.72 L931.035 1445.72 L931.035 938.481 L854.371 938.481 L854.371 938.481  Z\n  \" fill=\"#009af9\" fill-rule=\"evenodd\" fill-opacity=\"1\"/>\n<polyline clip-path=\"url(#clip552)\" style=\"stroke:#000000; stroke-linecap:round; stroke-linejoin:round; stroke-width:4; stroke-opacity:1; fill:none\" points=\"\n  854.371,938.481 854.371,1445.72 931.035,1445.72 931.035,938.481 854.371,938.481 \n  \"/>\n<path clip-path=\"url(#clip552)\" d=\"\nM931.035 1093.82 L931.035 1445.72 L1007.7 1445.72 L1007.7 1093.82 L931.035 1093.82 L931.035 1093.82  Z\n  \" fill=\"#009af9\" fill-rule=\"evenodd\" fill-opacity=\"1\"/>\n<polyline clip-path=\"url(#clip552)\" style=\"stroke:#000000; stroke-linecap:round; stroke-linejoin:round; stroke-width:4; stroke-opacity:1; fill:none\" points=\"\n  931.035,1093.82 931.035,1445.72 1007.7,1445.72 1007.7,1093.82 931.035,1093.82 \n  \"/>\n<path clip-path=\"url(#clip552)\" d=\"\nM1007.7 1137.92 L1007.7 1445.72 L1084.36 1445.72 L1084.36 1137.92 L1007.7 1137.92 L1007.7 1137.92  Z\n  \" fill=\"#009af9\" fill-rule=\"evenodd\" fill-opacity=\"1\"/>\n<polyline clip-path=\"url(#clip552)\" style=\"stroke:#000000; stroke-linecap:round; stroke-linejoin:round; stroke-width:4; stroke-opacity:1; fill:none\" points=\"\n  1007.7,1137.92 1007.7,1445.72 1084.36,1445.72 1084.36,1137.92 1007.7,1137.92 \n  \"/>\n<path clip-path=\"url(#clip552)\" d=\"\nM1084.36 1175.32 L1084.36 1445.72 L1161.02 1445.72 L1161.02 1175.32 L1084.36 1175.32 L1084.36 1175.32  Z\n  \" fill=\"#009af9\" fill-rule=\"evenodd\" fill-opacity=\"1\"/>\n<polyline clip-path=\"url(#clip552)\" style=\"stroke:#000000; stroke-linecap:round; stroke-linejoin:round; stroke-width:4; stroke-opacity:1; fill:none\" points=\"\n  1084.36,1175.32 1084.36,1445.72 1161.02,1445.72 1161.02,1175.32 1084.36,1175.32 \n  \"/>\n<path clip-path=\"url(#clip552)\" d=\"\nM1161.02 1229.97 L1161.02 1445.72 L1237.69 1445.72 L1237.69 1229.97 L1161.02 1229.97 L1161.02 1229.97  Z\n  \" fill=\"#009af9\" fill-rule=\"evenodd\" fill-opacity=\"1\"/>\n<polyline clip-path=\"url(#clip552)\" style=\"stroke:#000000; stroke-linecap:round; stroke-linejoin:round; stroke-width:4; stroke-opacity:1; fill:none\" points=\"\n  1161.02,1229.97 1161.02,1445.72 1237.69,1445.72 1237.69,1229.97 1161.02,1229.97 \n  \"/>\n<path clip-path=\"url(#clip552)\" d=\"\nM1237.69 1218.47 L1237.69 1445.72 L1314.35 1445.72 L1314.35 1218.47 L1237.69 1218.47 L1237.69 1218.47  Z\n  \" fill=\"#009af9\" fill-rule=\"evenodd\" fill-opacity=\"1\"/>\n<polyline clip-path=\"url(#clip552)\" style=\"stroke:#000000; stroke-linecap:round; stroke-linejoin:round; stroke-width:4; stroke-opacity:1; fill:none\" points=\"\n  1237.69,1218.47 1237.69,1445.72 1314.35,1445.72 1314.35,1218.47 1237.69,1218.47 \n  \"/>\n<path clip-path=\"url(#clip552)\" d=\"\nM1314.35 1237.64 L1314.35 1445.72 L1391.01 1445.72 L1391.01 1237.64 L1314.35 1237.64 L1314.35 1237.64  Z\n  \" fill=\"#009af9\" fill-rule=\"evenodd\" fill-opacity=\"1\"/>\n<polyline clip-path=\"url(#clip552)\" style=\"stroke:#000000; stroke-linecap:round; stroke-linejoin:round; stroke-width:4; stroke-opacity:1; fill:none\" points=\"\n  1314.35,1237.64 1314.35,1445.72 1391.01,1445.72 1391.01,1237.64 1314.35,1237.64 \n  \"/>\n<path clip-path=\"url(#clip552)\" d=\"\nM1391.01 1267.37 L1391.01 1445.72 L1467.68 1445.72 L1467.68 1267.37 L1391.01 1267.37 L1391.01 1267.37  Z\n  \" fill=\"#009af9\" fill-rule=\"evenodd\" fill-opacity=\"1\"/>\n<polyline clip-path=\"url(#clip552)\" style=\"stroke:#000000; stroke-linecap:round; stroke-linejoin:round; stroke-width:4; stroke-opacity:1; fill:none\" points=\"\n  1391.01,1267.37 1391.01,1445.72 1467.68,1445.72 1467.68,1267.37 1391.01,1267.37 \n  \"/>\n<path clip-path=\"url(#clip552)\" d=\"\nM1467.68 1289.42 L1467.68 1445.72 L1544.34 1445.72 L1544.34 1289.42 L1467.68 1289.42 L1467.68 1289.42  Z\n  \" fill=\"#009af9\" fill-rule=\"evenodd\" fill-opacity=\"1\"/>\n<polyline clip-path=\"url(#clip552)\" style=\"stroke:#000000; stroke-linecap:round; stroke-linejoin:round; stroke-width:4; stroke-opacity:1; fill:none\" points=\"\n  1467.68,1289.42 1467.68,1445.72 1544.34,1445.72 1544.34,1289.42 1467.68,1289.42 \n  \"/>\n<path clip-path=\"url(#clip552)\" d=\"\nM1544.34 1329.69 L1544.34 1445.72 L1621 1445.72 L1621 1329.69 L1544.34 1329.69 L1544.34 1329.69  Z\n  \" fill=\"#009af9\" fill-rule=\"evenodd\" fill-opacity=\"1\"/>\n<polyline clip-path=\"url(#clip552)\" style=\"stroke:#000000; stroke-linecap:round; stroke-linejoin:round; stroke-width:4; stroke-opacity:1; fill:none\" points=\"\n  1544.34,1329.69 1544.34,1445.72 1621,1445.72 1621,1329.69 1544.34,1329.69 \n  \"/>\n<path clip-path=\"url(#clip552)\" d=\"\nM1621 1343.12 L1621 1445.72 L1697.67 1445.72 L1697.67 1343.12 L1621 1343.12 L1621 1343.12  Z\n  \" fill=\"#009af9\" fill-rule=\"evenodd\" fill-opacity=\"1\"/>\n<polyline clip-path=\"url(#clip552)\" style=\"stroke:#000000; stroke-linecap:round; stroke-linejoin:round; stroke-width:4; stroke-opacity:1; fill:none\" points=\"\n  1621,1343.12 1621,1445.72 1697.67,1445.72 1697.67,1343.12 1621,1343.12 \n  \"/>\n<path clip-path=\"url(#clip552)\" d=\"\nM1697.67 1365.17 L1697.67 1445.72 L1774.33 1445.72 L1774.33 1365.17 L1697.67 1365.17 L1697.67 1365.17  Z\n  \" fill=\"#009af9\" fill-rule=\"evenodd\" fill-opacity=\"1\"/>\n<polyline clip-path=\"url(#clip552)\" style=\"stroke:#000000; stroke-linecap:round; stroke-linejoin:round; stroke-width:4; stroke-opacity:1; fill:none\" points=\"\n  1697.67,1365.17 1697.67,1445.72 1774.33,1445.72 1774.33,1365.17 1697.67,1365.17 \n  \"/>\n<path clip-path=\"url(#clip552)\" d=\"\nM1774.33 1388.18 L1774.33 1445.72 L1850.99 1445.72 L1850.99 1388.18 L1774.33 1388.18 L1774.33 1388.18  Z\n  \" fill=\"#009af9\" fill-rule=\"evenodd\" fill-opacity=\"1\"/>\n<polyline clip-path=\"url(#clip552)\" style=\"stroke:#000000; stroke-linecap:round; stroke-linejoin:round; stroke-width:4; stroke-opacity:1; fill:none\" points=\"\n  1774.33,1388.18 1774.33,1445.72 1850.99,1445.72 1850.99,1388.18 1774.33,1388.18 \n  \"/>\n<path clip-path=\"url(#clip552)\" d=\"\nM1850.99 1382.43 L1850.99 1445.72 L1927.66 1445.72 L1927.66 1382.43 L1850.99 1382.43 L1850.99 1382.43  Z\n  \" fill=\"#009af9\" fill-rule=\"evenodd\" fill-opacity=\"1\"/>\n<polyline clip-path=\"url(#clip552)\" style=\"stroke:#000000; stroke-linecap:round; stroke-linejoin:round; stroke-width:4; stroke-opacity:1; fill:none\" points=\"\n  1850.99,1382.43 1850.99,1445.72 1927.66,1445.72 1927.66,1382.43 1850.99,1382.43 \n  \"/>\n<path clip-path=\"url(#clip552)\" d=\"\nM1927.66 1382.43 L1927.66 1445.72 L2004.32 1445.72 L2004.32 1382.43 L1927.66 1382.43 L1927.66 1382.43  Z\n  \" fill=\"#009af9\" fill-rule=\"evenodd\" fill-opacity=\"1\"/>\n<polyline clip-path=\"url(#clip552)\" style=\"stroke:#000000; stroke-linecap:round; stroke-linejoin:round; stroke-width:4; stroke-opacity:1; fill:none\" points=\"\n  1927.66,1382.43 1927.66,1445.72 2004.32,1445.72 2004.32,1382.43 1927.66,1382.43 \n  \"/>\n<path clip-path=\"url(#clip552)\" d=\"\nM2004.32 1389.14 L2004.32 1445.72 L2080.98 1445.72 L2080.98 1389.14 L2004.32 1389.14 L2004.32 1389.14  Z\n  \" fill=\"#009af9\" fill-rule=\"evenodd\" fill-opacity=\"1\"/>\n<polyline clip-path=\"url(#clip552)\" style=\"stroke:#000000; stroke-linecap:round; stroke-linejoin:round; stroke-width:4; stroke-opacity:1; fill:none\" points=\"\n  2004.32,1389.14 2004.32,1445.72 2080.98,1445.72 2080.98,1389.14 2004.32,1389.14 \n  \"/>\n<path clip-path=\"url(#clip552)\" d=\"\nM2080.98 1387.23 L2080.98 1445.72 L2157.65 1445.72 L2157.65 1387.23 L2080.98 1387.23 L2080.98 1387.23  Z\n  \" fill=\"#009af9\" fill-rule=\"evenodd\" fill-opacity=\"1\"/>\n<polyline clip-path=\"url(#clip552)\" style=\"stroke:#000000; stroke-linecap:round; stroke-linejoin:round; stroke-width:4; stroke-opacity:1; fill:none\" points=\"\n  2080.98,1387.23 2080.98,1445.72 2157.65,1445.72 2157.65,1387.23 2080.98,1387.23 \n  \"/>\n<path clip-path=\"url(#clip552)\" d=\"\nM2157.65 1406.4 L2157.65 1445.72 L2234.31 1445.72 L2234.31 1406.4 L2157.65 1406.4 L2157.65 1406.4  Z\n  \" fill=\"#009af9\" fill-rule=\"evenodd\" fill-opacity=\"1\"/>\n<polyline clip-path=\"url(#clip552)\" style=\"stroke:#000000; stroke-linecap:round; stroke-linejoin:round; stroke-width:4; stroke-opacity:1; fill:none\" points=\"\n  2157.65,1406.4 2157.65,1445.72 2234.31,1445.72 2234.31,1406.4 2157.65,1406.4 \n  \"/>\n<circle clip-path=\"url(#clip552)\" style=\"fill:#009af9; stroke:none; fill-opacity:0\" cx=\"356.06\" cy=\"87.9763\" r=\"2\"/>\n<circle clip-path=\"url(#clip552)\" style=\"fill:#009af9; stroke:none; fill-opacity:0\" cx=\"432.723\" cy=\"239.475\" r=\"2\"/>\n<circle clip-path=\"url(#clip552)\" style=\"fill:#009af9; stroke:none; fill-opacity:0\" cx=\"509.386\" cy=\"431.247\" r=\"2\"/>\n<circle clip-path=\"url(#clip552)\" style=\"fill:#009af9; stroke:none; fill-opacity:0\" cx=\"586.05\" cy=\"546.309\" r=\"2\"/>\n<circle clip-path=\"url(#clip552)\" style=\"fill:#009af9; stroke:none; fill-opacity:0\" cx=\"662.713\" cy=\"636.442\" r=\"2\"/>\n<circle clip-path=\"url(#clip552)\" style=\"fill:#009af9; stroke:none; fill-opacity:0\" cx=\"739.376\" cy=\"775.476\" r=\"2\"/>\n<circle clip-path=\"url(#clip552)\" style=\"fill:#009af9; stroke:none; fill-opacity:0\" cx=\"816.04\" cy=\"875.197\" r=\"2\"/>\n<circle clip-path=\"url(#clip552)\" style=\"fill:#009af9; stroke:none; fill-opacity:0\" cx=\"892.703\" cy=\"938.481\" r=\"2\"/>\n<circle clip-path=\"url(#clip552)\" style=\"fill:#009af9; stroke:none; fill-opacity:0\" cx=\"969.366\" cy=\"1093.82\" r=\"2\"/>\n<circle clip-path=\"url(#clip552)\" style=\"fill:#009af9; stroke:none; fill-opacity:0\" cx=\"1046.03\" cy=\"1137.92\" r=\"2\"/>\n<circle clip-path=\"url(#clip552)\" style=\"fill:#009af9; stroke:none; fill-opacity:0\" cx=\"1122.69\" cy=\"1175.32\" r=\"2\"/>\n<circle clip-path=\"url(#clip552)\" style=\"fill:#009af9; stroke:none; fill-opacity:0\" cx=\"1199.36\" cy=\"1229.97\" r=\"2\"/>\n<circle clip-path=\"url(#clip552)\" style=\"fill:#009af9; stroke:none; fill-opacity:0\" cx=\"1276.02\" cy=\"1218.47\" r=\"2\"/>\n<circle clip-path=\"url(#clip552)\" style=\"fill:#009af9; stroke:none; fill-opacity:0\" cx=\"1352.68\" cy=\"1237.64\" r=\"2\"/>\n<circle clip-path=\"url(#clip552)\" style=\"fill:#009af9; stroke:none; fill-opacity:0\" cx=\"1429.35\" cy=\"1267.37\" r=\"2\"/>\n<circle clip-path=\"url(#clip552)\" style=\"fill:#009af9; stroke:none; fill-opacity:0\" cx=\"1506.01\" cy=\"1289.42\" r=\"2\"/>\n<circle clip-path=\"url(#clip552)\" style=\"fill:#009af9; stroke:none; fill-opacity:0\" cx=\"1582.67\" cy=\"1329.69\" r=\"2\"/>\n<circle clip-path=\"url(#clip552)\" style=\"fill:#009af9; stroke:none; fill-opacity:0\" cx=\"1659.34\" cy=\"1343.12\" r=\"2\"/>\n<circle clip-path=\"url(#clip552)\" style=\"fill:#009af9; stroke:none; fill-opacity:0\" cx=\"1736\" cy=\"1365.17\" r=\"2\"/>\n<circle clip-path=\"url(#clip552)\" style=\"fill:#009af9; stroke:none; fill-opacity:0\" cx=\"1812.66\" cy=\"1388.18\" r=\"2\"/>\n<circle clip-path=\"url(#clip552)\" style=\"fill:#009af9; stroke:none; fill-opacity:0\" cx=\"1889.33\" cy=\"1382.43\" r=\"2\"/>\n<circle clip-path=\"url(#clip552)\" style=\"fill:#009af9; stroke:none; fill-opacity:0\" cx=\"1965.99\" cy=\"1382.43\" r=\"2\"/>\n<circle clip-path=\"url(#clip552)\" style=\"fill:#009af9; stroke:none; fill-opacity:0\" cx=\"2042.65\" cy=\"1389.14\" r=\"2\"/>\n<circle clip-path=\"url(#clip552)\" style=\"fill:#009af9; stroke:none; fill-opacity:0\" cx=\"2119.32\" cy=\"1387.23\" r=\"2\"/>\n<circle clip-path=\"url(#clip552)\" style=\"fill:#009af9; stroke:none; fill-opacity:0\" cx=\"2195.98\" cy=\"1406.4\" r=\"2\"/>\n<path clip-path=\"url(#clip550)\" d=\"\nM1716.3 198.898 L2280.97 198.898 L2280.97 95.2176 L1716.3 95.2176  Z\n  \" fill=\"#ffffff\" fill-rule=\"evenodd\" fill-opacity=\"1\"/>\n<polyline clip-path=\"url(#clip550)\" style=\"stroke:#000000; stroke-linecap:round; stroke-linejoin:round; stroke-width:4; stroke-opacity:1; fill:none\" points=\"\n  1716.3,198.898 2280.97,198.898 2280.97,95.2176 1716.3,95.2176 1716.3,198.898 \n  \"/>\n<path clip-path=\"url(#clip550)\" d=\"\nM1740.23 167.794 L1883.79 167.794 L1883.79 126.322 L1740.23 126.322 L1740.23 167.794  Z\n  \" fill=\"#009af9\" fill-rule=\"evenodd\" fill-opacity=\"1\"/>\n<polyline clip-path=\"url(#clip550)\" style=\"stroke:#000000; stroke-linecap:round; stroke-linejoin:round; stroke-width:4; stroke-opacity:1; fill:none\" points=\"\n  1740.23,167.794 1883.79,167.794 1883.79,126.322 1740.23,126.322 1740.23,167.794 \n  \"/>\n<path clip-path=\"url(#clip550)\" d=\"M1907.72 129.778 L1927.58 129.778 L1927.58 133.713 L1912.4 133.713 L1912.4 143.898 L1926.1 143.898 L1926.1 147.833 L1912.4 147.833 L1912.4 164.338 L1907.72 164.338 L1907.72 129.778 Z\" fill=\"#000000\" fill-rule=\"evenodd\" fill-opacity=\"1\" /><path clip-path=\"url(#clip550)\" d=\"M1931.35 138.412 L1935.61 138.412 L1935.61 164.338 L1931.35 164.338 L1931.35 138.412 M1931.35 128.319 L1935.61 128.319 L1935.61 133.713 L1931.35 133.713 L1931.35 128.319 Z\" fill=\"#000000\" fill-rule=\"evenodd\" fill-opacity=\"1\" /><path clip-path=\"url(#clip550)\" d=\"M1959.55 142.393 Q1958.83 141.977 1957.97 141.791 Q1957.14 141.583 1956.12 141.583 Q1952.51 141.583 1950.57 143.944 Q1948.64 146.282 1948.64 150.68 L1948.64 164.338 L1944.36 164.338 L1944.36 138.412 L1948.64 138.412 L1948.64 142.44 Q1949.99 140.078 1952.14 138.944 Q1954.29 137.787 1957.37 137.787 Q1957.81 137.787 1958.34 137.856 Q1958.88 137.903 1959.52 138.018 L1959.55 142.393 Z\" fill=\"#000000\" fill-rule=\"evenodd\" fill-opacity=\"1\" /><path clip-path=\"url(#clip550)\" d=\"M1980.54 139.176 L1980.54 143.203 Q1978.74 142.277 1976.79 141.815 Q1974.85 141.352 1972.77 141.352 Q1969.59 141.352 1968 142.324 Q1966.42 143.296 1966.42 145.24 Q1966.42 146.722 1967.56 147.578 Q1968.69 148.412 1972.12 149.176 L1973.58 149.5 Q1978.11 150.472 1980.01 152.254 Q1981.93 154.014 1981.93 157.185 Q1981.93 160.796 1979.06 162.902 Q1976.21 165.009 1971.21 165.009 Q1969.13 165.009 1966.86 164.592 Q1964.62 164.199 1962.12 163.388 L1962.12 158.99 Q1964.48 160.217 1966.77 160.842 Q1969.06 161.444 1971.31 161.444 Q1974.32 161.444 1975.94 160.426 Q1977.56 159.384 1977.56 157.509 Q1977.56 155.773 1976.38 154.847 Q1975.22 153.921 1971.26 153.064 L1969.78 152.717 Q1965.82 151.884 1964.06 150.171 Q1962.3 148.435 1962.3 145.426 Q1962.3 141.768 1964.89 139.778 Q1967.49 137.787 1972.26 137.787 Q1974.62 137.787 1976.7 138.134 Q1978.78 138.481 1980.54 139.176 Z\" fill=\"#000000\" fill-rule=\"evenodd\" fill-opacity=\"1\" /><path clip-path=\"url(#clip550)\" d=\"M1992.93 131.051 L1992.93 138.412 L2001.7 138.412 L2001.7 141.722 L1992.93 141.722 L1992.93 155.796 Q1992.93 158.967 1993.78 159.87 Q1994.66 160.773 1997.33 160.773 L2001.7 160.773 L2001.7 164.338 L1997.33 164.338 Q1992.39 164.338 1990.52 162.509 Q1988.64 160.657 1988.64 155.796 L1988.64 141.722 L1985.52 141.722 L1985.52 138.412 L1988.64 138.412 L1988.64 131.051 L1992.93 131.051 Z\" fill=\"#000000\" fill-rule=\"evenodd\" fill-opacity=\"1\" /><path clip-path=\"url(#clip550)\" d=\"M2022.37 138.412 L2026.63 138.412 L2026.63 164.801 Q2026.63 169.754 2024.73 171.976 Q2022.86 174.199 2018.67 174.199 L2017.05 174.199 L2017.05 170.588 L2018.18 170.588 Q2020.61 170.588 2021.49 169.453 Q2022.37 168.342 2022.37 164.801 L2022.37 138.412 M2022.37 128.319 L2026.63 128.319 L2026.63 133.713 L2022.37 133.713 L2022.37 128.319 Z\" fill=\"#000000\" fill-rule=\"evenodd\" fill-opacity=\"1\" /><path clip-path=\"url(#clip550)\" d=\"M2035.1 154.106 L2035.1 138.412 L2039.36 138.412 L2039.36 153.944 Q2039.36 157.625 2040.8 159.476 Q2042.23 161.305 2045.1 161.305 Q2048.55 161.305 2050.54 159.106 Q2052.56 156.907 2052.56 153.111 L2052.56 138.412 L2056.82 138.412 L2056.82 164.338 L2052.56 164.338 L2052.56 160.356 Q2051.01 162.717 2048.95 163.875 Q2046.91 165.009 2044.2 165.009 Q2039.73 165.009 2037.42 162.231 Q2035.1 159.453 2035.1 154.106 M2045.82 137.787 L2045.82 137.787 Z\" fill=\"#000000\" fill-rule=\"evenodd\" fill-opacity=\"1\" /><path clip-path=\"url(#clip550)\" d=\"M2085.77 143.389 Q2087.37 140.518 2089.59 139.153 Q2091.82 137.787 2094.82 137.787 Q2098.88 137.787 2101.07 140.634 Q2103.27 143.458 2103.27 148.689 L2103.27 164.338 L2098.99 164.338 L2098.99 148.828 Q2098.99 145.102 2097.67 143.296 Q2096.35 141.49 2093.64 141.49 Q2090.33 141.49 2088.41 143.69 Q2086.49 145.889 2086.49 149.685 L2086.49 164.338 L2082.21 164.338 L2082.21 148.828 Q2082.21 145.078 2080.89 143.296 Q2079.57 141.49 2076.82 141.49 Q2073.55 141.49 2071.63 143.713 Q2069.71 145.912 2069.71 149.685 L2069.71 164.338 L2065.43 164.338 L2065.43 138.412 L2069.71 138.412 L2069.71 142.44 Q2071.17 140.055 2073.2 138.921 Q2075.24 137.787 2078.04 137.787 Q2080.87 137.787 2082.83 139.222 Q2084.82 140.657 2085.77 143.389 Z\" fill=\"#000000\" fill-rule=\"evenodd\" fill-opacity=\"1\" /><path clip-path=\"url(#clip550)\" d=\"M2115.89 160.449 L2115.89 174.199 L2111.61 174.199 L2111.61 138.412 L2115.89 138.412 L2115.89 142.347 Q2117.23 140.032 2119.27 138.921 Q2121.33 137.787 2124.18 137.787 Q2128.9 137.787 2131.84 141.537 Q2134.8 145.287 2134.8 151.398 Q2134.8 157.509 2131.84 161.259 Q2128.9 165.009 2124.18 165.009 Q2121.33 165.009 2119.27 163.898 Q2117.23 162.763 2115.89 160.449 M2130.38 151.398 Q2130.38 146.699 2128.44 144.037 Q2126.51 141.352 2123.13 141.352 Q2119.76 141.352 2117.81 144.037 Q2115.89 146.699 2115.89 151.398 Q2115.89 156.097 2117.81 158.782 Q2119.76 161.444 2123.13 161.444 Q2126.51 161.444 2128.44 158.782 Q2130.38 156.097 2130.38 151.398 Z\" fill=\"#000000\" fill-rule=\"evenodd\" fill-opacity=\"1\" /><path clip-path=\"url(#clip550)\" d=\"M2161.14 131.051 L2161.14 138.412 L2169.92 138.412 L2169.92 141.722 L2161.14 141.722 L2161.14 155.796 Q2161.14 158.967 2162 159.87 Q2162.88 160.773 2165.54 160.773 L2169.92 160.773 L2169.92 164.338 L2165.54 164.338 Q2160.61 164.338 2158.74 162.509 Q2156.86 160.657 2156.86 155.796 L2156.86 141.722 L2153.74 141.722 L2153.74 138.412 L2156.86 138.412 L2156.86 131.051 L2161.14 131.051 Z\" fill=\"#000000\" fill-rule=\"evenodd\" fill-opacity=\"1\" /><path clip-path=\"url(#clip550)\" d=\"M2175.52 138.412 L2179.78 138.412 L2179.78 164.338 L2175.52 164.338 L2175.52 138.412 M2175.52 128.319 L2179.78 128.319 L2179.78 133.713 L2175.52 133.713 L2175.52 128.319 Z\" fill=\"#000000\" fill-rule=\"evenodd\" fill-opacity=\"1\" /><path clip-path=\"url(#clip550)\" d=\"M2208.87 143.389 Q2210.47 140.518 2212.69 139.153 Q2214.92 137.787 2217.93 137.787 Q2221.98 137.787 2224.18 140.634 Q2226.37 143.458 2226.37 148.689 L2226.37 164.338 L2222.09 164.338 L2222.09 148.828 Q2222.09 145.102 2220.77 143.296 Q2219.45 141.49 2216.75 141.49 Q2213.44 141.49 2211.51 143.69 Q2209.59 145.889 2209.59 149.685 L2209.59 164.338 L2205.31 164.338 L2205.31 148.828 Q2205.31 145.078 2203.99 143.296 Q2202.67 141.49 2199.92 141.49 Q2196.65 141.49 2194.73 143.713 Q2192.81 145.912 2192.81 149.685 L2192.81 164.338 L2188.53 164.338 L2188.53 138.412 L2192.81 138.412 L2192.81 142.44 Q2194.27 140.055 2196.31 138.921 Q2198.34 137.787 2201.14 137.787 Q2203.97 137.787 2205.94 139.222 Q2207.93 140.657 2208.87 143.389 Z\" fill=\"#000000\" fill-rule=\"evenodd\" fill-opacity=\"1\" /><path clip-path=\"url(#clip550)\" d=\"M2257.05 150.31 L2257.05 152.393 L2237.46 152.393 Q2237.74 156.791 2240.1 159.106 Q2242.49 161.398 2246.72 161.398 Q2249.18 161.398 2251.47 160.796 Q2253.78 160.194 2256.05 158.99 L2256.05 163.018 Q2253.76 163.99 2251.35 164.5 Q2248.94 165.009 2246.47 165.009 Q2240.26 165.009 2236.63 161.398 Q2233.02 157.787 2233.02 151.629 Q2233.02 145.264 2236.44 141.537 Q2239.89 137.787 2245.73 137.787 Q2250.96 137.787 2253.99 141.166 Q2257.05 144.523 2257.05 150.31 M2252.79 149.06 Q2252.74 145.565 2250.82 143.481 Q2248.92 141.398 2245.77 141.398 Q2242.21 141.398 2240.06 143.412 Q2237.93 145.426 2237.6 149.083 L2252.79 149.06 Z\" fill=\"#000000\" fill-rule=\"evenodd\" fill-opacity=\"1\" /></svg>\n"
     },
     "execution_count": 42,
     "metadata": {},
     "output_type": "execute_result"
    }
   ],
   "source": [
    "histogram(v_first_jump_times, nbins=30, label=\"First jump time\")"
   ]
  },
  {
   "cell_type": "code",
   "execution_count": 43,
   "metadata": {},
   "outputs": [
    {
     "name": "stderr",
     "output_type": "stream",
     "text": [
      "\u001b[32mGillespie evolution... 100%|█████████████████████████████| Time: 0:00:15\u001b[39m\n"
     ]
    },
    {
     "name": "stdout",
     "output_type": "stream",
     "text": [
      "-> Truncation error given by norm of latest Qs matrix: 0.011656836038551145\n"
     ]
    },
    {
     "data": {
      "text/plain": [
       "10000-element Vector{Any}:\n",
       "  7.14\n",
       "  8.9\n",
       " 32.33\n",
       "  0.68\n",
       "  7.37\n",
       " 31.66\n",
       "  3.75\n",
       " 19.98\n",
       " 29.32\n",
       " 23.49\n",
       " 18.08\n",
       " 18.76\n",
       " 29.15\n",
       "  ⋮\n",
       " 41.83\n",
       "  4.38\n",
       " 46.26\n",
       "  7.72\n",
       " 15.02\n",
       "  3.23\n",
       " 19.87\n",
       " 18.13\n",
       " 40.47\n",
       " 15.88\n",
       "  1.41\n",
       "  4.92"
      ]
     },
     "execution_count": 43,
     "metadata": {},
     "output_type": "execute_result"
    }
   ],
   "source": [
    "trajectories_results_pure, V, t_range = Gillespie.gillespie(H, M_l, ψ0, t_final, dt,number_trajectories);\n",
    "v_first_jump_times_pure = []\n",
    "for trajectory in 1:number_trajectories\n",
    "    push!(v_first_jump_times_pure, trajectories_results_pure[trajectory][2][\"AbsTime\"])\n",
    "end\n",
    "\n",
    "v_first_jump_times_pure"
   ]
  },
  {
   "cell_type": "code",
   "execution_count": 44,
   "metadata": {},
   "outputs": [
    {
     "data": {
      "image/svg+xml": "<?xml version=\"1.0\" encoding=\"utf-8\"?>\n<svg xmlns=\"http://www.w3.org/2000/svg\" xmlns:xlink=\"http://www.w3.org/1999/xlink\" width=\"600\" height=\"400\" viewBox=\"0 0 2400 1600\">\n<defs>\n  <clipPath id=\"clip590\">\n    <rect x=\"0\" y=\"0\" width=\"2400\" height=\"1600\"/>\n  </clipPath>\n</defs>\n<path clip-path=\"url(#clip590)\" d=\"\nM0 1600 L2400 1600 L2400 0 L0 0  Z\n  \" fill=\"#ffffff\" fill-rule=\"evenodd\" fill-opacity=\"1\"/>\n<defs>\n  <clipPath id=\"clip591\">\n    <rect x=\"480\" y=\"0\" width=\"1681\" height=\"1600\"/>\n  </clipPath>\n</defs>\n<path clip-path=\"url(#clip590)\" d=\"\nM199.283 1486.45 L2352.76 1486.45 L2352.76 47.2441 L199.283 47.2441  Z\n  \" fill=\"#ffffff\" fill-rule=\"evenodd\" fill-opacity=\"1\"/>\n<defs>\n  <clipPath id=\"clip592\">\n    <rect x=\"199\" y=\"47\" width=\"2154\" height=\"1440\"/>\n  </clipPath>\n</defs>\n<polyline clip-path=\"url(#clip592)\" style=\"stroke:#000000; stroke-linecap:round; stroke-linejoin:round; stroke-width:2; stroke-opacity:0.1; fill:none\" points=\"\n  317.728,1486.45 317.728,47.2441 \n  \"/>\n<polyline clip-path=\"url(#clip592)\" style=\"stroke:#000000; stroke-linecap:round; stroke-linejoin:round; stroke-width:2; stroke-opacity:0.1; fill:none\" points=\"\n  701.045,1486.45 701.045,47.2441 \n  \"/>\n<polyline clip-path=\"url(#clip592)\" style=\"stroke:#000000; stroke-linecap:round; stroke-linejoin:round; stroke-width:2; stroke-opacity:0.1; fill:none\" points=\"\n  1084.36,1486.45 1084.36,47.2441 \n  \"/>\n<polyline clip-path=\"url(#clip592)\" style=\"stroke:#000000; stroke-linecap:round; stroke-linejoin:round; stroke-width:2; stroke-opacity:0.1; fill:none\" points=\"\n  1467.68,1486.45 1467.68,47.2441 \n  \"/>\n<polyline clip-path=\"url(#clip592)\" style=\"stroke:#000000; stroke-linecap:round; stroke-linejoin:round; stroke-width:2; stroke-opacity:0.1; fill:none\" points=\"\n  1850.99,1486.45 1850.99,47.2441 \n  \"/>\n<polyline clip-path=\"url(#clip592)\" style=\"stroke:#000000; stroke-linecap:round; stroke-linejoin:round; stroke-width:2; stroke-opacity:0.1; fill:none\" points=\"\n  2234.31,1486.45 2234.31,47.2441 \n  \"/>\n<polyline clip-path=\"url(#clip590)\" style=\"stroke:#000000; stroke-linecap:round; stroke-linejoin:round; stroke-width:4; stroke-opacity:1; fill:none\" points=\"\n  199.283,1486.45 2352.76,1486.45 \n  \"/>\n<polyline clip-path=\"url(#clip590)\" style=\"stroke:#000000; stroke-linecap:round; stroke-linejoin:round; stroke-width:4; stroke-opacity:1; fill:none\" points=\"\n  317.728,1486.45 317.728,1467.55 \n  \"/>\n<polyline clip-path=\"url(#clip590)\" style=\"stroke:#000000; stroke-linecap:round; stroke-linejoin:round; stroke-width:4; stroke-opacity:1; fill:none\" points=\"\n  701.045,1486.45 701.045,1467.55 \n  \"/>\n<polyline clip-path=\"url(#clip590)\" style=\"stroke:#000000; stroke-linecap:round; stroke-linejoin:round; stroke-width:4; stroke-opacity:1; fill:none\" points=\"\n  1084.36,1486.45 1084.36,1467.55 \n  \"/>\n<polyline clip-path=\"url(#clip590)\" style=\"stroke:#000000; stroke-linecap:round; stroke-linejoin:round; stroke-width:4; stroke-opacity:1; fill:none\" points=\"\n  1467.68,1486.45 1467.68,1467.55 \n  \"/>\n<polyline clip-path=\"url(#clip590)\" style=\"stroke:#000000; stroke-linecap:round; stroke-linejoin:round; stroke-width:4; stroke-opacity:1; fill:none\" points=\"\n  1850.99,1486.45 1850.99,1467.55 \n  \"/>\n<polyline clip-path=\"url(#clip590)\" style=\"stroke:#000000; stroke-linecap:round; stroke-linejoin:round; stroke-width:4; stroke-opacity:1; fill:none\" points=\"\n  2234.31,1486.45 2234.31,1467.55 \n  \"/>\n<path clip-path=\"url(#clip590)\" d=\"M317.728 1517.37 Q314.117 1517.37 312.288 1520.93 Q310.483 1524.47 310.483 1531.6 Q310.483 1538.71 312.288 1542.27 Q314.117 1545.82 317.728 1545.82 Q321.362 1545.82 323.168 1542.27 Q324.997 1538.71 324.997 1531.6 Q324.997 1524.47 323.168 1520.93 Q321.362 1517.37 317.728 1517.37 M317.728 1513.66 Q323.538 1513.66 326.594 1518.27 Q329.672 1522.85 329.672 1531.6 Q329.672 1540.33 326.594 1544.94 Q323.538 1549.52 317.728 1549.52 Q311.918 1549.52 308.839 1544.94 Q305.784 1540.33 305.784 1531.6 Q305.784 1522.85 308.839 1518.27 Q311.918 1513.66 317.728 1513.66 Z\" fill=\"#000000\" fill-rule=\"evenodd\" fill-opacity=\"1\" /><path clip-path=\"url(#clip590)\" d=\"M675.732 1544.91 L683.371 1544.91 L683.371 1518.55 L675.061 1520.21 L675.061 1515.95 L683.325 1514.29 L688.001 1514.29 L688.001 1544.91 L695.64 1544.91 L695.64 1548.85 L675.732 1548.85 L675.732 1544.91 Z\" fill=\"#000000\" fill-rule=\"evenodd\" fill-opacity=\"1\" /><path clip-path=\"url(#clip590)\" d=\"M715.084 1517.37 Q711.473 1517.37 709.644 1520.93 Q707.839 1524.47 707.839 1531.6 Q707.839 1538.71 709.644 1542.27 Q711.473 1545.82 715.084 1545.82 Q718.718 1545.82 720.524 1542.27 Q722.352 1538.71 722.352 1531.6 Q722.352 1524.47 720.524 1520.93 Q718.718 1517.37 715.084 1517.37 M715.084 1513.66 Q720.894 1513.66 723.95 1518.27 Q727.028 1522.85 727.028 1531.6 Q727.028 1540.33 723.95 1544.94 Q720.894 1549.52 715.084 1549.52 Q709.274 1549.52 706.195 1544.94 Q703.14 1540.33 703.14 1531.6 Q703.14 1522.85 706.195 1518.27 Q709.274 1513.66 715.084 1513.66 Z\" fill=\"#000000\" fill-rule=\"evenodd\" fill-opacity=\"1\" /><path clip-path=\"url(#clip590)\" d=\"M1063.13 1544.91 L1079.45 1544.91 L1079.45 1548.85 L1057.51 1548.85 L1057.51 1544.91 Q1060.17 1542.16 1064.75 1537.53 Q1069.36 1532.88 1070.54 1531.53 Q1072.79 1529.01 1073.67 1527.27 Q1074.57 1525.51 1074.57 1523.82 Q1074.57 1521.07 1072.63 1519.33 Q1070.7 1517.6 1067.6 1517.6 Q1065.4 1517.6 1062.95 1518.36 Q1060.52 1519.13 1057.74 1520.68 L1057.74 1515.95 Q1060.57 1514.82 1063.02 1514.24 Q1065.47 1513.66 1067.51 1513.66 Q1072.88 1513.66 1076.07 1516.35 Q1079.27 1519.03 1079.27 1523.52 Q1079.27 1525.65 1078.46 1527.57 Q1077.67 1529.47 1075.56 1532.07 Q1074.99 1532.74 1071.88 1535.95 Q1068.78 1539.15 1063.13 1544.91 Z\" fill=\"#000000\" fill-rule=\"evenodd\" fill-opacity=\"1\" /><path clip-path=\"url(#clip590)\" d=\"M1099.27 1517.37 Q1095.66 1517.37 1093.83 1520.93 Q1092.02 1524.47 1092.02 1531.6 Q1092.02 1538.71 1093.83 1542.27 Q1095.66 1545.82 1099.27 1545.82 Q1102.9 1545.82 1104.71 1542.27 Q1106.54 1538.71 1106.54 1531.6 Q1106.54 1524.47 1104.71 1520.93 Q1102.9 1517.37 1099.27 1517.37 M1099.27 1513.66 Q1105.08 1513.66 1108.13 1518.27 Q1111.21 1522.85 1111.21 1531.6 Q1111.21 1540.33 1108.13 1544.94 Q1105.08 1549.52 1099.27 1549.52 Q1093.46 1549.52 1090.38 1544.94 Q1087.32 1540.33 1087.32 1531.6 Q1087.32 1522.85 1090.38 1518.27 Q1093.46 1513.66 1099.27 1513.66 Z\" fill=\"#000000\" fill-rule=\"evenodd\" fill-opacity=\"1\" /><path clip-path=\"url(#clip590)\" d=\"M1456.52 1530.21 Q1459.88 1530.93 1461.75 1533.2 Q1463.65 1535.47 1463.65 1538.8 Q1463.65 1543.92 1460.13 1546.72 Q1456.61 1549.52 1450.13 1549.52 Q1447.96 1549.52 1445.64 1549.08 Q1443.35 1548.66 1440.9 1547.81 L1440.9 1543.29 Q1442.84 1544.43 1445.15 1545.01 Q1447.47 1545.58 1449.99 1545.58 Q1454.39 1545.58 1456.68 1543.85 Q1459 1542.11 1459 1538.8 Q1459 1535.75 1456.84 1534.03 Q1454.71 1532.3 1450.9 1532.3 L1446.87 1532.3 L1446.87 1528.45 L1451.08 1528.45 Q1454.53 1528.45 1456.36 1527.09 Q1458.19 1525.7 1458.19 1523.11 Q1458.19 1520.45 1456.29 1519.03 Q1454.41 1517.6 1450.9 1517.6 Q1448.97 1517.6 1446.78 1518.01 Q1444.58 1518.43 1441.94 1519.31 L1441.94 1515.14 Q1444.6 1514.4 1446.91 1514.03 Q1449.25 1513.66 1451.31 1513.66 Q1456.64 1513.66 1459.74 1516.09 Q1462.84 1518.5 1462.84 1522.62 Q1462.84 1525.49 1461.2 1527.48 Q1459.55 1529.45 1456.52 1530.21 Z\" fill=\"#000000\" fill-rule=\"evenodd\" fill-opacity=\"1\" /><path clip-path=\"url(#clip590)\" d=\"M1482.52 1517.37 Q1478.9 1517.37 1477.08 1520.93 Q1475.27 1524.47 1475.27 1531.6 Q1475.27 1538.71 1477.08 1542.27 Q1478.9 1545.82 1482.52 1545.82 Q1486.15 1545.82 1487.96 1542.27 Q1489.78 1538.71 1489.78 1531.6 Q1489.78 1524.47 1487.96 1520.93 Q1486.15 1517.37 1482.52 1517.37 M1482.52 1513.66 Q1488.33 1513.66 1491.38 1518.27 Q1494.46 1522.85 1494.46 1531.6 Q1494.46 1540.33 1491.38 1544.94 Q1488.33 1549.52 1482.52 1549.52 Q1476.71 1549.52 1473.63 1544.94 Q1470.57 1540.33 1470.57 1531.6 Q1470.57 1522.85 1473.63 1518.27 Q1476.71 1513.66 1482.52 1513.66 Z\" fill=\"#000000\" fill-rule=\"evenodd\" fill-opacity=\"1\" /><path clip-path=\"url(#clip590)\" d=\"M1839.17 1518.36 L1827.36 1536.81 L1839.17 1536.81 L1839.17 1518.36 M1837.94 1514.29 L1843.82 1514.29 L1843.82 1536.81 L1848.75 1536.81 L1848.75 1540.7 L1843.82 1540.7 L1843.82 1548.85 L1839.17 1548.85 L1839.17 1540.7 L1823.56 1540.7 L1823.56 1536.19 L1837.94 1514.29 Z\" fill=\"#000000\" fill-rule=\"evenodd\" fill-opacity=\"1\" /><path clip-path=\"url(#clip590)\" d=\"M1866.48 1517.37 Q1862.87 1517.37 1861.04 1520.93 Q1859.24 1524.47 1859.24 1531.6 Q1859.24 1538.71 1861.04 1542.27 Q1862.87 1545.82 1866.48 1545.82 Q1870.11 1545.82 1871.92 1542.27 Q1873.75 1538.71 1873.75 1531.6 Q1873.75 1524.47 1871.92 1520.93 Q1870.11 1517.37 1866.48 1517.37 M1866.48 1513.66 Q1872.29 1513.66 1875.35 1518.27 Q1878.42 1522.85 1878.42 1531.6 Q1878.42 1540.33 1875.35 1544.94 Q1872.29 1549.52 1866.48 1549.52 Q1860.67 1549.52 1857.59 1544.94 Q1854.54 1540.33 1854.54 1531.6 Q1854.54 1522.85 1857.59 1518.27 Q1860.67 1513.66 1866.48 1513.66 Z\" fill=\"#000000\" fill-rule=\"evenodd\" fill-opacity=\"1\" /><path clip-path=\"url(#clip590)\" d=\"M2209.01 1514.29 L2227.37 1514.29 L2227.37 1518.22 L2213.29 1518.22 L2213.29 1526.7 Q2214.31 1526.35 2215.33 1526.19 Q2216.35 1526 2217.37 1526 Q2223.15 1526 2226.53 1529.17 Q2229.91 1532.34 2229.91 1537.76 Q2229.91 1543.34 2226.44 1546.44 Q2222.97 1549.52 2216.65 1549.52 Q2214.47 1549.52 2212.2 1549.15 Q2209.96 1548.78 2207.55 1548.04 L2207.55 1543.34 Q2209.64 1544.47 2211.86 1545.03 Q2214.08 1545.58 2216.56 1545.58 Q2220.56 1545.58 2222.9 1543.48 Q2225.24 1541.37 2225.24 1537.76 Q2225.24 1534.15 2222.9 1532.04 Q2220.56 1529.94 2216.56 1529.94 Q2214.68 1529.94 2212.81 1530.35 Q2210.95 1530.77 2209.01 1531.65 L2209.01 1514.29 Z\" fill=\"#000000\" fill-rule=\"evenodd\" fill-opacity=\"1\" /><path clip-path=\"url(#clip590)\" d=\"M2249.13 1517.37 Q2245.51 1517.37 2243.69 1520.93 Q2241.88 1524.47 2241.88 1531.6 Q2241.88 1538.71 2243.69 1542.27 Q2245.51 1545.82 2249.13 1545.82 Q2252.76 1545.82 2254.57 1542.27 Q2256.39 1538.71 2256.39 1531.6 Q2256.39 1524.47 2254.57 1520.93 Q2252.76 1517.37 2249.13 1517.37 M2249.13 1513.66 Q2254.94 1513.66 2257.99 1518.27 Q2261.07 1522.85 2261.07 1531.6 Q2261.07 1540.33 2257.99 1544.94 Q2254.94 1549.52 2249.13 1549.52 Q2243.32 1549.52 2240.24 1544.94 Q2237.18 1540.33 2237.18 1531.6 Q2237.18 1522.85 2240.24 1518.27 Q2243.32 1513.66 2249.13 1513.66 Z\" fill=\"#000000\" fill-rule=\"evenodd\" fill-opacity=\"1\" /><polyline clip-path=\"url(#clip592)\" style=\"stroke:#000000; stroke-linecap:round; stroke-linejoin:round; stroke-width:2; stroke-opacity:0.1; fill:none\" points=\"\n  199.283,1445.72 2352.76,1445.72 \n  \"/>\n<polyline clip-path=\"url(#clip592)\" style=\"stroke:#000000; stroke-linecap:round; stroke-linejoin:round; stroke-width:2; stroke-opacity:0.1; fill:none\" points=\"\n  199.283,1163.25 2352.76,1163.25 \n  \"/>\n<polyline clip-path=\"url(#clip592)\" style=\"stroke:#000000; stroke-linecap:round; stroke-linejoin:round; stroke-width:2; stroke-opacity:0.1; fill:none\" points=\"\n  199.283,880.776 2352.76,880.776 \n  \"/>\n<polyline clip-path=\"url(#clip592)\" style=\"stroke:#000000; stroke-linecap:round; stroke-linejoin:round; stroke-width:2; stroke-opacity:0.1; fill:none\" points=\"\n  199.283,598.306 2352.76,598.306 \n  \"/>\n<polyline clip-path=\"url(#clip592)\" style=\"stroke:#000000; stroke-linecap:round; stroke-linejoin:round; stroke-width:2; stroke-opacity:0.1; fill:none\" points=\"\n  199.283,315.835 2352.76,315.835 \n  \"/>\n<polyline clip-path=\"url(#clip590)\" style=\"stroke:#000000; stroke-linecap:round; stroke-linejoin:round; stroke-width:4; stroke-opacity:1; fill:none\" points=\"\n  199.283,1486.45 199.283,47.2441 \n  \"/>\n<polyline clip-path=\"url(#clip590)\" style=\"stroke:#000000; stroke-linecap:round; stroke-linejoin:round; stroke-width:4; stroke-opacity:1; fill:none\" points=\"\n  199.283,1445.72 218.181,1445.72 \n  \"/>\n<polyline clip-path=\"url(#clip590)\" style=\"stroke:#000000; stroke-linecap:round; stroke-linejoin:round; stroke-width:4; stroke-opacity:1; fill:none\" points=\"\n  199.283,1163.25 218.181,1163.25 \n  \"/>\n<polyline clip-path=\"url(#clip590)\" style=\"stroke:#000000; stroke-linecap:round; stroke-linejoin:round; stroke-width:4; stroke-opacity:1; fill:none\" points=\"\n  199.283,880.776 218.181,880.776 \n  \"/>\n<polyline clip-path=\"url(#clip590)\" style=\"stroke:#000000; stroke-linecap:round; stroke-linejoin:round; stroke-width:4; stroke-opacity:1; fill:none\" points=\"\n  199.283,598.306 218.181,598.306 \n  \"/>\n<polyline clip-path=\"url(#clip590)\" style=\"stroke:#000000; stroke-linecap:round; stroke-linejoin:round; stroke-width:4; stroke-opacity:1; fill:none\" points=\"\n  199.283,315.835 218.181,315.835 \n  \"/>\n<path clip-path=\"url(#clip590)\" d=\"M151.339 1431.51 Q147.728 1431.51 145.899 1435.08 Q144.093 1438.62 144.093 1445.75 Q144.093 1452.86 145.899 1456.42 Q147.728 1459.96 151.339 1459.96 Q154.973 1459.96 156.779 1456.42 Q158.607 1452.86 158.607 1445.75 Q158.607 1438.62 156.779 1435.08 Q154.973 1431.51 151.339 1431.51 M151.339 1427.81 Q157.149 1427.81 160.205 1432.42 Q163.283 1437 163.283 1445.75 Q163.283 1454.48 160.205 1459.08 Q157.149 1463.67 151.339 1463.67 Q145.529 1463.67 142.45 1459.08 Q139.394 1454.48 139.394 1445.75 Q139.394 1437 142.45 1432.42 Q145.529 1427.81 151.339 1427.81 Z\" fill=\"#000000\" fill-rule=\"evenodd\" fill-opacity=\"1\" /><path clip-path=\"url(#clip590)\" d=\"M95.1817 1161.89 Q98.5382 1162.61 100.413 1164.88 Q102.311 1167.15 102.311 1170.48 Q102.311 1175.6 98.7928 1178.4 Q95.2743 1181.2 88.7928 1181.2 Q86.6169 1181.2 84.3021 1180.76 Q82.0105 1180.34 79.5568 1179.48 L79.5568 1174.97 Q81.5012 1176.1 83.816 1176.68 Q86.1308 1177.26 88.654 1177.26 Q93.0521 1177.26 95.3437 1175.53 Q97.6585 1173.79 97.6585 1170.48 Q97.6585 1167.42 95.5058 1165.71 Q93.3762 1163.97 89.5567 1163.97 L85.529 1163.97 L85.529 1160.13 L89.7419 1160.13 Q93.191 1160.13 95.0197 1158.77 Q96.8484 1157.38 96.8484 1154.79 Q96.8484 1152.12 94.9502 1150.71 Q93.0752 1149.28 89.5567 1149.28 Q87.6354 1149.28 85.4364 1149.69 Q83.2373 1150.11 80.5984 1150.99 L80.5984 1146.82 Q83.2605 1146.08 85.5753 1145.71 Q87.9132 1145.34 89.9734 1145.34 Q95.2974 1145.34 98.3993 1147.77 Q101.501 1150.18 101.501 1154.3 Q101.501 1157.17 99.8576 1159.16 Q98.2141 1161.13 95.1817 1161.89 Z\" fill=\"#000000\" fill-rule=\"evenodd\" fill-opacity=\"1\" /><path clip-path=\"url(#clip590)\" d=\"M121.177 1149.04 Q117.566 1149.04 115.737 1152.61 Q113.932 1156.15 113.932 1163.28 Q113.932 1170.39 115.737 1173.95 Q117.566 1177.49 121.177 1177.49 Q124.811 1177.49 126.617 1173.95 Q128.445 1170.39 128.445 1163.28 Q128.445 1156.15 126.617 1152.61 Q124.811 1149.04 121.177 1149.04 M121.177 1145.34 Q126.987 1145.34 130.043 1149.95 Q133.121 1154.53 133.121 1163.28 Q133.121 1172.01 130.043 1176.61 Q126.987 1181.2 121.177 1181.2 Q115.367 1181.2 112.288 1176.61 Q109.233 1172.01 109.233 1163.28 Q109.233 1154.53 112.288 1149.95 Q115.367 1145.34 121.177 1145.34 Z\" fill=\"#000000\" fill-rule=\"evenodd\" fill-opacity=\"1\" /><path clip-path=\"url(#clip590)\" d=\"M151.339 1149.04 Q147.728 1149.04 145.899 1152.61 Q144.093 1156.15 144.093 1163.28 Q144.093 1170.39 145.899 1173.95 Q147.728 1177.49 151.339 1177.49 Q154.973 1177.49 156.779 1173.95 Q158.607 1170.39 158.607 1163.28 Q158.607 1156.15 156.779 1152.61 Q154.973 1149.04 151.339 1149.04 M151.339 1145.34 Q157.149 1145.34 160.205 1149.95 Q163.283 1154.53 163.283 1163.28 Q163.283 1172.01 160.205 1176.61 Q157.149 1181.2 151.339 1181.2 Q145.529 1181.2 142.45 1176.61 Q139.394 1172.01 139.394 1163.28 Q139.394 1154.53 142.45 1149.95 Q145.529 1145.34 151.339 1145.34 Z\" fill=\"#000000\" fill-rule=\"evenodd\" fill-opacity=\"1\" /><path clip-path=\"url(#clip590)\" d=\"M91.5938 878.912 Q88.4456 878.912 86.5938 881.065 Q84.7651 883.218 84.7651 886.968 Q84.7651 890.695 86.5938 892.87 Q88.4456 895.023 91.5938 895.023 Q94.7419 895.023 96.5706 892.87 Q98.4224 890.695 98.4224 886.968 Q98.4224 883.218 96.5706 881.065 Q94.7419 878.912 91.5938 878.912 M100.876 864.259 L100.876 868.519 Q99.1169 867.685 97.3113 867.246 Q95.5289 866.806 93.7697 866.806 Q89.1401 866.806 86.6864 869.931 Q84.2558 873.056 83.9086 879.375 Q85.2743 877.361 87.3345 876.296 Q89.3947 875.208 91.8715 875.208 Q97.0798 875.208 100.089 878.38 Q103.121 881.528 103.121 886.968 Q103.121 892.292 99.9733 895.509 Q96.8252 898.727 91.5938 898.727 Q85.5984 898.727 82.4271 894.144 Q79.2559 889.537 79.2559 880.81 Q79.2559 872.616 83.1447 867.755 Q87.0336 862.871 93.5845 862.871 Q95.3437 862.871 97.1261 863.218 Q98.9317 863.565 100.876 864.259 Z\" fill=\"#000000\" fill-rule=\"evenodd\" fill-opacity=\"1\" /><path clip-path=\"url(#clip590)\" d=\"M121.177 866.574 Q117.566 866.574 115.737 870.139 Q113.932 873.681 113.932 880.81 Q113.932 887.917 115.737 891.482 Q117.566 895.023 121.177 895.023 Q124.811 895.023 126.617 891.482 Q128.445 887.917 128.445 880.81 Q128.445 873.681 126.617 870.139 Q124.811 866.574 121.177 866.574 M121.177 862.871 Q126.987 862.871 130.043 867.477 Q133.121 872.06 133.121 880.81 Q133.121 889.537 130.043 894.144 Q126.987 898.727 121.177 898.727 Q115.367 898.727 112.288 894.144 Q109.233 889.537 109.233 880.81 Q109.233 872.06 112.288 867.477 Q115.367 862.871 121.177 862.871 Z\" fill=\"#000000\" fill-rule=\"evenodd\" fill-opacity=\"1\" /><path clip-path=\"url(#clip590)\" d=\"M151.339 866.574 Q147.728 866.574 145.899 870.139 Q144.093 873.681 144.093 880.81 Q144.093 887.917 145.899 891.482 Q147.728 895.023 151.339 895.023 Q154.973 895.023 156.779 891.482 Q158.607 887.917 158.607 880.81 Q158.607 873.681 156.779 870.139 Q154.973 866.574 151.339 866.574 M151.339 862.871 Q157.149 862.871 160.205 867.477 Q163.283 872.06 163.283 880.81 Q163.283 889.537 160.205 894.144 Q157.149 898.727 151.339 898.727 Q145.529 898.727 142.45 894.144 Q139.394 889.537 139.394 880.81 Q139.394 872.06 142.45 867.477 Q145.529 862.871 151.339 862.871 Z\" fill=\"#000000\" fill-rule=\"evenodd\" fill-opacity=\"1\" /><path clip-path=\"url(#clip590)\" d=\"M81.154 614.868 L81.154 610.609 Q82.9133 611.442 84.7188 611.882 Q86.5243 612.322 88.2604 612.322 Q92.89 612.322 95.3206 609.22 Q97.7743 606.095 98.1215 599.752 Q96.7789 601.743 94.7187 602.808 Q92.6586 603.873 90.1586 603.873 Q84.9734 603.873 81.941 600.748 Q78.9318 597.6 78.9318 592.16 Q78.9318 586.836 82.0799 583.618 Q85.2281 580.401 90.4595 580.401 Q96.4548 580.401 99.603 585.007 Q102.774 589.59 102.774 598.34 Q102.774 606.511 98.8854 611.396 Q95.0197 616.257 88.4688 616.257 Q86.7095 616.257 84.904 615.91 Q83.0984 615.562 81.154 614.868 M90.4595 600.215 Q93.6076 600.215 95.4363 598.062 Q97.2882 595.91 97.2882 592.16 Q97.2882 588.433 95.4363 586.28 Q93.6076 584.104 90.4595 584.104 Q87.3114 584.104 85.4595 586.28 Q83.6308 588.433 83.6308 592.16 Q83.6308 595.91 85.4595 598.062 Q87.3114 600.215 90.4595 600.215 Z\" fill=\"#000000\" fill-rule=\"evenodd\" fill-opacity=\"1\" /><path clip-path=\"url(#clip590)\" d=\"M121.177 584.104 Q117.566 584.104 115.737 587.669 Q113.932 591.211 113.932 598.34 Q113.932 605.447 115.737 609.011 Q117.566 612.553 121.177 612.553 Q124.811 612.553 126.617 609.011 Q128.445 605.447 128.445 598.34 Q128.445 591.211 126.617 587.669 Q124.811 584.104 121.177 584.104 M121.177 580.401 Q126.987 580.401 130.043 585.007 Q133.121 589.59 133.121 598.34 Q133.121 607.067 130.043 611.673 Q126.987 616.257 121.177 616.257 Q115.367 616.257 112.288 611.673 Q109.233 607.067 109.233 598.34 Q109.233 589.59 112.288 585.007 Q115.367 580.401 121.177 580.401 Z\" fill=\"#000000\" fill-rule=\"evenodd\" fill-opacity=\"1\" /><path clip-path=\"url(#clip590)\" d=\"M151.339 584.104 Q147.728 584.104 145.899 587.669 Q144.093 591.211 144.093 598.34 Q144.093 605.447 145.899 609.011 Q147.728 612.553 151.339 612.553 Q154.973 612.553 156.779 609.011 Q158.607 605.447 158.607 598.34 Q158.607 591.211 156.779 587.669 Q154.973 584.104 151.339 584.104 M151.339 580.401 Q157.149 580.401 160.205 585.007 Q163.283 589.59 163.283 598.34 Q163.283 607.067 160.205 611.673 Q157.149 616.257 151.339 616.257 Q145.529 616.257 142.45 611.673 Q139.394 607.067 139.394 598.34 Q139.394 589.59 142.45 585.007 Q145.529 580.401 151.339 580.401 Z\" fill=\"#000000\" fill-rule=\"evenodd\" fill-opacity=\"1\" /><path clip-path=\"url(#clip590)\" d=\"M51.6634 329.18 L59.3023 329.18 L59.3023 302.815 L50.9921 304.481 L50.9921 300.222 L59.256 298.555 L63.9319 298.555 L63.9319 329.18 L71.5707 329.18 L71.5707 333.115 L51.6634 333.115 L51.6634 329.18 Z\" fill=\"#000000\" fill-rule=\"evenodd\" fill-opacity=\"1\" /><path clip-path=\"url(#clip590)\" d=\"M85.0429 329.18 L101.362 329.18 L101.362 333.115 L79.4179 333.115 L79.4179 329.18 Q82.0799 326.426 86.6632 321.796 Q91.2697 317.143 92.4502 315.801 Q94.6956 313.278 95.5752 311.541 Q96.478 309.782 96.478 308.092 Q96.478 305.338 94.5336 303.602 Q92.6123 301.866 89.5104 301.866 Q87.3114 301.866 84.8577 302.63 Q82.4271 303.393 79.6494 304.944 L79.6494 300.222 Q82.4734 299.088 84.9271 298.509 Q87.3808 297.93 89.4178 297.93 Q94.7882 297.93 97.9826 300.616 Q101.177 303.301 101.177 307.792 Q101.177 309.921 100.367 311.842 Q99.5798 313.741 97.4734 316.333 Q96.8947 317.004 93.7928 320.222 Q90.691 323.416 85.0429 329.18 Z\" fill=\"#000000\" fill-rule=\"evenodd\" fill-opacity=\"1\" /><path clip-path=\"url(#clip590)\" d=\"M121.177 301.634 Q117.566 301.634 115.737 305.199 Q113.932 308.741 113.932 315.87 Q113.932 322.977 115.737 326.541 Q117.566 330.083 121.177 330.083 Q124.811 330.083 126.617 326.541 Q128.445 322.977 128.445 315.87 Q128.445 308.741 126.617 305.199 Q124.811 301.634 121.177 301.634 M121.177 297.93 Q126.987 297.93 130.043 302.537 Q133.121 307.12 133.121 315.87 Q133.121 324.597 130.043 329.203 Q126.987 333.787 121.177 333.787 Q115.367 333.787 112.288 329.203 Q109.233 324.597 109.233 315.87 Q109.233 307.12 112.288 302.537 Q115.367 297.93 121.177 297.93 Z\" fill=\"#000000\" fill-rule=\"evenodd\" fill-opacity=\"1\" /><path clip-path=\"url(#clip590)\" d=\"M151.339 301.634 Q147.728 301.634 145.899 305.199 Q144.093 308.741 144.093 315.87 Q144.093 322.977 145.899 326.541 Q147.728 330.083 151.339 330.083 Q154.973 330.083 156.779 326.541 Q158.607 322.977 158.607 315.87 Q158.607 308.741 156.779 305.199 Q154.973 301.634 151.339 301.634 M151.339 297.93 Q157.149 297.93 160.205 302.537 Q163.283 307.12 163.283 315.87 Q163.283 324.597 160.205 329.203 Q157.149 333.787 151.339 333.787 Q145.529 333.787 142.45 329.203 Q139.394 324.597 139.394 315.87 Q139.394 307.12 142.45 302.537 Q145.529 297.93 151.339 297.93 Z\" fill=\"#000000\" fill-rule=\"evenodd\" fill-opacity=\"1\" /><path clip-path=\"url(#clip592)\" d=\"\nM317.728 87.9763 L317.728 1445.72 L394.391 1445.72 L394.391 87.9763 L317.728 87.9763 L317.728 87.9763  Z\n  \" fill=\"#009af9\" fill-rule=\"evenodd\" fill-opacity=\"1\"/>\n<polyline clip-path=\"url(#clip592)\" style=\"stroke:#000000; stroke-linecap:round; stroke-linejoin:round; stroke-width:4; stroke-opacity:1; fill:none\" points=\"\n  317.728,87.9763 317.728,1445.72 394.391,1445.72 394.391,87.9763 317.728,87.9763 \n  \"/>\n<path clip-path=\"url(#clip592)\" d=\"\nM394.391 260.283 L394.391 1445.72 L471.055 1445.72 L471.055 260.283 L394.391 260.283 L394.391 260.283  Z\n  \" fill=\"#009af9\" fill-rule=\"evenodd\" fill-opacity=\"1\"/>\n<polyline clip-path=\"url(#clip592)\" style=\"stroke:#000000; stroke-linecap:round; stroke-linejoin:round; stroke-width:4; stroke-opacity:1; fill:none\" points=\"\n  394.391,260.283 394.391,1445.72 471.055,1445.72 471.055,260.283 394.391,260.283 \n  \"/>\n<path clip-path=\"url(#clip592)\" d=\"\nM471.055 422.233 L471.055 1445.72 L547.718 1445.72 L547.718 422.233 L471.055 422.233 L471.055 422.233  Z\n  \" fill=\"#009af9\" fill-rule=\"evenodd\" fill-opacity=\"1\"/>\n<polyline clip-path=\"url(#clip592)\" style=\"stroke:#000000; stroke-linecap:round; stroke-linejoin:round; stroke-width:4; stroke-opacity:1; fill:none\" points=\"\n  471.055,422.233 471.055,1445.72 547.718,1445.72 547.718,422.233 471.055,422.233 \n  \"/>\n<path clip-path=\"url(#clip592)\" d=\"\nM547.718 547.461 L547.718 1445.72 L624.381 1445.72 L624.381 547.461 L547.718 547.461 L547.718 547.461  Z\n  \" fill=\"#009af9\" fill-rule=\"evenodd\" fill-opacity=\"1\"/>\n<polyline clip-path=\"url(#clip592)\" style=\"stroke:#000000; stroke-linecap:round; stroke-linejoin:round; stroke-width:4; stroke-opacity:1; fill:none\" points=\"\n  547.718,547.461 547.718,1445.72 624.381,1445.72 624.381,547.461 547.718,547.461 \n  \"/>\n<path clip-path=\"url(#clip592)\" d=\"\nM624.381 635.968 L624.381 1445.72 L701.045 1445.72 L701.045 635.968 L624.381 635.968 L624.381 635.968  Z\n  \" fill=\"#009af9\" fill-rule=\"evenodd\" fill-opacity=\"1\"/>\n<polyline clip-path=\"url(#clip592)\" style=\"stroke:#000000; stroke-linecap:round; stroke-linejoin:round; stroke-width:4; stroke-opacity:1; fill:none\" points=\"\n  624.381,635.968 624.381,1445.72 701.045,1445.72 701.045,635.968 624.381,635.968 \n  \"/>\n<path clip-path=\"url(#clip592)\" d=\"\nM701.045 816.749 L701.045 1445.72 L777.708 1445.72 L777.708 816.749 L701.045 816.749 L701.045 816.749  Z\n  \" fill=\"#009af9\" fill-rule=\"evenodd\" fill-opacity=\"1\"/>\n<polyline clip-path=\"url(#clip592)\" style=\"stroke:#000000; stroke-linecap:round; stroke-linejoin:round; stroke-width:4; stroke-opacity:1; fill:none\" points=\"\n  701.045,816.749 701.045,1445.72 777.708,1445.72 777.708,816.749 701.045,816.749 \n  \"/>\n<path clip-path=\"url(#clip592)\" d=\"\nM777.708 876.068 L777.708 1445.72 L854.371 1445.72 L854.371 876.068 L777.708 876.068 L777.708 876.068  Z\n  \" fill=\"#009af9\" fill-rule=\"evenodd\" fill-opacity=\"1\"/>\n<polyline clip-path=\"url(#clip592)\" style=\"stroke:#000000; stroke-linecap:round; stroke-linejoin:round; stroke-width:4; stroke-opacity:1; fill:none\" points=\"\n  777.708,876.068 777.708,1445.72 854.371,1445.72 854.371,876.068 777.708,876.068 \n  \"/>\n<path clip-path=\"url(#clip592)\" d=\"\nM854.371 1028.6 L854.371 1445.72 L931.035 1445.72 L931.035 1028.6 L854.371 1028.6 L854.371 1028.6  Z\n  \" fill=\"#009af9\" fill-rule=\"evenodd\" fill-opacity=\"1\"/>\n<polyline clip-path=\"url(#clip592)\" style=\"stroke:#000000; stroke-linecap:round; stroke-linejoin:round; stroke-width:4; stroke-opacity:1; fill:none\" points=\"\n  854.371,1028.6 854.371,1445.72 931.035,1445.72 931.035,1028.6 854.371,1028.6 \n  \"/>\n<path clip-path=\"url(#clip592)\" d=\"\nM931.035 1081.33 L931.035 1445.72 L1007.7 1445.72 L1007.7 1081.33 L931.035 1081.33 L931.035 1081.33  Z\n  \" fill=\"#009af9\" fill-rule=\"evenodd\" fill-opacity=\"1\"/>\n<polyline clip-path=\"url(#clip592)\" style=\"stroke:#000000; stroke-linecap:round; stroke-linejoin:round; stroke-width:4; stroke-opacity:1; fill:none\" points=\"\n  931.035,1081.33 931.035,1445.72 1007.7,1445.72 1007.7,1081.33 931.035,1081.33 \n  \"/>\n<path clip-path=\"url(#clip592)\" d=\"\nM1007.7 1111.46 L1007.7 1445.72 L1084.36 1445.72 L1084.36 1111.46 L1007.7 1111.46 L1007.7 1111.46  Z\n  \" fill=\"#009af9\" fill-rule=\"evenodd\" fill-opacity=\"1\"/>\n<polyline clip-path=\"url(#clip592)\" style=\"stroke:#000000; stroke-linecap:round; stroke-linejoin:round; stroke-width:4; stroke-opacity:1; fill:none\" points=\"\n  1007.7,1111.46 1007.7,1445.72 1084.36,1445.72 1084.36,1111.46 1007.7,1111.46 \n  \"/>\n<path clip-path=\"url(#clip592)\" d=\"\nM1084.36 1168.9 L1084.36 1445.72 L1161.02 1445.72 L1161.02 1168.9 L1084.36 1168.9 L1084.36 1168.9  Z\n  \" fill=\"#009af9\" fill-rule=\"evenodd\" fill-opacity=\"1\"/>\n<polyline clip-path=\"url(#clip592)\" style=\"stroke:#000000; stroke-linecap:round; stroke-linejoin:round; stroke-width:4; stroke-opacity:1; fill:none\" points=\"\n  1084.36,1168.9 1084.36,1445.72 1161.02,1445.72 1161.02,1168.9 1084.36,1168.9 \n  \"/>\n<path clip-path=\"url(#clip592)\" d=\"\nM1161.02 1214.09 L1161.02 1445.72 L1237.69 1445.72 L1237.69 1214.09 L1161.02 1214.09 L1161.02 1214.09  Z\n  \" fill=\"#009af9\" fill-rule=\"evenodd\" fill-opacity=\"1\"/>\n<polyline clip-path=\"url(#clip592)\" style=\"stroke:#000000; stroke-linecap:round; stroke-linejoin:round; stroke-width:4; stroke-opacity:1; fill:none\" points=\"\n  1161.02,1214.09 1161.02,1445.72 1237.69,1445.72 1237.69,1214.09 1161.02,1214.09 \n  \"/>\n<path clip-path=\"url(#clip592)\" d=\"\nM1237.69 1253.64 L1237.69 1445.72 L1314.35 1445.72 L1314.35 1253.64 L1237.69 1253.64 L1237.69 1253.64  Z\n  \" fill=\"#009af9\" fill-rule=\"evenodd\" fill-opacity=\"1\"/>\n<polyline clip-path=\"url(#clip592)\" style=\"stroke:#000000; stroke-linecap:round; stroke-linejoin:round; stroke-width:4; stroke-opacity:1; fill:none\" points=\"\n  1237.69,1253.64 1237.69,1445.72 1314.35,1445.72 1314.35,1253.64 1237.69,1253.64 \n  \"/>\n<path clip-path=\"url(#clip592)\" d=\"\nM1314.35 1276.23 L1314.35 1445.72 L1391.01 1445.72 L1391.01 1276.23 L1314.35 1276.23 L1314.35 1276.23  Z\n  \" fill=\"#009af9\" fill-rule=\"evenodd\" fill-opacity=\"1\"/>\n<polyline clip-path=\"url(#clip592)\" style=\"stroke:#000000; stroke-linecap:round; stroke-linejoin:round; stroke-width:4; stroke-opacity:1; fill:none\" points=\"\n  1314.35,1276.23 1314.35,1445.72 1391.01,1445.72 1391.01,1276.23 1314.35,1276.23 \n  \"/>\n<path clip-path=\"url(#clip592)\" d=\"\nM1391.01 1286.59 L1391.01 1445.72 L1467.68 1445.72 L1467.68 1286.59 L1391.01 1286.59 L1391.01 1286.59  Z\n  \" fill=\"#009af9\" fill-rule=\"evenodd\" fill-opacity=\"1\"/>\n<polyline clip-path=\"url(#clip592)\" style=\"stroke:#000000; stroke-linecap:round; stroke-linejoin:round; stroke-width:4; stroke-opacity:1; fill:none\" points=\"\n  1391.01,1286.59 1391.01,1445.72 1467.68,1445.72 1467.68,1286.59 1391.01,1286.59 \n  \"/>\n<path clip-path=\"url(#clip592)\" d=\"\nM1467.68 1296.01 L1467.68 1445.72 L1544.34 1445.72 L1544.34 1296.01 L1467.68 1296.01 L1467.68 1296.01  Z\n  \" fill=\"#009af9\" fill-rule=\"evenodd\" fill-opacity=\"1\"/>\n<polyline clip-path=\"url(#clip592)\" style=\"stroke:#000000; stroke-linecap:round; stroke-linejoin:round; stroke-width:4; stroke-opacity:1; fill:none\" points=\"\n  1467.68,1296.01 1467.68,1445.72 1544.34,1445.72 1544.34,1296.01 1467.68,1296.01 \n  \"/>\n<path clip-path=\"url(#clip592)\" d=\"\nM1544.34 1328.96 L1544.34 1445.72 L1621 1445.72 L1621 1328.96 L1544.34 1328.96 L1544.34 1328.96  Z\n  \" fill=\"#009af9\" fill-rule=\"evenodd\" fill-opacity=\"1\"/>\n<polyline clip-path=\"url(#clip592)\" style=\"stroke:#000000; stroke-linecap:round; stroke-linejoin:round; stroke-width:4; stroke-opacity:1; fill:none\" points=\"\n  1544.34,1328.96 1544.34,1445.72 1621,1445.72 1621,1328.96 1544.34,1328.96 \n  \"/>\n<path clip-path=\"url(#clip592)\" d=\"\nM1621 1340.26 L1621 1445.72 L1697.67 1445.72 L1697.67 1340.26 L1621 1340.26 L1621 1340.26  Z\n  \" fill=\"#009af9\" fill-rule=\"evenodd\" fill-opacity=\"1\"/>\n<polyline clip-path=\"url(#clip592)\" style=\"stroke:#000000; stroke-linecap:round; stroke-linejoin:round; stroke-width:4; stroke-opacity:1; fill:none\" points=\"\n  1621,1340.26 1621,1445.72 1697.67,1445.72 1697.67,1340.26 1621,1340.26 \n  \"/>\n<path clip-path=\"url(#clip592)\" d=\"\nM1697.67 1370.39 L1697.67 1445.72 L1774.33 1445.72 L1774.33 1370.39 L1697.67 1370.39 L1697.67 1370.39  Z\n  \" fill=\"#009af9\" fill-rule=\"evenodd\" fill-opacity=\"1\"/>\n<polyline clip-path=\"url(#clip592)\" style=\"stroke:#000000; stroke-linecap:round; stroke-linejoin:round; stroke-width:4; stroke-opacity:1; fill:none\" points=\"\n  1697.67,1370.39 1697.67,1445.72 1774.33,1445.72 1774.33,1370.39 1697.67,1370.39 \n  \"/>\n<path clip-path=\"url(#clip592)\" d=\"\nM1774.33 1379.81 L1774.33 1445.72 L1850.99 1445.72 L1850.99 1379.81 L1774.33 1379.81 L1774.33 1379.81  Z\n  \" fill=\"#009af9\" fill-rule=\"evenodd\" fill-opacity=\"1\"/>\n<polyline clip-path=\"url(#clip592)\" style=\"stroke:#000000; stroke-linecap:round; stroke-linejoin:round; stroke-width:4; stroke-opacity:1; fill:none\" points=\"\n  1774.33,1379.81 1774.33,1445.72 1850.99,1445.72 1850.99,1379.81 1774.33,1379.81 \n  \"/>\n<path clip-path=\"url(#clip592)\" d=\"\nM1850.99 1384.51 L1850.99 1445.72 L1927.66 1445.72 L1927.66 1384.51 L1850.99 1384.51 L1850.99 1384.51  Z\n  \" fill=\"#009af9\" fill-rule=\"evenodd\" fill-opacity=\"1\"/>\n<polyline clip-path=\"url(#clip592)\" style=\"stroke:#000000; stroke-linecap:round; stroke-linejoin:round; stroke-width:4; stroke-opacity:1; fill:none\" points=\"\n  1850.99,1384.51 1850.99,1445.72 1927.66,1445.72 1927.66,1384.51 1850.99,1384.51 \n  \"/>\n<path clip-path=\"url(#clip592)\" d=\"\nM1927.66 1391.1 L1927.66 1445.72 L2004.32 1445.72 L2004.32 1391.1 L1927.66 1391.1 L1927.66 1391.1  Z\n  \" fill=\"#009af9\" fill-rule=\"evenodd\" fill-opacity=\"1\"/>\n<polyline clip-path=\"url(#clip592)\" style=\"stroke:#000000; stroke-linecap:round; stroke-linejoin:round; stroke-width:4; stroke-opacity:1; fill:none\" points=\"\n  1927.66,1391.1 1927.66,1445.72 2004.32,1445.72 2004.32,1391.1 1927.66,1391.1 \n  \"/>\n<path clip-path=\"url(#clip592)\" d=\"\nM2004.32 1393.93 L2004.32 1445.72 L2080.98 1445.72 L2080.98 1393.93 L2004.32 1393.93 L2004.32 1393.93  Z\n  \" fill=\"#009af9\" fill-rule=\"evenodd\" fill-opacity=\"1\"/>\n<polyline clip-path=\"url(#clip592)\" style=\"stroke:#000000; stroke-linecap:round; stroke-linejoin:round; stroke-width:4; stroke-opacity:1; fill:none\" points=\"\n  2004.32,1393.93 2004.32,1445.72 2080.98,1445.72 2080.98,1393.93 2004.32,1393.93 \n  \"/>\n<path clip-path=\"url(#clip592)\" d=\"\nM2080.98 1386.4 L2080.98 1445.72 L2157.65 1445.72 L2157.65 1386.4 L2080.98 1386.4 L2080.98 1386.4  Z\n  \" fill=\"#009af9\" fill-rule=\"evenodd\" fill-opacity=\"1\"/>\n<polyline clip-path=\"url(#clip592)\" style=\"stroke:#000000; stroke-linecap:round; stroke-linejoin:round; stroke-width:4; stroke-opacity:1; fill:none\" points=\"\n  2080.98,1386.4 2080.98,1445.72 2157.65,1445.72 2157.65,1386.4 2080.98,1386.4 \n  \"/>\n<path clip-path=\"url(#clip592)\" d=\"\nM2157.65 1388.28 L2157.65 1445.72 L2234.31 1445.72 L2234.31 1388.28 L2157.65 1388.28 L2157.65 1388.28  Z\n  \" fill=\"#009af9\" fill-rule=\"evenodd\" fill-opacity=\"1\"/>\n<polyline clip-path=\"url(#clip592)\" style=\"stroke:#000000; stroke-linecap:round; stroke-linejoin:round; stroke-width:4; stroke-opacity:1; fill:none\" points=\"\n  2157.65,1388.28 2157.65,1445.72 2234.31,1445.72 2234.31,1388.28 2157.65,1388.28 \n  \"/>\n<circle clip-path=\"url(#clip592)\" style=\"fill:#009af9; stroke:none; fill-opacity:0\" cx=\"356.06\" cy=\"87.9763\" r=\"2\"/>\n<circle clip-path=\"url(#clip592)\" style=\"fill:#009af9; stroke:none; fill-opacity:0\" cx=\"432.723\" cy=\"260.283\" r=\"2\"/>\n<circle clip-path=\"url(#clip592)\" style=\"fill:#009af9; stroke:none; fill-opacity:0\" cx=\"509.386\" cy=\"422.233\" r=\"2\"/>\n<circle clip-path=\"url(#clip592)\" style=\"fill:#009af9; stroke:none; fill-opacity:0\" cx=\"586.05\" cy=\"547.461\" r=\"2\"/>\n<circle clip-path=\"url(#clip592)\" style=\"fill:#009af9; stroke:none; fill-opacity:0\" cx=\"662.713\" cy=\"635.968\" r=\"2\"/>\n<circle clip-path=\"url(#clip592)\" style=\"fill:#009af9; stroke:none; fill-opacity:0\" cx=\"739.376\" cy=\"816.749\" r=\"2\"/>\n<circle clip-path=\"url(#clip592)\" style=\"fill:#009af9; stroke:none; fill-opacity:0\" cx=\"816.04\" cy=\"876.068\" r=\"2\"/>\n<circle clip-path=\"url(#clip592)\" style=\"fill:#009af9; stroke:none; fill-opacity:0\" cx=\"892.703\" cy=\"1028.6\" r=\"2\"/>\n<circle clip-path=\"url(#clip592)\" style=\"fill:#009af9; stroke:none; fill-opacity:0\" cx=\"969.366\" cy=\"1081.33\" r=\"2\"/>\n<circle clip-path=\"url(#clip592)\" style=\"fill:#009af9; stroke:none; fill-opacity:0\" cx=\"1046.03\" cy=\"1111.46\" r=\"2\"/>\n<circle clip-path=\"url(#clip592)\" style=\"fill:#009af9; stroke:none; fill-opacity:0\" cx=\"1122.69\" cy=\"1168.9\" r=\"2\"/>\n<circle clip-path=\"url(#clip592)\" style=\"fill:#009af9; stroke:none; fill-opacity:0\" cx=\"1199.36\" cy=\"1214.09\" r=\"2\"/>\n<circle clip-path=\"url(#clip592)\" style=\"fill:#009af9; stroke:none; fill-opacity:0\" cx=\"1276.02\" cy=\"1253.64\" r=\"2\"/>\n<circle clip-path=\"url(#clip592)\" style=\"fill:#009af9; stroke:none; fill-opacity:0\" cx=\"1352.68\" cy=\"1276.23\" r=\"2\"/>\n<circle clip-path=\"url(#clip592)\" style=\"fill:#009af9; stroke:none; fill-opacity:0\" cx=\"1429.35\" cy=\"1286.59\" r=\"2\"/>\n<circle clip-path=\"url(#clip592)\" style=\"fill:#009af9; stroke:none; fill-opacity:0\" cx=\"1506.01\" cy=\"1296.01\" r=\"2\"/>\n<circle clip-path=\"url(#clip592)\" style=\"fill:#009af9; stroke:none; fill-opacity:0\" cx=\"1582.67\" cy=\"1328.96\" r=\"2\"/>\n<circle clip-path=\"url(#clip592)\" style=\"fill:#009af9; stroke:none; fill-opacity:0\" cx=\"1659.34\" cy=\"1340.26\" r=\"2\"/>\n<circle clip-path=\"url(#clip592)\" style=\"fill:#009af9; stroke:none; fill-opacity:0\" cx=\"1736\" cy=\"1370.39\" r=\"2\"/>\n<circle clip-path=\"url(#clip592)\" style=\"fill:#009af9; stroke:none; fill-opacity:0\" cx=\"1812.66\" cy=\"1379.81\" r=\"2\"/>\n<circle clip-path=\"url(#clip592)\" style=\"fill:#009af9; stroke:none; fill-opacity:0\" cx=\"1889.33\" cy=\"1384.51\" r=\"2\"/>\n<circle clip-path=\"url(#clip592)\" style=\"fill:#009af9; stroke:none; fill-opacity:0\" cx=\"1965.99\" cy=\"1391.1\" r=\"2\"/>\n<circle clip-path=\"url(#clip592)\" style=\"fill:#009af9; stroke:none; fill-opacity:0\" cx=\"2042.65\" cy=\"1393.93\" r=\"2\"/>\n<circle clip-path=\"url(#clip592)\" style=\"fill:#009af9; stroke:none; fill-opacity:0\" cx=\"2119.32\" cy=\"1386.4\" r=\"2\"/>\n<circle clip-path=\"url(#clip592)\" style=\"fill:#009af9; stroke:none; fill-opacity:0\" cx=\"2195.98\" cy=\"1388.28\" r=\"2\"/>\n<path clip-path=\"url(#clip592)\" d=\"\nM317.728 112.457 L317.728 1445.72 L394.391 1445.72 L394.391 112.457 L317.728 112.457 L317.728 112.457  Z\n  \" fill=\"#e26f46\" fill-rule=\"evenodd\" fill-opacity=\"1\"/>\n<polyline clip-path=\"url(#clip592)\" style=\"stroke:#000000; stroke-linecap:round; stroke-linejoin:round; stroke-width:4; stroke-opacity:1; fill:none\" points=\"\n  317.728,112.457 317.728,1445.72 394.391,1445.72 394.391,112.457 317.728,112.457 \n  \"/>\n<path clip-path=\"url(#clip592)\" d=\"\nM394.391 261.225 L394.391 1445.72 L471.055 1445.72 L471.055 261.225 L394.391 261.225 L394.391 261.225  Z\n  \" fill=\"#e26f46\" fill-rule=\"evenodd\" fill-opacity=\"1\"/>\n<polyline clip-path=\"url(#clip592)\" style=\"stroke:#000000; stroke-linecap:round; stroke-linejoin:round; stroke-width:4; stroke-opacity:1; fill:none\" points=\"\n  394.391,261.225 394.391,1445.72 471.055,1445.72 471.055,261.225 394.391,261.225 \n  \"/>\n<path clip-path=\"url(#clip592)\" d=\"\nM471.055 449.538 L471.055 1445.72 L547.718 1445.72 L547.718 449.538 L471.055 449.538 L471.055 449.538  Z\n  \" fill=\"#e26f46\" fill-rule=\"evenodd\" fill-opacity=\"1\"/>\n<polyline clip-path=\"url(#clip592)\" style=\"stroke:#000000; stroke-linecap:round; stroke-linejoin:round; stroke-width:4; stroke-opacity:1; fill:none\" points=\"\n  471.055,449.538 471.055,1445.72 547.718,1445.72 547.718,449.538 471.055,449.538 \n  \"/>\n<path clip-path=\"url(#clip592)\" d=\"\nM547.718 562.526 L547.718 1445.72 L624.381 1445.72 L624.381 562.526 L547.718 562.526 L547.718 562.526  Z\n  \" fill=\"#e26f46\" fill-rule=\"evenodd\" fill-opacity=\"1\"/>\n<polyline clip-path=\"url(#clip592)\" style=\"stroke:#000000; stroke-linecap:round; stroke-linejoin:round; stroke-width:4; stroke-opacity:1; fill:none\" points=\"\n  547.718,562.526 547.718,1445.72 624.381,1445.72 624.381,562.526 547.718,562.526 \n  \"/>\n<path clip-path=\"url(#clip592)\" d=\"\nM624.381 651.033 L624.381 1445.72 L701.045 1445.72 L701.045 651.033 L624.381 651.033 L624.381 651.033  Z\n  \" fill=\"#e26f46\" fill-rule=\"evenodd\" fill-opacity=\"1\"/>\n<polyline clip-path=\"url(#clip592)\" style=\"stroke:#000000; stroke-linecap:round; stroke-linejoin:round; stroke-width:4; stroke-opacity:1; fill:none\" points=\"\n  624.381,651.033 624.381,1445.72 701.045,1445.72 701.045,651.033 624.381,651.033 \n  \"/>\n<path clip-path=\"url(#clip592)\" d=\"\nM701.045 787.56 L701.045 1445.72 L777.708 1445.72 L777.708 787.56 L701.045 787.56 L701.045 787.56  Z\n  \" fill=\"#e26f46\" fill-rule=\"evenodd\" fill-opacity=\"1\"/>\n<polyline clip-path=\"url(#clip592)\" style=\"stroke:#000000; stroke-linecap:round; stroke-linejoin:round; stroke-width:4; stroke-opacity:1; fill:none\" points=\"\n  701.045,787.56 701.045,1445.72 777.708,1445.72 777.708,787.56 701.045,787.56 \n  \"/>\n<path clip-path=\"url(#clip592)\" d=\"\nM777.708 885.483 L777.708 1445.72 L854.371 1445.72 L854.371 885.483 L777.708 885.483 L777.708 885.483  Z\n  \" fill=\"#e26f46\" fill-rule=\"evenodd\" fill-opacity=\"1\"/>\n<polyline clip-path=\"url(#clip592)\" style=\"stroke:#000000; stroke-linecap:round; stroke-linejoin:round; stroke-width:4; stroke-opacity:1; fill:none\" points=\"\n  777.708,885.483 777.708,1445.72 854.371,1445.72 854.371,885.483 777.708,885.483 \n  \"/>\n<path clip-path=\"url(#clip592)\" d=\"\nM854.371 947.627 L854.371 1445.72 L931.035 1445.72 L931.035 947.627 L854.371 947.627 L854.371 947.627  Z\n  \" fill=\"#e26f46\" fill-rule=\"evenodd\" fill-opacity=\"1\"/>\n<polyline clip-path=\"url(#clip592)\" style=\"stroke:#000000; stroke-linecap:round; stroke-linejoin:round; stroke-width:4; stroke-opacity:1; fill:none\" points=\"\n  854.371,947.627 854.371,1445.72 931.035,1445.72 931.035,947.627 854.371,947.627 \n  \"/>\n<path clip-path=\"url(#clip592)\" d=\"\nM931.035 1100.16 L931.035 1445.72 L1007.7 1445.72 L1007.7 1100.16 L931.035 1100.16 L931.035 1100.16  Z\n  \" fill=\"#e26f46\" fill-rule=\"evenodd\" fill-opacity=\"1\"/>\n<polyline clip-path=\"url(#clip592)\" style=\"stroke:#000000; stroke-linecap:round; stroke-linejoin:round; stroke-width:4; stroke-opacity:1; fill:none\" points=\"\n  931.035,1100.16 931.035,1445.72 1007.7,1445.72 1007.7,1100.16 931.035,1100.16 \n  \"/>\n<path clip-path=\"url(#clip592)\" d=\"\nM1007.7 1143.47 L1007.7 1445.72 L1084.36 1445.72 L1084.36 1143.47 L1007.7 1143.47 L1007.7 1143.47  Z\n  \" fill=\"#e26f46\" fill-rule=\"evenodd\" fill-opacity=\"1\"/>\n<polyline clip-path=\"url(#clip592)\" style=\"stroke:#000000; stroke-linecap:round; stroke-linejoin:round; stroke-width:4; stroke-opacity:1; fill:none\" points=\"\n  1007.7,1143.47 1007.7,1445.72 1084.36,1445.72 1084.36,1143.47 1007.7,1143.47 \n  \"/>\n<path clip-path=\"url(#clip592)\" d=\"\nM1084.36 1180.19 L1084.36 1445.72 L1161.02 1445.72 L1161.02 1180.19 L1084.36 1180.19 L1084.36 1180.19  Z\n  \" fill=\"#e26f46\" fill-rule=\"evenodd\" fill-opacity=\"1\"/>\n<polyline clip-path=\"url(#clip592)\" style=\"stroke:#000000; stroke-linecap:round; stroke-linejoin:round; stroke-width:4; stroke-opacity:1; fill:none\" points=\"\n  1084.36,1180.19 1084.36,1445.72 1161.02,1445.72 1161.02,1180.19 1084.36,1180.19 \n  \"/>\n<path clip-path=\"url(#clip592)\" d=\"\nM1161.02 1233.86 L1161.02 1445.72 L1237.69 1445.72 L1237.69 1233.86 L1161.02 1233.86 L1161.02 1233.86  Z\n  \" fill=\"#e26f46\" fill-rule=\"evenodd\" fill-opacity=\"1\"/>\n<polyline clip-path=\"url(#clip592)\" style=\"stroke:#000000; stroke-linecap:round; stroke-linejoin:round; stroke-width:4; stroke-opacity:1; fill:none\" points=\"\n  1161.02,1233.86 1161.02,1445.72 1237.69,1445.72 1237.69,1233.86 1161.02,1233.86 \n  \"/>\n<path clip-path=\"url(#clip592)\" d=\"\nM1237.69 1222.56 L1237.69 1445.72 L1314.35 1445.72 L1314.35 1222.56 L1237.69 1222.56 L1237.69 1222.56  Z\n  \" fill=\"#e26f46\" fill-rule=\"evenodd\" fill-opacity=\"1\"/>\n<polyline clip-path=\"url(#clip592)\" style=\"stroke:#000000; stroke-linecap:round; stroke-linejoin:round; stroke-width:4; stroke-opacity:1; fill:none\" points=\"\n  1237.69,1222.56 1237.69,1445.72 1314.35,1445.72 1314.35,1222.56 1237.69,1222.56 \n  \"/>\n<path clip-path=\"url(#clip592)\" d=\"\nM1314.35 1241.4 L1314.35 1445.72 L1391.01 1445.72 L1391.01 1241.4 L1314.35 1241.4 L1314.35 1241.4  Z\n  \" fill=\"#e26f46\" fill-rule=\"evenodd\" fill-opacity=\"1\"/>\n<polyline clip-path=\"url(#clip592)\" style=\"stroke:#000000; stroke-linecap:round; stroke-linejoin:round; stroke-width:4; stroke-opacity:1; fill:none\" points=\"\n  1314.35,1241.4 1314.35,1445.72 1391.01,1445.72 1391.01,1241.4 1314.35,1241.4 \n  \"/>\n<path clip-path=\"url(#clip592)\" d=\"\nM1391.01 1270.58 L1391.01 1445.72 L1467.68 1445.72 L1467.68 1270.58 L1391.01 1270.58 L1391.01 1270.58  Z\n  \" fill=\"#e26f46\" fill-rule=\"evenodd\" fill-opacity=\"1\"/>\n<polyline clip-path=\"url(#clip592)\" style=\"stroke:#000000; stroke-linecap:round; stroke-linejoin:round; stroke-width:4; stroke-opacity:1; fill:none\" points=\"\n  1391.01,1270.58 1391.01,1445.72 1467.68,1445.72 1467.68,1270.58 1391.01,1270.58 \n  \"/>\n<path clip-path=\"url(#clip592)\" d=\"\nM1467.68 1292.24 L1467.68 1445.72 L1544.34 1445.72 L1544.34 1292.24 L1467.68 1292.24 L1467.68 1292.24  Z\n  \" fill=\"#e26f46\" fill-rule=\"evenodd\" fill-opacity=\"1\"/>\n<polyline clip-path=\"url(#clip592)\" style=\"stroke:#000000; stroke-linecap:round; stroke-linejoin:round; stroke-width:4; stroke-opacity:1; fill:none\" points=\"\n  1467.68,1292.24 1467.68,1445.72 1544.34,1445.72 1544.34,1292.24 1467.68,1292.24 \n  \"/>\n<path clip-path=\"url(#clip592)\" d=\"\nM1544.34 1331.79 L1544.34 1445.72 L1621 1445.72 L1621 1331.79 L1544.34 1331.79 L1544.34 1331.79  Z\n  \" fill=\"#e26f46\" fill-rule=\"evenodd\" fill-opacity=\"1\"/>\n<polyline clip-path=\"url(#clip592)\" style=\"stroke:#000000; stroke-linecap:round; stroke-linejoin:round; stroke-width:4; stroke-opacity:1; fill:none\" points=\"\n  1544.34,1331.79 1544.34,1445.72 1621,1445.72 1621,1331.79 1544.34,1331.79 \n  \"/>\n<path clip-path=\"url(#clip592)\" d=\"\nM1621 1344.97 L1621 1445.72 L1697.67 1445.72 L1697.67 1344.97 L1621 1344.97 L1621 1344.97  Z\n  \" fill=\"#e26f46\" fill-rule=\"evenodd\" fill-opacity=\"1\"/>\n<polyline clip-path=\"url(#clip592)\" style=\"stroke:#000000; stroke-linecap:round; stroke-linejoin:round; stroke-width:4; stroke-opacity:1; fill:none\" points=\"\n  1621,1344.97 1621,1445.72 1697.67,1445.72 1697.67,1344.97 1621,1344.97 \n  \"/>\n<path clip-path=\"url(#clip592)\" d=\"\nM1697.67 1366.62 L1697.67 1445.72 L1774.33 1445.72 L1774.33 1366.62 L1697.67 1366.62 L1697.67 1366.62  Z\n  \" fill=\"#e26f46\" fill-rule=\"evenodd\" fill-opacity=\"1\"/>\n<polyline clip-path=\"url(#clip592)\" style=\"stroke:#000000; stroke-linecap:round; stroke-linejoin:round; stroke-width:4; stroke-opacity:1; fill:none\" points=\"\n  1697.67,1366.62 1697.67,1445.72 1774.33,1445.72 1774.33,1366.62 1697.67,1366.62 \n  \"/>\n<path clip-path=\"url(#clip592)\" d=\"\nM1774.33 1389.22 L1774.33 1445.72 L1850.99 1445.72 L1850.99 1389.22 L1774.33 1389.22 L1774.33 1389.22  Z\n  \" fill=\"#e26f46\" fill-rule=\"evenodd\" fill-opacity=\"1\"/>\n<polyline clip-path=\"url(#clip592)\" style=\"stroke:#000000; stroke-linecap:round; stroke-linejoin:round; stroke-width:4; stroke-opacity:1; fill:none\" points=\"\n  1774.33,1389.22 1774.33,1445.72 1850.99,1445.72 1850.99,1389.22 1774.33,1389.22 \n  \"/>\n<path clip-path=\"url(#clip592)\" d=\"\nM1850.99 1383.57 L1850.99 1445.72 L1927.66 1445.72 L1927.66 1383.57 L1850.99 1383.57 L1850.99 1383.57  Z\n  \" fill=\"#e26f46\" fill-rule=\"evenodd\" fill-opacity=\"1\"/>\n<polyline clip-path=\"url(#clip592)\" style=\"stroke:#000000; stroke-linecap:round; stroke-linejoin:round; stroke-width:4; stroke-opacity:1; fill:none\" points=\"\n  1850.99,1383.57 1850.99,1445.72 1927.66,1445.72 1927.66,1383.57 1850.99,1383.57 \n  \"/>\n<path clip-path=\"url(#clip592)\" d=\"\nM1927.66 1383.57 L1927.66 1445.72 L2004.32 1445.72 L2004.32 1383.57 L1927.66 1383.57 L1927.66 1383.57  Z\n  \" fill=\"#e26f46\" fill-rule=\"evenodd\" fill-opacity=\"1\"/>\n<polyline clip-path=\"url(#clip592)\" style=\"stroke:#000000; stroke-linecap:round; stroke-linejoin:round; stroke-width:4; stroke-opacity:1; fill:none\" points=\"\n  1927.66,1383.57 1927.66,1445.72 2004.32,1445.72 2004.32,1383.57 1927.66,1383.57 \n  \"/>\n<path clip-path=\"url(#clip592)\" d=\"\nM2004.32 1390.16 L2004.32 1445.72 L2080.98 1445.72 L2080.98 1390.16 L2004.32 1390.16 L2004.32 1390.16  Z\n  \" fill=\"#e26f46\" fill-rule=\"evenodd\" fill-opacity=\"1\"/>\n<polyline clip-path=\"url(#clip592)\" style=\"stroke:#000000; stroke-linecap:round; stroke-linejoin:round; stroke-width:4; stroke-opacity:1; fill:none\" points=\"\n  2004.32,1390.16 2004.32,1445.72 2080.98,1445.72 2080.98,1390.16 2004.32,1390.16 \n  \"/>\n<path clip-path=\"url(#clip592)\" d=\"\nM2080.98 1388.28 L2080.98 1445.72 L2157.65 1445.72 L2157.65 1388.28 L2080.98 1388.28 L2080.98 1388.28  Z\n  \" fill=\"#e26f46\" fill-rule=\"evenodd\" fill-opacity=\"1\"/>\n<polyline clip-path=\"url(#clip592)\" style=\"stroke:#000000; stroke-linecap:round; stroke-linejoin:round; stroke-width:4; stroke-opacity:1; fill:none\" points=\"\n  2080.98,1388.28 2080.98,1445.72 2157.65,1445.72 2157.65,1388.28 2080.98,1388.28 \n  \"/>\n<path clip-path=\"url(#clip592)\" d=\"\nM2157.65 1407.11 L2157.65 1445.72 L2234.31 1445.72 L2234.31 1407.11 L2157.65 1407.11 L2157.65 1407.11  Z\n  \" fill=\"#e26f46\" fill-rule=\"evenodd\" fill-opacity=\"1\"/>\n<polyline clip-path=\"url(#clip592)\" style=\"stroke:#000000; stroke-linecap:round; stroke-linejoin:round; stroke-width:4; stroke-opacity:1; fill:none\" points=\"\n  2157.65,1407.11 2157.65,1445.72 2234.31,1445.72 2234.31,1407.11 2157.65,1407.11 \n  \"/>\n<circle clip-path=\"url(#clip592)\" style=\"fill:#e26f46; stroke:none; fill-opacity:0\" cx=\"356.06\" cy=\"112.457\" r=\"2\"/>\n<circle clip-path=\"url(#clip592)\" style=\"fill:#e26f46; stroke:none; fill-opacity:0\" cx=\"432.723\" cy=\"261.225\" r=\"2\"/>\n<circle clip-path=\"url(#clip592)\" style=\"fill:#e26f46; stroke:none; fill-opacity:0\" cx=\"509.386\" cy=\"449.538\" r=\"2\"/>\n<circle clip-path=\"url(#clip592)\" style=\"fill:#e26f46; stroke:none; fill-opacity:0\" cx=\"586.05\" cy=\"562.526\" r=\"2\"/>\n<circle clip-path=\"url(#clip592)\" style=\"fill:#e26f46; stroke:none; fill-opacity:0\" cx=\"662.713\" cy=\"651.033\" r=\"2\"/>\n<circle clip-path=\"url(#clip592)\" style=\"fill:#e26f46; stroke:none; fill-opacity:0\" cx=\"739.376\" cy=\"787.56\" r=\"2\"/>\n<circle clip-path=\"url(#clip592)\" style=\"fill:#e26f46; stroke:none; fill-opacity:0\" cx=\"816.04\" cy=\"885.483\" r=\"2\"/>\n<circle clip-path=\"url(#clip592)\" style=\"fill:#e26f46; stroke:none; fill-opacity:0\" cx=\"892.703\" cy=\"947.627\" r=\"2\"/>\n<circle clip-path=\"url(#clip592)\" style=\"fill:#e26f46; stroke:none; fill-opacity:0\" cx=\"969.366\" cy=\"1100.16\" r=\"2\"/>\n<circle clip-path=\"url(#clip592)\" style=\"fill:#e26f46; stroke:none; fill-opacity:0\" cx=\"1046.03\" cy=\"1143.47\" r=\"2\"/>\n<circle clip-path=\"url(#clip592)\" style=\"fill:#e26f46; stroke:none; fill-opacity:0\" cx=\"1122.69\" cy=\"1180.19\" r=\"2\"/>\n<circle clip-path=\"url(#clip592)\" style=\"fill:#e26f46; stroke:none; fill-opacity:0\" cx=\"1199.36\" cy=\"1233.86\" r=\"2\"/>\n<circle clip-path=\"url(#clip592)\" style=\"fill:#e26f46; stroke:none; fill-opacity:0\" cx=\"1276.02\" cy=\"1222.56\" r=\"2\"/>\n<circle clip-path=\"url(#clip592)\" style=\"fill:#e26f46; stroke:none; fill-opacity:0\" cx=\"1352.68\" cy=\"1241.4\" r=\"2\"/>\n<circle clip-path=\"url(#clip592)\" style=\"fill:#e26f46; stroke:none; fill-opacity:0\" cx=\"1429.35\" cy=\"1270.58\" r=\"2\"/>\n<circle clip-path=\"url(#clip592)\" style=\"fill:#e26f46; stroke:none; fill-opacity:0\" cx=\"1506.01\" cy=\"1292.24\" r=\"2\"/>\n<circle clip-path=\"url(#clip592)\" style=\"fill:#e26f46; stroke:none; fill-opacity:0\" cx=\"1582.67\" cy=\"1331.79\" r=\"2\"/>\n<circle clip-path=\"url(#clip592)\" style=\"fill:#e26f46; stroke:none; fill-opacity:0\" cx=\"1659.34\" cy=\"1344.97\" r=\"2\"/>\n<circle clip-path=\"url(#clip592)\" style=\"fill:#e26f46; stroke:none; fill-opacity:0\" cx=\"1736\" cy=\"1366.62\" r=\"2\"/>\n<circle clip-path=\"url(#clip592)\" style=\"fill:#e26f46; stroke:none; fill-opacity:0\" cx=\"1812.66\" cy=\"1389.22\" r=\"2\"/>\n<circle clip-path=\"url(#clip592)\" style=\"fill:#e26f46; stroke:none; fill-opacity:0\" cx=\"1889.33\" cy=\"1383.57\" r=\"2\"/>\n<circle clip-path=\"url(#clip592)\" style=\"fill:#e26f46; stroke:none; fill-opacity:0\" cx=\"1965.99\" cy=\"1383.57\" r=\"2\"/>\n<circle clip-path=\"url(#clip592)\" style=\"fill:#e26f46; stroke:none; fill-opacity:0\" cx=\"2042.65\" cy=\"1390.16\" r=\"2\"/>\n<circle clip-path=\"url(#clip592)\" style=\"fill:#e26f46; stroke:none; fill-opacity:0\" cx=\"2119.32\" cy=\"1388.28\" r=\"2\"/>\n<circle clip-path=\"url(#clip592)\" style=\"fill:#e26f46; stroke:none; fill-opacity:0\" cx=\"2195.98\" cy=\"1407.11\" r=\"2\"/>\n<path clip-path=\"url(#clip590)\" d=\"\nM1699.05 250.738 L2280.97 250.738 L2280.97 95.2176 L1699.05 95.2176  Z\n  \" fill=\"#ffffff\" fill-rule=\"evenodd\" fill-opacity=\"1\"/>\n<polyline clip-path=\"url(#clip590)\" style=\"stroke:#000000; stroke-linecap:round; stroke-linejoin:round; stroke-width:4; stroke-opacity:1; fill:none\" points=\"\n  1699.05,250.738 2280.97,250.738 2280.97,95.2176 1699.05,95.2176 1699.05,250.738 \n  \"/>\n<path clip-path=\"url(#clip590)\" d=\"\nM1722.98 167.794 L1866.55 167.794 L1866.55 126.322 L1722.98 126.322 L1722.98 167.794  Z\n  \" fill=\"#009af9\" fill-rule=\"evenodd\" fill-opacity=\"1\"/>\n<polyline clip-path=\"url(#clip590)\" style=\"stroke:#000000; stroke-linecap:round; stroke-linejoin:round; stroke-width:4; stroke-opacity:1; fill:none\" points=\"\n  1722.98,167.794 1866.55,167.794 1866.55,126.322 1722.98,126.322 1722.98,167.794 \n  \"/>\n<path clip-path=\"url(#clip590)\" d=\"M1895.15 133.62 L1895.15 146.606 L1901.03 146.606 Q1904.29 146.606 1906.08 144.916 Q1907.86 143.227 1907.86 140.102 Q1907.86 137 1906.08 135.31 Q1904.29 133.62 1901.03 133.62 L1895.15 133.62 M1890.47 129.778 L1901.03 129.778 Q1906.84 129.778 1909.8 132.416 Q1912.79 135.032 1912.79 140.102 Q1912.79 145.217 1909.8 147.833 Q1906.84 150.449 1901.03 150.449 L1895.15 150.449 L1895.15 164.338 L1890.47 164.338 L1890.47 129.778 Z\" fill=\"#000000\" fill-rule=\"evenodd\" fill-opacity=\"1\" /><path clip-path=\"url(#clip590)\" d=\"M1917.6 154.106 L1917.6 138.412 L1921.86 138.412 L1921.86 153.944 Q1921.86 157.625 1923.3 159.476 Q1924.73 161.305 1927.6 161.305 Q1931.05 161.305 1933.04 159.106 Q1935.06 156.907 1935.06 153.111 L1935.06 138.412 L1939.32 138.412 L1939.32 164.338 L1935.06 164.338 L1935.06 160.356 Q1933.51 162.717 1931.45 163.875 Q1929.41 165.009 1926.7 165.009 Q1922.23 165.009 1919.92 162.231 Q1917.6 159.453 1917.6 154.106 M1928.32 137.787 L1928.32 137.787 Z\" fill=\"#000000\" fill-rule=\"evenodd\" fill-opacity=\"1\" /><path clip-path=\"url(#clip590)\" d=\"M1963.11 142.393 Q1962.39 141.977 1961.54 141.791 Q1960.71 141.583 1959.69 141.583 Q1956.08 141.583 1954.13 143.944 Q1952.21 146.282 1952.21 150.68 L1952.21 164.338 L1947.93 164.338 L1947.93 138.412 L1952.21 138.412 L1952.21 142.44 Q1953.55 140.078 1955.71 138.944 Q1957.86 137.787 1960.94 137.787 Q1961.38 137.787 1961.91 137.856 Q1962.44 137.903 1963.09 138.018 L1963.11 142.393 Z\" fill=\"#000000\" fill-rule=\"evenodd\" fill-opacity=\"1\" /><path clip-path=\"url(#clip590)\" d=\"M1988.71 150.31 L1988.71 152.393 L1969.13 152.393 Q1969.41 156.791 1971.77 159.106 Q1974.15 161.398 1978.39 161.398 Q1980.84 161.398 1983.14 160.796 Q1985.45 160.194 1987.72 158.99 L1987.72 163.018 Q1985.43 163.99 1983.02 164.5 Q1980.61 165.009 1978.14 165.009 Q1971.93 165.009 1968.3 161.398 Q1964.69 157.787 1964.69 151.629 Q1964.69 145.264 1968.11 141.537 Q1971.56 137.787 1977.39 137.787 Q1982.63 137.787 1985.66 141.166 Q1988.71 144.523 1988.71 150.31 M1984.45 149.06 Q1984.41 145.565 1982.49 143.481 Q1980.59 141.398 1977.44 141.398 Q1973.88 141.398 1971.72 143.412 Q1969.59 145.426 1969.27 149.083 L1984.45 149.06 Z\" fill=\"#000000\" fill-rule=\"evenodd\" fill-opacity=\"1\" /><path clip-path=\"url(#clip590)\" d=\"M2032.95 150.31 L2032.95 152.393 L2013.37 152.393 Q2013.64 156.791 2016.01 159.106 Q2018.39 161.398 2022.63 161.398 Q2025.08 161.398 2027.37 160.796 Q2029.69 160.194 2031.95 158.99 L2031.95 163.018 Q2029.66 163.99 2027.26 164.5 Q2024.85 165.009 2022.37 165.009 Q2016.17 165.009 2012.53 161.398 Q2008.92 157.787 2008.92 151.629 Q2008.92 145.264 2012.35 141.537 Q2015.8 137.787 2021.63 137.787 Q2026.86 137.787 2029.89 141.166 Q2032.95 144.523 2032.95 150.31 M2028.69 149.06 Q2028.64 145.565 2026.72 143.481 Q2024.83 141.398 2021.68 141.398 Q2018.11 141.398 2015.96 143.412 Q2013.83 145.426 2013.51 149.083 L2028.69 149.06 Z\" fill=\"#000000\" fill-rule=\"evenodd\" fill-opacity=\"1\" /><path clip-path=\"url(#clip590)\" d=\"M2036.89 138.412 L2041.4 138.412 L2049.5 160.171 L2057.6 138.412 L2062.12 138.412 L2052.39 164.338 L2046.61 164.338 L2036.89 138.412 Z\" fill=\"#000000\" fill-rule=\"evenodd\" fill-opacity=\"1\" /><path clip-path=\"url(#clip590)\" d=\"M2078.04 141.398 Q2074.62 141.398 2072.63 144.083 Q2070.63 146.745 2070.63 151.398 Q2070.63 156.051 2072.6 158.736 Q2074.59 161.398 2078.04 161.398 Q2081.45 161.398 2083.44 158.713 Q2085.43 156.027 2085.43 151.398 Q2085.43 146.791 2083.44 144.106 Q2081.45 141.398 2078.04 141.398 M2078.04 137.787 Q2083.6 137.787 2086.77 141.398 Q2089.94 145.009 2089.94 151.398 Q2089.94 157.764 2086.77 161.398 Q2083.6 165.009 2078.04 165.009 Q2072.46 165.009 2069.29 161.398 Q2066.14 157.764 2066.14 151.398 Q2066.14 145.009 2069.29 141.398 Q2072.46 137.787 2078.04 137.787 Z\" fill=\"#000000\" fill-rule=\"evenodd\" fill-opacity=\"1\" /><path clip-path=\"url(#clip590)\" d=\"M2097 128.319 L2101.26 128.319 L2101.26 164.338 L2097 164.338 L2097 128.319 Z\" fill=\"#000000\" fill-rule=\"evenodd\" fill-opacity=\"1\" /><path clip-path=\"url(#clip590)\" d=\"M2109.73 154.106 L2109.73 138.412 L2113.99 138.412 L2113.99 153.944 Q2113.99 157.625 2115.43 159.476 Q2116.86 161.305 2119.73 161.305 Q2123.18 161.305 2125.17 159.106 Q2127.19 156.907 2127.19 153.111 L2127.19 138.412 L2131.44 138.412 L2131.44 164.338 L2127.19 164.338 L2127.19 160.356 Q2125.63 162.717 2123.57 163.875 Q2121.54 165.009 2118.83 165.009 Q2114.36 165.009 2112.05 162.231 Q2109.73 159.453 2109.73 154.106 M2120.45 137.787 L2120.45 137.787 Z\" fill=\"#000000\" fill-rule=\"evenodd\" fill-opacity=\"1\" /><path clip-path=\"url(#clip590)\" d=\"M2144.43 131.051 L2144.43 138.412 L2153.2 138.412 L2153.2 141.722 L2144.43 141.722 L2144.43 155.796 Q2144.43 158.967 2145.29 159.87 Q2146.17 160.773 2148.83 160.773 L2153.2 160.773 L2153.2 164.338 L2148.83 164.338 Q2143.9 164.338 2142.02 162.509 Q2140.15 160.657 2140.15 155.796 L2140.15 141.722 L2137.02 141.722 L2137.02 138.412 L2140.15 138.412 L2140.15 131.051 L2144.43 131.051 Z\" fill=\"#000000\" fill-rule=\"evenodd\" fill-opacity=\"1\" /><path clip-path=\"url(#clip590)\" d=\"M2158.81 138.412 L2163.07 138.412 L2163.07 164.338 L2158.81 164.338 L2158.81 138.412 M2158.81 128.319 L2163.07 128.319 L2163.07 133.713 L2158.81 133.713 L2158.81 128.319 Z\" fill=\"#000000\" fill-rule=\"evenodd\" fill-opacity=\"1\" /><path clip-path=\"url(#clip590)\" d=\"M2182.02 141.398 Q2178.6 141.398 2176.61 144.083 Q2174.62 146.745 2174.62 151.398 Q2174.62 156.051 2176.58 158.736 Q2178.57 161.398 2182.02 161.398 Q2185.43 161.398 2187.42 158.713 Q2189.41 156.027 2189.41 151.398 Q2189.41 146.791 2187.42 144.106 Q2185.43 141.398 2182.02 141.398 M2182.02 137.787 Q2187.58 137.787 2190.75 141.398 Q2193.92 145.009 2193.92 151.398 Q2193.92 157.764 2190.75 161.398 Q2187.58 165.009 2182.02 165.009 Q2176.44 165.009 2173.27 161.398 Q2170.13 157.764 2170.13 151.398 Q2170.13 145.009 2173.27 141.398 Q2176.44 137.787 2182.02 137.787 Z\" fill=\"#000000\" fill-rule=\"evenodd\" fill-opacity=\"1\" /><path clip-path=\"url(#clip590)\" d=\"M2222.53 148.689 L2222.53 164.338 L2218.27 164.338 L2218.27 148.828 Q2218.27 145.148 2216.84 143.319 Q2215.4 141.49 2212.53 141.49 Q2209.08 141.49 2207.09 143.69 Q2205.1 145.889 2205.1 149.685 L2205.1 164.338 L2200.82 164.338 L2200.82 138.412 L2205.1 138.412 L2205.1 142.44 Q2206.63 140.102 2208.69 138.944 Q2210.77 137.787 2213.48 137.787 Q2217.95 137.787 2220.24 140.565 Q2222.53 143.319 2222.53 148.689 Z\" fill=\"#000000\" fill-rule=\"evenodd\" fill-opacity=\"1\" /><path clip-path=\"url(#clip590)\" d=\"\nM1722.98 219.634 L1866.55 219.634 L1866.55 178.162 L1722.98 178.162 L1722.98 219.634  Z\n  \" fill=\"#e26f46\" fill-rule=\"evenodd\" fill-opacity=\"1\"/>\n<polyline clip-path=\"url(#clip590)\" style=\"stroke:#000000; stroke-linecap:round; stroke-linejoin:round; stroke-width:4; stroke-opacity:1; fill:none\" points=\"\n  1722.98,219.634 1866.55,219.634 1866.55,178.162 1722.98,178.162 1722.98,219.634 \n  \"/>\n<path clip-path=\"url(#clip590)\" d=\"M1890.47 181.618 L1897.44 181.618 L1906.26 205.136 L1915.13 181.618 L1922.09 181.618 L1922.09 216.178 L1917.53 216.178 L1917.53 185.83 L1908.62 209.534 L1903.92 209.534 L1895.01 185.83 L1895.01 216.178 L1890.47 216.178 L1890.47 181.618 Z\" fill=\"#000000\" fill-rule=\"evenodd\" fill-opacity=\"1\" /><path clip-path=\"url(#clip590)\" d=\"M1931.19 190.252 L1935.45 190.252 L1935.45 216.178 L1931.19 216.178 L1931.19 190.252 M1931.19 180.159 L1935.45 180.159 L1935.45 185.553 L1931.19 185.553 L1931.19 180.159 Z\" fill=\"#000000\" fill-rule=\"evenodd\" fill-opacity=\"1\" /><path clip-path=\"url(#clip590)\" d=\"M1965.91 190.252 L1956.54 202.867 L1966.4 216.178 L1961.38 216.178 L1953.83 205.992 L1946.28 216.178 L1941.26 216.178 L1951.33 202.613 L1942.12 190.252 L1947.14 190.252 L1954.02 199.488 L1960.89 190.252 L1965.91 190.252 Z\" fill=\"#000000\" fill-rule=\"evenodd\" fill-opacity=\"1\" /><path clip-path=\"url(#clip590)\" d=\"M1993.14 202.15 L1993.14 204.233 L1973.55 204.233 Q1973.83 208.631 1976.19 210.946 Q1978.58 213.238 1982.81 213.238 Q1985.27 213.238 1987.56 212.636 Q1989.87 212.034 1992.14 210.83 L1992.14 214.858 Q1989.85 215.83 1987.44 216.34 Q1985.03 216.849 1982.56 216.849 Q1976.35 216.849 1972.72 213.238 Q1969.11 209.627 1969.11 203.469 Q1969.11 197.104 1972.53 193.377 Q1975.98 189.627 1981.82 189.627 Q1987.05 189.627 1990.08 193.006 Q1993.14 196.363 1993.14 202.15 M1988.88 200.9 Q1988.83 197.405 1986.91 195.321 Q1985.01 193.238 1981.86 193.238 Q1978.3 193.238 1976.14 195.252 Q1974.02 197.266 1973.69 200.923 L1988.88 200.9 Z\" fill=\"#000000\" fill-rule=\"evenodd\" fill-opacity=\"1\" /><path clip-path=\"url(#clip590)\" d=\"M2017.19 194.187 L2017.19 180.159 L2021.45 180.159 L2021.45 216.178 L2017.19 216.178 L2017.19 212.289 Q2015.84 214.603 2013.78 215.738 Q2011.75 216.849 2008.88 216.849 Q2004.18 216.849 2001.21 213.099 Q1998.27 209.349 1998.27 203.238 Q1998.27 197.127 2001.21 193.377 Q2004.18 189.627 2008.88 189.627 Q2011.75 189.627 2013.78 190.761 Q2015.84 191.872 2017.19 194.187 M2002.67 203.238 Q2002.67 207.937 2004.59 210.622 Q2006.54 213.284 2009.92 213.284 Q2013.3 213.284 2015.24 210.622 Q2017.19 207.937 2017.19 203.238 Q2017.19 198.539 2015.24 195.877 Q2013.3 193.192 2009.92 193.192 Q2006.54 193.192 2004.59 195.877 Q2002.67 198.539 2002.67 203.238 Z\" fill=\"#000000\" fill-rule=\"evenodd\" fill-opacity=\"1\" /><path clip-path=\"url(#clip590)\" d=\"M2067.46 202.15 L2067.46 204.233 L2047.88 204.233 Q2048.16 208.631 2050.52 210.946 Q2052.9 213.238 2057.14 213.238 Q2059.59 213.238 2061.89 212.636 Q2064.2 212.034 2066.47 210.83 L2066.47 214.858 Q2064.18 215.83 2061.77 216.34 Q2059.36 216.849 2056.89 216.849 Q2050.68 216.849 2047.05 213.238 Q2043.44 209.627 2043.44 203.469 Q2043.44 197.104 2046.86 193.377 Q2050.31 189.627 2056.14 189.627 Q2061.38 189.627 2064.41 193.006 Q2067.46 196.363 2067.46 202.15 M2063.2 200.9 Q2063.16 197.405 2061.24 195.321 Q2059.34 193.238 2056.19 193.238 Q2052.63 193.238 2050.47 195.252 Q2048.34 197.266 2048.02 200.923 L2063.2 200.9 Z\" fill=\"#000000\" fill-rule=\"evenodd\" fill-opacity=\"1\" /><path clip-path=\"url(#clip590)\" d=\"M2071.4 190.252 L2075.91 190.252 L2084.01 212.011 L2092.12 190.252 L2096.63 190.252 L2086.91 216.178 L2081.12 216.178 L2071.4 190.252 Z\" fill=\"#000000\" fill-rule=\"evenodd\" fill-opacity=\"1\" /><path clip-path=\"url(#clip590)\" d=\"M2112.56 193.238 Q2109.13 193.238 2107.14 195.923 Q2105.15 198.585 2105.15 203.238 Q2105.15 207.891 2107.12 210.576 Q2109.11 213.238 2112.56 213.238 Q2115.96 213.238 2117.95 210.553 Q2119.94 207.867 2119.94 203.238 Q2119.94 198.631 2117.95 195.946 Q2115.96 193.238 2112.56 193.238 M2112.56 189.627 Q2118.11 189.627 2121.28 193.238 Q2124.45 196.849 2124.45 203.238 Q2124.45 209.604 2121.28 213.238 Q2118.11 216.849 2112.56 216.849 Q2106.98 216.849 2103.81 213.238 Q2100.66 209.604 2100.66 203.238 Q2100.66 196.849 2103.81 193.238 Q2106.98 189.627 2112.56 189.627 Z\" fill=\"#000000\" fill-rule=\"evenodd\" fill-opacity=\"1\" /><path clip-path=\"url(#clip590)\" d=\"M2131.51 180.159 L2135.77 180.159 L2135.77 216.178 L2131.51 216.178 L2131.51 180.159 Z\" fill=\"#000000\" fill-rule=\"evenodd\" fill-opacity=\"1\" /><path clip-path=\"url(#clip590)\" d=\"M2144.25 205.946 L2144.25 190.252 L2148.5 190.252 L2148.5 205.784 Q2148.5 209.465 2149.94 211.316 Q2151.38 213.145 2154.25 213.145 Q2157.69 213.145 2159.69 210.946 Q2161.7 208.747 2161.7 204.951 L2161.7 190.252 L2165.96 190.252 L2165.96 216.178 L2161.7 216.178 L2161.7 212.196 Q2160.15 214.557 2158.09 215.715 Q2156.05 216.849 2153.34 216.849 Q2148.88 216.849 2146.56 214.071 Q2144.25 211.293 2144.25 205.946 M2154.96 189.627 L2154.96 189.627 Z\" fill=\"#000000\" fill-rule=\"evenodd\" fill-opacity=\"1\" /><path clip-path=\"url(#clip590)\" d=\"M2178.94 182.891 L2178.94 190.252 L2187.72 190.252 L2187.72 193.562 L2178.94 193.562 L2178.94 207.636 Q2178.94 210.807 2179.8 211.71 Q2180.68 212.613 2183.34 212.613 L2187.72 212.613 L2187.72 216.178 L2183.34 216.178 Q2178.41 216.178 2176.54 214.349 Q2174.66 212.497 2174.66 207.636 L2174.66 193.562 L2171.54 193.562 L2171.54 190.252 L2174.66 190.252 L2174.66 182.891 L2178.94 182.891 Z\" fill=\"#000000\" fill-rule=\"evenodd\" fill-opacity=\"1\" /><path clip-path=\"url(#clip590)\" d=\"M2193.32 190.252 L2197.58 190.252 L2197.58 216.178 L2193.32 216.178 L2193.32 190.252 M2193.32 180.159 L2197.58 180.159 L2197.58 185.553 L2193.32 185.553 L2193.32 180.159 Z\" fill=\"#000000\" fill-rule=\"evenodd\" fill-opacity=\"1\" /><path clip-path=\"url(#clip590)\" d=\"M2216.54 193.238 Q2213.11 193.238 2211.12 195.923 Q2209.13 198.585 2209.13 203.238 Q2209.13 207.891 2211.1 210.576 Q2213.09 213.238 2216.54 213.238 Q2219.94 213.238 2221.93 210.553 Q2223.92 207.867 2223.92 203.238 Q2223.92 198.631 2221.93 195.946 Q2219.94 193.238 2216.54 193.238 M2216.54 189.627 Q2222.09 189.627 2225.26 193.238 Q2228.44 196.849 2228.44 203.238 Q2228.44 209.604 2225.26 213.238 Q2222.09 216.849 2216.54 216.849 Q2210.96 216.849 2207.79 213.238 Q2204.64 209.604 2204.64 203.238 Q2204.64 196.849 2207.79 193.238 Q2210.96 189.627 2216.54 189.627 Z\" fill=\"#000000\" fill-rule=\"evenodd\" fill-opacity=\"1\" /><path clip-path=\"url(#clip590)\" d=\"M2257.05 200.529 L2257.05 216.178 L2252.79 216.178 L2252.79 200.668 Q2252.79 196.988 2251.35 195.159 Q2249.92 193.33 2247.05 193.33 Q2243.6 193.33 2241.61 195.53 Q2239.62 197.729 2239.62 201.525 L2239.62 216.178 L2235.33 216.178 L2235.33 190.252 L2239.62 190.252 L2239.62 194.28 Q2241.14 191.942 2243.2 190.784 Q2245.29 189.627 2248 189.627 Q2252.46 189.627 2254.75 192.405 Q2257.05 195.159 2257.05 200.529 Z\" fill=\"#000000\" fill-rule=\"evenodd\" fill-opacity=\"1\" /></svg>\n"
     },
     "execution_count": 44,
     "metadata": {},
     "output_type": "execute_result"
    }
   ],
   "source": [
    "histogram(v_first_jump_times_pure, nbins=30, label=\"Pure evolution\")\n",
    "histogram!(v_first_jump_times, nbins=30, label=\"Mixed evolution\")"
   ]
  },
  {
   "cell_type": "code",
   "execution_count": 57,
   "metadata": {},
   "outputs": [
    {
     "data": {
      "text/plain": [
       "state_at_time_on_trajectory_mixed (generic function with 1 method)"
      ]
     },
     "execution_count": 57,
     "metadata": {},
     "output_type": "execute_result"
    }
   ],
   "source": [
    "function state_at_time_on_trajectory_mixed(\n",
    "    t_range::StepRangeLen{Float64, Base.TwicePrecision{Float64}, Base.TwicePrecision{Float64}, Int64},\n",
    "    relevant_times::StepRangeLen{Float64, Base.TwicePrecision{Float64}, Base.TwicePrecision{Float64}, Int64},\n",
    "    V::Vector{Matrix{ComplexF64}},\n",
    "    trajectory_data::Vector{Dict{String, Any}})\n",
    "\n",
    "    println(\"Started state at time on trajectory\")\n",
    "\n",
    "    # Creates an array of states.\n",
    "    v_states = Matrix{ComplexF64}[]\n",
    "\n",
    "    # Creates an array of jump times.\n",
    "    jump_times = [trajectory_data[i][\"AbsTime\"] for i in eachindex(trajectory_data)]\n",
    "    # Creates an array of states after the jumps.\n",
    "    ρ_after_jumps = [trajectory_data[i][\"ρAfter\"] for i in eachindex(trajectory_data)]\n",
    "\n",
    "    println(\"Created the relevant arrays\")\n",
    "\n",
    "    # Cycles over the jumps times.\n",
    "    for n_jump in 1:length(jump_times)-1\n",
    "        next_jump_time = jump_times[n_jump + 1]\n",
    "        # Determines the set of relevant times between this jump and the following one.\n",
    "        relevant_times_in_interval = [t for t in relevant_times if jump_times[n_jump] <= t < next_jump_time]\n",
    "        # Cycles over the relevant times.\n",
    "        for t_abs in relevant_times_in_interval\n",
    "            ρ = ρ_after_jumps[n_jump]\n",
    "            n_t = find_nearest(t_range, t_abs - jump_times[n_jump])[1]\n",
    "            vect_ρ = V[n_t] * vectorize(ρ)\n",
    "            ρ = unvectorize(vect_ρ)\n",
    "            norm = real(tr(ρ))\n",
    "            ρ = ρ / norm\n",
    "            push!(v_states, ρ)\n",
    "        end\n",
    "    end\n",
    "\n",
    "    # Now computes the state for all times after the latest jump.\n",
    "    last_jump_absolute_time = last(jump_times)\n",
    "    relevant_times_after_last_jump = [t for t in relevant_times if t >= last_jump_absolute_time]\n",
    "    for t_abs in relevant_times_after_last_jump\n",
    "        ρ = last(ρ_after_jumps)\n",
    "        n_t = find_nearest(t_range, t_abs - last_jump_absolute_time)[1]\n",
    "        vect_ρ = V[n_t] * vectorize(ρ)\n",
    "        ρ = unvectorize(vect_ρ)\n",
    "        norm = real(tr(ρ))\n",
    "        ρ = ρ / norm\n",
    "        push!(v_states, ρ)\n",
    "    end\n",
    "\n",
    "    return v_states\n",
    "end"
   ]
  },
  {
   "cell_type": "code",
   "execution_count": 58,
   "metadata": {},
   "outputs": [
    {
     "data": {
      "text/plain": [
       "compute_states_at_times_mixed (generic function with 3 methods)"
      ]
     },
     "execution_count": 58,
     "metadata": {},
     "output_type": "execute_result"
    }
   ],
   "source": [
    "function compute_states_at_times_mixed(\n",
    "    H::Matrix{ComplexF64},\n",
    "    M_l::Vector{Matrix{ComplexF64}},\n",
    "    S_l::Vector{Matrix{ComplexF64}},\n",
    "    ρ0::Matrix{ComplexF64},\n",
    "    t_final::Float64,\n",
    "    dt::Float64,\n",
    "    number_trajectories::Int64,\n",
    "    verbose::Bool=false,\n",
    "    compute_V_each_step=false)\n",
    "\n",
    "\n",
    "    trajectories_results, V, t_range = gillespie_partial_monitoring(H, M_l, S_l, ρ0, t_final, dt, number_trajectories, verbose)\n",
    "    println()\n",
    "\n",
    "    results = Vector{Vector{ComplexF64}}[]\n",
    "\n",
    "    for n_trajectory in eachindex(trajectories_results)\n",
    "        v_states = state_at_time_on_trajectory_mixed(t_range, t_range, V, trajectories_results[n_trajectory])\n",
    "        push!(results, v_states)\n",
    "    end\n",
    "\n",
    "    return results\n",
    "\n",
    "end"
   ]
  },
  {
   "cell_type": "code",
   "execution_count": 59,
   "metadata": {},
   "outputs": [
    {
     "name": "stdout",
     "output_type": "stream",
     "text": [
      "\n",
      "Started state at time on trajectory\n"
     ]
    },
    {
     "ename": "LoadError",
     "evalue": "MethodError: no method matching Vector{ComplexF64}(::Matrix{ComplexF64})\n\u001b[0mClosest candidates are:\n\u001b[0m  Array{T, N}(::AbstractArray{S, N}) where {T, N, S} at /Applications/Julia-1.7.app/Contents/Resources/julia/share/julia/base/array.jl:563\n\u001b[0m  Vector{T}() where T at /Applications/Julia-1.7.app/Contents/Resources/julia/share/julia/base/boot.jl:476\n\u001b[0m  Vector{T}(\u001b[91m::AbstractRange{T}\u001b[39m) where T at /Applications/Julia-1.7.app/Contents/Resources/julia/share/julia/base/range.jl:1286\n\u001b[0m  ...",
     "output_type": "error",
     "traceback": [
      "MethodError: no method matching Vector{ComplexF64}(::Matrix{ComplexF64})\n\u001b[0mClosest candidates are:\n\u001b[0m  Array{T, N}(::AbstractArray{S, N}) where {T, N, S} at /Applications/Julia-1.7.app/Contents/Resources/julia/share/julia/base/array.jl:563\n\u001b[0m  Vector{T}() where T at /Applications/Julia-1.7.app/Contents/Resources/julia/share/julia/base/boot.jl:476\n\u001b[0m  Vector{T}(\u001b[91m::AbstractRange{T}\u001b[39m) where T at /Applications/Julia-1.7.app/Contents/Resources/julia/share/julia/base/range.jl:1286\n\u001b[0m  ...",
      "",
      "Stacktrace:",
      "  [1] convert(#unused#::Type{Vector{ComplexF64}}, a::Matrix{ComplexF64})",
      "    @ Base ./array.jl:554",
      "  [2] setindex!(A::Vector{Vector{ComplexF64}}, x::Matrix{ComplexF64}, i1::Int64)",
      "    @ Base ./array.jl:903",
      "  [3] _unsafe_copyto!(dest::Vector{Vector{ComplexF64}}, doffs::Int64, src::Vector{Matrix{ComplexF64}}, soffs::Int64, n::Int64)",
      "    @ Base ./array.jl:253",
      "  [4] unsafe_copyto!",
      "    @ ./array.jl:307 [inlined]",
      "  [5] _copyto_impl!",
      "    @ ./array.jl:331 [inlined]",
      "  [6] copyto!",
      "    @ ./array.jl:317 [inlined]",
      "  [7] copyto!",
      "    @ ./array.jl:343 [inlined]",
      "  [8] copyto_axcheck!",
      "    @ ./abstractarray.jl:1104 [inlined]",
      "  [9] Vector{Vector{ComplexF64}}(x::Vector{Matrix{ComplexF64}})",
      "    @ Base ./array.jl:563",
      " [10] convert",
      "    @ ./array.jl:554 [inlined]",
      " [11] push!",
      "    @ ./array.jl:994 [inlined]",
      " [12] compute_states_at_times_mixed(H::Matrix{ComplexF64}, M_l::Vector{Matrix{ComplexF64}}, S_l::Vector{Matrix{ComplexF64}}, ρ0::Matrix{ComplexF64}, t_final::Float64, dt::Float64, number_trajectories::Int64, verbose::Bool, compute_V_each_step::Bool)",
      "    @ Main ./In[58]:20",
      " [13] compute_states_at_times_mixed(H::Matrix{ComplexF64}, M_l::Vector{Matrix{ComplexF64}}, S_l::Vector{Matrix{ComplexF64}}, ρ0::Matrix{ComplexF64}, t_final::Float64, dt::Float64, number_trajectories::Int64, verbose::Bool)",
      "    @ Main ./In[58]:13",
      " [14] top-level scope",
      "    @ In[59]:1",
      " [15] eval",
      "    @ ./boot.jl:373 [inlined]",
      " [16] include_string(mapexpr::typeof(REPL.softscope), mod::Module, code::String, filename::String)",
      "    @ Base ./loading.jl:1196"
     ]
    }
   ],
   "source": [
    "results = compute_states_at_times_mixed(H, M_l, S_l, ρ0, t_final, dt, number_trajectories, false);\n",
    "\n",
    "\n",
    "σp_B = kron(ide, [0 0 ; 0 1])\n",
    "v_ave_up_B = zeros(length(0:dt:t_final))\n",
    "for n_traj in 1:number_trajectories\n",
    "    for n_t in eachindex(results[1])\n",
    "        ψ = results[n_traj][n_t]\n",
    "        ρ = ψ * ψ'\n",
    "        v_ave_up_B[n_t] += (tr(ρ * σp_B)).re / number_trajectories\n",
    "    end\n",
    "end\n",
    "\n",
    "plot(0:dt:t_final, v_ave_up_B, xlabel=\"t\", ylabel=\"<n>_B\", label=\"exp.val.\")"
   ]
  },
  {
   "cell_type": "code",
   "execution_count": null,
   "metadata": {},
   "outputs": [],
   "source": []
  }
 ],
 "metadata": {
  "kernelspec": {
   "display_name": "Julia 1.7.2",
   "language": "julia",
   "name": "julia-1.7"
  },
  "language_info": {
   "file_extension": ".jl",
   "mimetype": "application/julia",
   "name": "julia",
   "version": "1.7.2"
  },
  "orig_nbformat": 4
 },
 "nbformat": 4,
 "nbformat_minor": 2
}
