{
 "cells": [
  {
   "cell_type": "code",
   "execution_count": 1,
   "metadata": {},
   "outputs": [
    {
     "name": "stderr",
     "output_type": "stream",
     "text": [
      "┌ Info: Precompiling Gillespie [729a31f5-a1d2-4878-91b8-ebdf25b224de]\n",
      "└ @ Base loading.jl:1423\n",
      "WARNING: Method definition vectorize(Any) in module Gillespie at /Users/marco.radaelli/Desktop/GillespieQuantumJumps/src/PartialMonitoring.jl:12 overwritten at /Users/marco.radaelli/Desktop/GillespieQuantumJumps/src/Gillespie.jl:493.\n",
      "  ** incremental compilation may be fatally broken for this module **\n",
      "\n",
      "\u001b[33m\u001b[1m┌ \u001b[22m\u001b[39m\u001b[33m\u001b[1mWarning: \u001b[22m\u001b[39mReplacing docs for `Gillespie.vectorize :: Tuple{Any}` in module `Gillespie`\n",
      "\u001b[33m\u001b[1m└ \u001b[22m\u001b[39m\u001b[90m@ Base.Docs docs/Docs.jl:240\u001b[39m\n",
      "WARNING: Method definition unvectorize(Any) in module Gillespie at /Users/marco.radaelli/Desktop/GillespieQuantumJumps/src/PartialMonitoring.jl:27 overwritten at /Users/marco.radaelli/Desktop/GillespieQuantumJumps/src/Gillespie.jl:508.\n",
      "  ** incremental compilation may be fatally broken for this module **\n",
      "\n",
      "\u001b[33m\u001b[1m┌ \u001b[22m\u001b[39m\u001b[33m\u001b[1mWarning: \u001b[22m\u001b[39mReplacing docs for `Gillespie.unvectorize :: Tuple{Any}` in module `Gillespie`\n",
      "\u001b[33m\u001b[1m└ \u001b[22m\u001b[39m\u001b[90m@ Base.Docs docs/Docs.jl:240\u001b[39m\n",
      "WARNING: Method definition gillespie_partial_monitoring(Array{Base.Complex{Float64}, 2}, Array{Array{Base.Complex{Float64}, 2}, 1}, Array{Array{Base.Complex{Float64}, 2}, 1}, Array{Base.Complex{Float64}, 2}, Float64, Float64, Int64) in module Gillespie at /Users/marco.radaelli/Desktop/GillespieQuantumJumps/src/PartialMonitoring.jl:61 overwritten at /Users/marco.radaelli/Desktop/GillespieQuantumJumps/src/Gillespie.jl:542.\n",
      "  ** incremental compilation may be fatally broken for this module **\n",
      "\n",
      "WARNING: Method definition gillespie_partial_monitoring(Array{Base.Complex{Float64}, 2}, Array{Array{Base.Complex{Float64}, 2}, 1}, Array{Array{Base.Complex{Float64}, 2}, 1}, Array{Base.Complex{Float64}, 2}, Float64, Float64, Int64, Bool) in module Gillespie at /Users/marco.radaelli/Desktop/GillespieQuantumJumps/src/PartialMonitoring.jl:61 overwritten at /Users/marco.radaelli/Desktop/GillespieQuantumJumps/src/Gillespie.jl:542.\n",
      "  ** incremental compilation may be fatally broken for this module **\n",
      "\n",
      "\u001b[33m\u001b[1m┌ \u001b[22m\u001b[39m\u001b[33m\u001b[1mWarning: \u001b[22m\u001b[39mReplacing docs for `Gillespie.gillespie_partial_monitoring :: Union{Tuple{Matrix{ComplexF64}, Vector{Matrix{ComplexF64}}, Vector{Matrix{ComplexF64}}, Matrix{ComplexF64}, Float64, Float64, Int64}, Tuple{Matrix{ComplexF64}, Vector{Matrix{ComplexF64}}, Vector{Matrix{ComplexF64}}, Matrix{ComplexF64}, Float64, Float64, Int64, Bool}}` in module `Gillespie`\n",
      "\u001b[33m\u001b[1m└ \u001b[22m\u001b[39m\u001b[90m@ Base.Docs docs/Docs.jl:240\u001b[39m\n"
     ]
    }
   ],
   "source": [
    "using Gillespie\n",
    "using Plots\n",
    "using LinearAlgebra"
   ]
  },
  {
   "cell_type": "code",
   "execution_count": null,
   "metadata": {},
   "outputs": [],
   "source": [
    "# Model parameters.\n",
    "ωA = 1.\n",
    "ωB = 1.\n",
    "ΩA = 0.\n",
    "ΩB = 1.\n",
    "γ = 0.1\n",
    "g = 0.1\n",
    "\n",
    "# Initial state.\n",
    "ψ0_A = complex(float([1 ; 0]))\n",
    "ψ0_B = complex(float([1 ; 0]))\n",
    "ψ0 = kron(ψ0_A, ψ0_B)\n",
    "\n",
    "# Simulation parameters.\n",
    "t_final = 50.\n",
    "dt = 0.01\n",
    "number_trajectories = 1000\n",
    "\n",
    "# Operators.\n",
    "σx = complex(float([0 1 ; 1 0]))\n",
    "σy = complex(float([0 -1im ; 1im 0]))\n",
    "σz = complex(float([1 0 ; 0 -1]))\n",
    "ide = complex(float([1 0 ; 0 1]))\n",
    "σp = (σx + 1im * σy)/2\n",
    "σ = σp'\n",
    "# Tensorized versions.\n",
    "σ_A = kron(σ, ide)\n",
    "σ_B = kron(ide, σ)\n",
    "σx_A = kron(σx, ide)\n",
    "σx_B = kron(ide, σx)\n",
    "σz_A = kron(σz, ide)\n",
    "σz_B = kron(ide, σz)\n",
    "\n",
    "# Hamiltonian.\n",
    "H = ωA * σz_A + ωB * σz_B + ΩA * σx_A + ΩB * σx_B + g * (σ_A * σ_B' + σ_A' * σ_B)\n",
    "\n",
    "# Jump operator.\n",
    "M = sqrt(γ) * σ_B\n",
    "\n",
    "# The jump operators have to be passed as lists.\n",
    "M_l = [M];\n",
    "\n",
    "# Number operator.\n",
    "num_op = [0 0 ; 0 1]\n",
    "num_op_B = kron(ide, num_op)"
   ]
  }
 ],
 "metadata": {
  "kernelspec": {
   "display_name": "Julia 1.7.2",
   "language": "julia",
   "name": "julia-1.7"
  },
  "language_info": {
   "file_extension": ".jl",
   "mimetype": "application/julia",
   "name": "julia",
   "version": "1.7.2"
  },
  "orig_nbformat": 4,
  "vscode": {
   "interpreter": {
    "hash": "610c699f0cd8c4f129acd9140687fff6866bed0eb8e82f249fc8848b827b628c"
   }
  }
 },
 "nbformat": 4,
 "nbformat_minor": 2
}
