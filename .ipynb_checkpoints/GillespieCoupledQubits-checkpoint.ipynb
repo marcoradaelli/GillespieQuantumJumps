{
 "cells": [
  {
   "cell_type": "code",
   "execution_count": 2,
   "id": "708d0ee6",
   "metadata": {},
   "outputs": [],
   "source": [
    "using Gillespie\n",
    "using Plots"
   ]
  },
  {
   "cell_type": "code",
   "execution_count": 3,
   "id": "d105d164",
   "metadata": {},
   "outputs": [
    {
     "data": {
      "text/plain": [
       "3000"
      ]
     },
     "execution_count": 3,
     "metadata": {},
     "output_type": "execute_result"
    }
   ],
   "source": [
    "# Model parameters.\n",
    "ωA = 1.\n",
    "ωB = 1.\n",
    "ΩA = 0.\n",
    "ΩB = 1.\n",
    "γ = 0.1\n",
    "\n",
    "# Initial state.\n",
    "ψ0_A = complex(float([1 ; 0]))\n",
    "ψ0_B = complex(float([1 ; 0]))\n",
    "ψ0 = kron(ψ0_A, ψ0_B)\n",
    "\n",
    "# Simulation parameters.\n",
    "t_final = 50.\n",
    "dt = 0.01\n",
    "number_trajectories = 1000\n",
    "\n",
    "# Operators.\n",
    "σ = complex(float([0 1 ; 0 0]))\n",
    "σz = complex(float([1 0 ; 0 -1]))\n",
    "ide = complex(float([1 0 ; 0 1]))\n",
    "σ_A = kron(σ, ide)\n",
    "σ_B = kron(ide, σ)\n",
    "σx_A = kron(σx, ide)\n",
    "σx_B = kron(ide, σx)\n",
    "σz_A = kron(σz, ide)\n",
    "σz_B = kron(ide, σz)\n",
    "\n",
    "# Hamiltonian.\n",
    "H = ωA * σz_A + ωB * σz_B + ΩA * σx_A + ΩB * σx_B + g * (σ_A * σ_B' + σ_A' * σ_B)\n",
    "# Displaced versions.\n",
    "Hp = ωA * σz_A + (ωB + dω) * σz_B + ΩA * σx_A + ΩB * σx_B + g * (σ_A * σ_B' + σ_A' * σ_B)\n",
    "Hm = ωA * σz_A + (ωB - dω) * σz_B + ΩA * σx_A + ΩB * σx_B + g * (σ_A * σ_B' + σ_A' * σ_B)\n",
    "\n",
    "# Jump operator.\n",
    "M = sqrt(γ) * σ_B\n",
    "# The jump operator does not depend on the parameter.\n",
    "Mp = M\n",
    "Mm = M\n",
    "\n",
    "# The jump operators have to be passed as lists.\n",
    "M_l = [M]\n",
    "Mp_l = [Mp]\n",
    "Mm_l = [Mm];"
   ]
  },
  {
   "cell_type": "code",
   "execution_count": null,
   "id": "9c0b6420",
   "metadata": {},
   "outputs": [],
   "source": []
  }
 ],
 "metadata": {
  "kernelspec": {
   "display_name": "Julia 1.7.2",
   "language": "julia",
   "name": "julia-1.7"
  },
  "language_info": {
   "file_extension": ".jl",
   "mimetype": "application/julia",
   "name": "julia",
   "version": "1.7.2"
  }
 },
 "nbformat": 4,
 "nbformat_minor": 5
}
