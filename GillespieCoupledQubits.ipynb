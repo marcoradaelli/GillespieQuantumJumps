{
 "cells": [
  {
   "cell_type": "code",
   "execution_count": 11,
   "id": "0dc11c0d",
   "metadata": {},
   "outputs": [],
   "source": [
    "using Gillespie\n",
    "using Plots"
   ]
  },
  {
   "cell_type": "code",
   "execution_count": 12,
   "id": "4d5f47b3",
   "metadata": {},
   "outputs": [],
   "source": [
    "# Model parameters.\n",
    "ωA = 1.\n",
    "ωB = 1.\n",
    "ΩA = 0.\n",
    "ΩB = 1.\n",
    "γ = 0.1\n",
    "g = 0.1\n",
    "\n",
    "# Initial state.\n",
    "ψ0_A = complex(float([1 ; 0]))\n",
    "ψ0_B = complex(float([1 ; 0]))\n",
    "ψ0 = kron(ψ0_A, ψ0_B)\n",
    "\n",
    "# Simulation parameters.\n",
    "t_final = 50.\n",
    "dt = 0.01\n",
    "number_trajectories = 1000\n",
    "\n",
    "# Operators.\n",
    "σ = complex(float([0 1 ; 0 0]))\n",
    "σz = complex(float([1 0 ; 0 -1]))\n",
    "ide = complex(float([1 0 ; 0 1]))\n",
    "σx = σ + σ'\n",
    "# Tensorized versions.\n",
    "σ_A = kron(σ, ide)\n",
    "σ_B = kron(ide, σ)\n",
    "σx_A = kron(σx, ide)\n",
    "σx_B = kron(ide, σx)\n",
    "σz_A = kron(σz, ide)\n",
    "σz_B = kron(ide, σz)\n",
    "\n",
    "# Hamiltonian.\n",
    "H = ωA * σz_A + ωB * σz_B + ΩA * σx_A + ΩB * σx_B + g * (σ_A * σ_B' + σ_A' * σ_B)\n",
    "\n",
    "# Jump operator.\n",
    "M = sqrt(γ) * σ_B\n",
    "\n",
    "# The jump operators have to be passed as lists.\n",
    "M_l = [M];"
   ]
  },
  {
   "cell_type": "code",
   "execution_count": 13,
   "id": "d09b4481",
   "metadata": {},
   "outputs": [
    {
     "name": "stderr",
     "output_type": "stream",
     "text": [
      "\u001b[32mGillespie evolution... 100%|█████████████████████████████| Time: 0:00:01\u001b[39m\n"
     ]
    },
    {
     "name": "stdout",
     "output_type": "stream",
     "text": [
      "-> Truncation error given by norm of latest Qs matrix: 0.01199907362700731\n"
     ]
    },
    {
     "ename": "LoadError",
     "evalue": "UndefVarError: Vdot not defined",
     "output_type": "error",
     "traceback": [
      "UndefVarError: Vdot not defined",
      "",
      "Stacktrace:",
      " [1] gillespie(H::Matrix{ComplexF64}, M_l::Vector{Matrix{ComplexF64}}, ψ0::Vector{ComplexF64}, t_final::Float64, dt::Float64, number_trajectories::Int64, verbose::Bool)",
      "   @ Gillespie ~/Desktop/GillespieQuantumJumps/src/Gillespie.jl:118",
      " [2] compute_states_at_times(H::Matrix{ComplexF64}, M_l::Vector{Matrix{ComplexF64}}, ψ0::Vector{ComplexF64}, t_final::Float64, dt::Float64, number_trajectories::Int64, verbose::Bool)",
      "   @ Gillespie ~/Desktop/GillespieQuantumJumps/src/Gillespie.jl:173",
      " [3] top-level scope",
      "   @ In[13]:1",
      " [4] eval",
      "   @ ./boot.jl:373 [inlined]",
      " [5] include_string(mapexpr::typeof(REPL.softscope), mod::Module, code::String, filename::String)",
      "   @ Base ./loading.jl:1196"
     ]
    }
   ],
   "source": [
    "results = Gillespie.compute_states_at_times(H, M_l, ψ0, t_final, dt, number_trajectories, false)"
   ]
  },
  {
   "cell_type": "code",
   "execution_count": null,
   "id": "c80eaa3e",
   "metadata": {},
   "outputs": [],
   "source": []
  }
 ],
 "metadata": {
  "kernelspec": {
   "display_name": "Julia 1.7.2",
   "language": "julia",
   "name": "julia-1.7"
  },
  "language_info": {
   "file_extension": ".jl",
   "mimetype": "application/julia",
   "name": "julia",
   "version": "1.7.2"
  }
 },
 "nbformat": 4,
 "nbformat_minor": 5
}
